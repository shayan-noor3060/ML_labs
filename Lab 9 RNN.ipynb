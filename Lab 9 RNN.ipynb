{
 "cells": [
  {
   "cell_type": "code",
   "execution_count": 1,
   "metadata": {},
   "outputs": [],
   "source": [
    "import os\n",
    "os.chdir('C:\\\\Users\\\\Administrator\\\\Downloads\\\\ML Lab')"
   ]
  },
  {
   "cell_type": "code",
   "execution_count": 4,
   "metadata": {},
   "outputs": [],
   "source": [
    "from sklearn.metrics import mean_squared_error, mean_absolute_error, explained_variance_score, r2_score\n",
    "from timeseires.utils.to_split import to_split\n",
    "from timeseires.utils.multivariate_multi_step import multivariate_multi_step\n",
    "from timeseires.utils.multivariate_single_step import multivariate_single_step\n",
    "from timeseires.utils.univariate_multi_step import univariate_multi_step\n",
    "from timeseires.utils.univariate_single_step import univariate_single_step\n",
    "from timeseires.utils.CosineAnnealingLRS import CosineAnnealingLRS\n",
    "from timeseires.callbacks.EpochCheckpoint import EpochCheckpoint\n",
    "from tensorflow.keras.callbacks import ModelCheckpoint\n",
    "from timeseires.callbacks.TrainingMonitor import TrainingMonitor\n",
    "from tensorflow.keras.optimizers import Adam\n",
    "from tensorflow.keras.optimizers import SGD\n",
    "from tensorflow.keras.models import load_model\n",
    "from tensorflow.keras.layers import LSTM, Bidirectional, Add\n",
    "from tensorflow.keras.layers import BatchNormalization\n",
    "from tensorflow.keras.layers import Conv1D,TimeDistributed\n",
    "from tensorflow.keras.layers import Dense, Dropout, Activation, Flatten,MaxPooling1D,Concatenate,AveragePooling1D, GlobalMaxPooling1D, Input, SimpleRNN\n",
    "from tensorflow.keras.models import Sequential,Model\n",
    "import pandas as pd\n",
    "import time, pickle\n",
    "import numpy as np\n",
    "import tensorflow.keras.backend as K\n",
    "import tensorflow\n",
    "from tensorflow.keras.layers import Input, Reshape, Lambda\n",
    "from tensorflow.keras.layers import Layer, Flatten, LeakyReLU, concatenate, Dense\n",
    "from tensorflow.keras.regularizers import l2\n",
    "import glob\n",
    "import h5py\n",
    "import matplotlib.pyplot as plt\n",
    "from keras.callbacks import Callback"
   ]
  },
  {
   "cell_type": "code",
   "execution_count": 5,
   "metadata": {},
   "outputs": [],
   "source": [
    "#lookback = 24\n",
    "model = None\n",
    "start_epoch = 0\n",
    "time_steps=24\n",
    "num_features=21"
   ]
  },
  {
   "cell_type": "code",
   "execution_count": 6,
   "metadata": {},
   "outputs": [],
   "source": [
    "def create_rnn():\n",
    "    input_data = Input(shape=(time_steps, num_features))\n",
    "    rnn_layer1 = SimpleRNN(8, return_sequences=True)(input_data)\n",
    "    rnn_layer2 = SimpleRNN(20)(rnn_layer1)\n",
    "    x = Flatten()(rnn_layer2)\n",
    "    output_data = Dense(1)(x)\n",
    "    model = Model(input_data, output_data)\n",
    "    return model"
   ]
  },
  {
   "cell_type": "code",
   "execution_count": 7,
   "metadata": {
    "scrolled": true
   },
   "outputs": [
    {
     "name": "stdout",
     "output_type": "stream",
     "text": [
      "Model: \"model\"\n",
      "_________________________________________________________________\n",
      " Layer (type)                Output Shape              Param #   \n",
      "=================================================================\n",
      " input_1 (InputLayer)        [(None, 24, 21)]          0         \n",
      "                                                                 \n",
      " simple_rnn (SimpleRNN)      (None, 24, 8)             240       \n",
      "                                                                 \n",
      " simple_rnn_1 (SimpleRNN)    (None, 20)                580       \n",
      "                                                                 \n",
      " flatten (Flatten)           (None, 20)                0         \n",
      "                                                                 \n",
      " dense (Dense)               (None, 1)                 21        \n",
      "                                                                 \n",
      "=================================================================\n",
      "Total params: 841\n",
      "Trainable params: 841\n",
      "Non-trainable params: 0\n",
      "_________________________________________________________________\n"
     ]
    }
   ],
   "source": [
    "model1 = create_rnn()\n",
    "model1.summary()"
   ]
  },
  {
   "cell_type": "code",
   "execution_count": 8,
   "metadata": {},
   "outputs": [
    {
     "data": {
      "image/png": "[encoded data removed]",
      "text/plain": [
       "<IPython.core.display.Image object>"
      ]
     },
     "execution_count": 8,
     "metadata": {},
     "output_type": "execute_result"
    }
   ],
   "source": [
    "tensorflow.keras.utils.plot_model(model1 )"
   ]
  },
  {
   "cell_type": "code",
   "execution_count": 9,
   "metadata": {},
   "outputs": [],
   "source": [
    "checkpoints = r'C:\\Users\\Administrator\\Downloads\\ML Lab\\checkpoint\\ML Lab\\lab9\\\\E1-cp-{epoch:04d}-loss{val_loss:.2f}.h5'\n",
    "OUTPUT_PATH = r'C:\\Users\\Administrator\\Downloads\\ML Lab\\checkpoint\\ML Lab\\lab9'\n",
    "FIG_PATH = os.path.sep.join([OUTPUT_PATH,\"\\history.png\"])\n",
    "JSON_PATH = os.path.sep.join([OUTPUT_PATH,\"\\history.json\"])"
   ]
  },
  {
   "cell_type": "code",
   "execution_count": 10,
   "metadata": {},
   "outputs": [],
   "source": [
    "# construct the callback to save only the *best* model to disk\n",
    "# based on the validation loss\n",
    "EpochCheckpoint1 = ModelCheckpoint(checkpoints,\n",
    "                             monitor=\"val_loss\",\n",
    "                             save_best_only=True, \n",
    "                             verbose=1)\n",
    "TrainingMonitor1=TrainingMonitor(FIG_PATH, jsonPath=JSON_PATH, startAt=start_epoch)\n",
    "\n",
    "# construct the set of callbacks\n",
    "callbacks = [EpochCheckpoint1,TrainingMonitor1]"
   ]
  },
  {
   "cell_type": "code",
   "execution_count": 13,
   "metadata": {},
   "outputs": [
    {
     "name": "stdout",
     "output_type": "stream",
     "text": [
      "[INFO] compiling model...\n"
     ]
    }
   ],
   "source": [
    "# if there is no specific model checkpoint supplied, then initialize\n",
    "# the network and compile the model\n",
    "if model is None:\n",
    "    print(\"[INFO] compiling model...\")\n",
    "    model =create_rnn()\n",
    "    opt = Adam(1e-3)\n",
    "    model.compile(loss= 'mae', optimizer=opt, metrics=[\"mae\", \"mape\"])\n",
    "# otherwise, load the checkpoint from disk\n",
    "else:\n",
    "    print(\"[INFO] loading {}...\".format(model))\n",
    "    model = load_model(model)\n",
    "\n",
    "    # update the learning rate\n",
    "    print(\"[INFO] old learning rate: {}\".format(K.get_value(model.optimizer.lr)))\n",
    "    K.set_value(model.optimizer.lr, 1e-4)\n",
    "    print(\"[INFO] new learning rate: {}\".format(K.get_value(model.optimizer.lr)))"
   ]
  },
  {
   "cell_type": "code",
   "execution_count": 14,
   "metadata": {},
   "outputs": [
    {
     "name": "stderr",
     "output_type": "stream",
     "text": [
      "C:\\Users\\Administrator\\anaconda3\\envs\\Time1\\lib\\site-packages\\sklearn\\base.py:347: InconsistentVersionWarning: Trying to unpickle estimator MinMaxScaler from version 1.0.2 when using version 1.3.0. This might lead to breaking code or invalid results. Use at your own risk. For more info please refer to:\n",
      "https://scikit-learn.org/stable/model_persistence.html#security-maintainability-limitations\n",
      "  warnings.warn(\n"
     ]
    },
    {
     "data": {
      "text/plain": [
       "((84907, 21), (24259, 21), (12130, 21))"
      ]
     },
     "execution_count": 14,
     "metadata": {},
     "output_type": "execute_result"
    }
   ],
   "source": [
    "import os\n",
    "path_dataset ='C:\\\\Users\\\\Administrator\\\\Downloads\\\\ML Lab\\\\AEP_hourly\\\\processed'\n",
    "path_tr = os.path.join(path_dataset, 'AEP_train.csv')\n",
    "df_tr = pd.read_csv(path_tr)\n",
    "train_set = df_tr.iloc[:].values\n",
    "path_v = os.path.join(path_dataset, 'AEP_validation.csv')\n",
    "df_v = pd.read_csv(path_v)\n",
    "validation_set = df_v.iloc[:].values \n",
    "path_te = os.path.join(path_dataset, 'AEP_test.csv')\n",
    "df_te = pd.read_csv(path_te)\n",
    "test_set = df_te.iloc[:].values \n",
    "\n",
    "path_scaler = os.path.join(path_dataset, 'AEP_Scaler.pkl')\n",
    "scaler         = pickle.load(open(path_scaler, 'rb'))\n",
    "\n",
    "train_set.shape, validation_set.shape, test_set.shape"
   ]
  },
  {
   "cell_type": "code",
   "execution_count": 15,
   "metadata": {},
   "outputs": [],
   "source": [
    "time_steps=24\n",
    "num_features=21"
   ]
  },
  {
   "cell_type": "code",
   "execution_count": 16,
   "metadata": {},
   "outputs": [
    {
     "name": "stdout",
     "output_type": "stream",
     "text": [
      "Time Consumed 0.3590257167816162 sec\n"
     ]
    }
   ],
   "source": [
    "start = time.time()\n",
    "train_X , train_y = univariate_multi_step(train_set, time_steps, target_col=0,target_len=1)\n",
    "validation_X, validation_y = univariate_multi_step(validation_set, time_steps, target_col=0,target_len=1)\n",
    "test_X, test_y = univariate_multi_step(test_set, time_steps, target_col=0,target_len=1)\n",
    "print('Time Consumed', time.time()-start, \"sec\")"
   ]
  },
  {
   "cell_type": "code",
   "execution_count": 17,
   "metadata": {},
   "outputs": [
    {
     "name": "stdout",
     "output_type": "stream",
     "text": [
      "Epoch 1/60\n",
      "2649/2653 [============================>.] - ETA: 0s - loss: 0.0437 - mae: 0.0437 - mape: 274.4622\n",
      "Epoch 1: val_loss improved from inf to 0.01374, saving model to C:\\Users\\Administrator\\Downloads\\ML Lab\\checkpoint\\ML Lab\\lab9\\E1-cp-0001-loss0.01.h5\n",
      "2653/2653 [==============================] - 30s 11ms/step - loss: 0.0437 - mae: 0.0437 - mape: 274.1000 - val_loss: 0.0137 - val_mae: 0.0137 - val_mape: 6.8614\n",
      "Epoch 2/60\n",
      "2652/2653 [============================>.] - ETA: 0s - loss: 0.0138 - mae: 0.0138 - mape: 297.6231\n",
      "Epoch 2: val_loss improved from 0.01374 to 0.01058, saving model to C:\\Users\\Administrator\\Downloads\\ML Lab\\checkpoint\\ML Lab\\lab9\\E1-cp-0002-loss0.01.h5\n",
      "2653/2653 [==============================] - 30s 11ms/step - loss: 0.0138 - mae: 0.0138 - mape: 297.5607 - val_loss: 0.0106 - val_mae: 0.0106 - val_mape: 4.6947\n",
      "Epoch 3/60\n",
      "2651/2653 [============================>.] - ETA: 0s - loss: 0.0119 - mae: 0.0119 - mape: 58.4868\n",
      "Epoch 3: val_loss did not improve from 0.01058\n",
      "2653/2653 [==============================] - 32s 12ms/step - loss: 0.0119 - mae: 0.0119 - mape: 58.4548 - val_loss: 0.0121 - val_mae: 0.0121 - val_mape: 5.9588\n",
      "Epoch 4/60\n",
      "2652/2653 [============================>.] - ETA: 0s - loss: 0.0111 - mae: 0.0111 - mape: 111.4118\n",
      "Epoch 4: val_loss did not improve from 0.01058\n",
      "2653/2653 [==============================] - 31s 12ms/step - loss: 0.0111 - mae: 0.0111 - mape: 111.3892 - val_loss: 0.0118 - val_mae: 0.0118 - val_mape: 5.9275\n",
      "Epoch 5/60\n",
      "2649/2653 [============================>.] - ETA: 0s - loss: 0.0104 - mae: 0.0104 - mape: 14.4505\n",
      "Epoch 5: val_loss improved from 0.01058 to 0.00964, saving model to C:\\Users\\Administrator\\Downloads\\ML Lab\\checkpoint\\ML Lab\\lab9\\E1-cp-0005-loss0.01.h5\n",
      "2653/2653 [==============================] - 30s 11ms/step - loss: 0.0104 - mae: 0.0104 - mape: 14.4355 - val_loss: 0.0096 - val_mae: 0.0096 - val_mape: 4.3431\n",
      "Epoch 6/60\n",
      "2648/2653 [============================>.] - ETA: 0s - loss: 0.0103 - mae: 0.0103 - mape: 146.7643\n",
      "Epoch 6: val_loss improved from 0.00964 to 0.00896, saving model to C:\\Users\\Administrator\\Downloads\\ML Lab\\checkpoint\\ML Lab\\lab9\\E1-cp-0006-loss0.01.h5\n",
      "2653/2653 [==============================] - 30s 11ms/step - loss: 0.0103 - mae: 0.0103 - mape: 146.5173 - val_loss: 0.0090 - val_mae: 0.0090 - val_mape: 4.4538\n",
      "Epoch 7/60\n",
      "2649/2653 [============================>.] - ETA: 0s - loss: 0.0099 - mae: 0.0099 - mape: 140.3409\n",
      "Epoch 7: val_loss did not improve from 0.00896\n",
      "2653/2653 [==============================] - 30s 11ms/step - loss: 0.0099 - mae: 0.0099 - mape: 140.1566 - val_loss: 0.0098 - val_mae: 0.0098 - val_mape: 4.1693\n",
      "Epoch 8/60\n",
      "2649/2653 [============================>.] - ETA: 0s - loss: 0.0098 - mae: 0.0098 - mape: 175.1173\n",
      "Epoch 8: val_loss did not improve from 0.00896\n",
      "2653/2653 [==============================] - 30s 11ms/step - loss: 0.0098 - mae: 0.0098 - mape: 174.8854 - val_loss: 0.0100 - val_mae: 0.0100 - val_mape: 4.9891\n",
      "Epoch 9/60\n",
      "2650/2653 [============================>.] - ETA: 0s - loss: 0.0096 - mae: 0.0096 - mape: 47.0382\n",
      "Epoch 9: val_loss improved from 0.00896 to 0.00833, saving model to C:\\Users\\Administrator\\Downloads\\ML Lab\\checkpoint\\ML Lab\\lab9\\E1-cp-0009-loss0.01.h5\n",
      "2653/2653 [==============================] - 31s 12ms/step - loss: 0.0096 - mae: 0.0096 - mape: 46.9961 - val_loss: 0.0083 - val_mae: 0.0083 - val_mape: 3.7890\n",
      "Epoch 10/60\n",
      "2649/2653 [============================>.] - ETA: 0s - loss: 0.0094 - mae: 0.0094 - mape: 182.4698\n",
      "Epoch 10: val_loss did not improve from 0.00833\n",
      "2653/2653 [==============================] - 31s 12ms/step - loss: 0.0094 - mae: 0.0094 - mape: 182.2282 - val_loss: 0.0093 - val_mae: 0.0093 - val_mape: 4.5449\n",
      "Epoch 11/60\n",
      "2649/2653 [============================>.] - ETA: 0s - loss: 0.0093 - mae: 0.0093 - mape: 203.8246\n",
      "Epoch 11: val_loss did not improve from 0.00833\n",
      "2653/2653 [==============================] - 30s 11ms/step - loss: 0.0093 - mae: 0.0093 - mape: 203.5545 - val_loss: 0.0097 - val_mae: 0.0097 - val_mape: 4.2680\n",
      "Epoch 12/60\n",
      "2651/2653 [============================>.] - ETA: 0s - loss: 0.0091 - mae: 0.0091 - mape: 36.4831\n",
      "Epoch 12: val_loss did not improve from 0.00833\n",
      "2653/2653 [==============================] - 31s 12ms/step - loss: 0.0091 - mae: 0.0091 - mape: 36.4635 - val_loss: 0.0086 - val_mae: 0.0086 - val_mape: 3.7257\n",
      "Epoch 13/60\n",
      "2651/2653 [============================>.] - ETA: 0s - loss: 0.0092 - mae: 0.0092 - mape: 106.4423\n",
      "Epoch 13: val_loss did not improve from 0.00833\n",
      "2653/2653 [==============================] - 31s 12ms/step - loss: 0.0092 - mae: 0.0092 - mape: 106.3809 - val_loss: 0.0085 - val_mae: 0.0085 - val_mape: 4.1333\n",
      "Epoch 14/60\n",
      "2651/2653 [============================>.] - ETA: 0s - loss: 0.0090 - mae: 0.0090 - mape: 21.2221\n",
      "Epoch 14: val_loss improved from 0.00833 to 0.00782, saving model to C:\\Users\\Administrator\\Downloads\\ML Lab\\checkpoint\\ML Lab\\lab9\\E1-cp-0014-loss0.01.h5\n",
      "2653/2653 [==============================] - 31s 12ms/step - loss: 0.0090 - mae: 0.0090 - mape: 21.2112 - val_loss: 0.0078 - val_mae: 0.0078 - val_mape: 3.6675\n",
      "Epoch 15/60\n",
      "2651/2653 [============================>.] - ETA: 0s - loss: 0.0088 - mae: 0.0088 - mape: 71.8224\n",
      "Epoch 15: val_loss did not improve from 0.00782\n",
      "2653/2653 [==============================] - 31s 12ms/step - loss: 0.0088 - mae: 0.0088 - mape: 71.7819 - val_loss: 0.0090 - val_mae: 0.0090 - val_mape: 4.8177\n",
      "Epoch 16/60\n",
      "2649/2653 [============================>.] - ETA: 0s - loss: 0.0088 - mae: 0.0088 - mape: 91.4304\n",
      "Epoch 16: val_loss did not improve from 0.00782\n",
      "2653/2653 [==============================] - 32s 12ms/step - loss: 0.0088 - mae: 0.0088 - mape: 91.3109 - val_loss: 0.0093 - val_mae: 0.0093 - val_mape: 4.2596\n",
      "Epoch 17/60\n",
      "2651/2653 [============================>.] - ETA: 0s - loss: 0.0088 - mae: 0.0088 - mape: 57.9829\n",
      "Epoch 17: val_loss did not improve from 0.00782\n",
      "2653/2653 [==============================] - 31s 12ms/step - loss: 0.0088 - mae: 0.0088 - mape: 57.9502 - val_loss: 0.0080 - val_mae: 0.0080 - val_mape: 3.7311\n",
      "Epoch 18/60\n",
      "2651/2653 [============================>.] - ETA: 0s - loss: 0.0086 - mae: 0.0086 - mape: 16.8966\n",
      "Epoch 18: val_loss did not improve from 0.00782\n",
      "2653/2653 [==============================] - 31s 12ms/step - loss: 0.0086 - mae: 0.0086 - mape: 16.8880 - val_loss: 0.0101 - val_mae: 0.0101 - val_mape: 4.1485\n",
      "Epoch 19/60\n",
      "2651/2653 [============================>.] - ETA: 0s - loss: 0.0086 - mae: 0.0086 - mape: 112.4293\n",
      "Epoch 19: val_loss did not improve from 0.00782\n",
      "2653/2653 [==============================] - 33s 12ms/step - loss: 0.0086 - mae: 0.0086 - mape: 112.3644 - val_loss: 0.0083 - val_mae: 0.0083 - val_mape: 4.6426\n",
      "Epoch 20/60\n",
      "2649/2653 [============================>.] - ETA: 0s - loss: 0.0085 - mae: 0.0085 - mape: 38.4850\n",
      "Epoch 20: val_loss improved from 0.00782 to 0.00758, saving model to C:\\Users\\Administrator\\Downloads\\ML Lab\\checkpoint\\ML Lab\\lab9\\E1-cp-0020-loss0.01.h5\n",
      "2653/2653 [==============================] - 33s 12ms/step - loss: 0.0085 - mae: 0.0085 - mape: 38.4374 - val_loss: 0.0076 - val_mae: 0.0076 - val_mape: 3.4836\n",
      "Epoch 21/60\n",
      "2651/2653 [============================>.] - ETA: 0s - loss: 0.0084 - mae: 0.0084 - mape: 32.9290\n",
      "Epoch 21: val_loss did not improve from 0.00758\n",
      "2653/2653 [==============================] - 33s 12ms/step - loss: 0.0084 - mae: 0.0084 - mape: 32.9111 - val_loss: 0.0076 - val_mae: 0.0076 - val_mape: 3.5637\n",
      "Epoch 22/60\n",
      "2651/2653 [============================>.] - ETA: 0s - loss: 0.0083 - mae: 0.0083 - mape: 55.4995\n",
      "Epoch 22: val_loss did not improve from 0.00758\n",
      "2653/2653 [==============================] - 31s 12ms/step - loss: 0.0083 - mae: 0.0083 - mape: 55.4684 - val_loss: 0.0078 - val_mae: 0.0078 - val_mape: 3.4967\n",
      "Epoch 23/60\n",
      "2649/2653 [============================>.] - ETA: 0s - loss: 0.0082 - mae: 0.0082 - mape: 75.6859\n",
      "Epoch 23: val_loss did not improve from 0.00758\n",
      "2653/2653 [==============================] - 32s 12ms/step - loss: 0.0082 - mae: 0.0082 - mape: 75.5873 - val_loss: 0.0076 - val_mae: 0.0076 - val_mape: 3.3529\n",
      "Epoch 24/60\n",
      "2651/2653 [============================>.] - ETA: 0s - loss: 0.0083 - mae: 0.0083 - mape: 59.3283\n",
      "Epoch 24: val_loss did not improve from 0.00758\n",
      "2653/2653 [==============================] - 32s 12ms/step - loss: 0.0083 - mae: 0.0083 - mape: 59.2949 - val_loss: 0.0098 - val_mae: 0.0098 - val_mape: 4.1509\n",
      "Epoch 25/60\n",
      "2649/2653 [============================>.] - ETA: 0s - loss: 0.0082 - mae: 0.0082 - mape: 97.8944\n",
      "Epoch 25: val_loss did not improve from 0.00758\n",
      "2653/2653 [==============================] - 32s 12ms/step - loss: 0.0082 - mae: 0.0082 - mape: 97.7663 - val_loss: 0.0077 - val_mae: 0.0077 - val_mape: 3.4411\n",
      "Epoch 26/60\n",
      "2651/2653 [============================>.] - ETA: 0s - loss: 0.0081 - mae: 0.0081 - mape: 104.3835\n",
      "Epoch 26: val_loss improved from 0.00758 to 0.00719, saving model to C:\\Users\\Administrator\\Downloads\\ML Lab\\checkpoint\\ML Lab\\lab9\\E1-cp-0026-loss0.01.h5\n",
      "2653/2653 [==============================] - 35s 13ms/step - loss: 0.0081 - mae: 0.0081 - mape: 104.3234 - val_loss: 0.0072 - val_mae: 0.0072 - val_mape: 3.1964\n",
      "Epoch 27/60\n",
      "2649/2653 [============================>.] - ETA: 0s - loss: 0.0080 - mae: 0.0080 - mape: 70.4589\n",
      "Epoch 30: val_loss did not improve from 0.00719\n",
      "2653/2653 [==============================] - 34s 13ms/step - loss: 0.0080 - mae: 0.0080 - mape: 70.3675 - val_loss: 0.0093 - val_mae: 0.0093 - val_mape: 5.3114\n",
      "Epoch 31/60\n",
      "2651/2653 [============================>.] - ETA: 0s - loss: 0.0080 - mae: 0.0080 - mape: 43.7427\n",
      "Epoch 31: val_loss did not improve from 0.00719\n",
      "2653/2653 [==============================] - 35s 13ms/step - loss: 0.0080 - mae: 0.0080 - mape: 43.7189 - val_loss: 0.0079 - val_mae: 0.0079 - val_mape: 3.4724\n",
      "Epoch 32/60\n",
      "2649/2653 [============================>.] - ETA: 0s - loss: 0.0079 - mae: 0.0079 - mape: 204.7567\n",
      "Epoch 32: val_loss did not improve from 0.00719\n",
      "2653/2653 [==============================] - 34s 13ms/step - loss: 0.0079 - mae: 0.0079 - mape: 204.4858 - val_loss: 0.0073 - val_mae: 0.0073 - val_mape: 3.3594\n",
      "Epoch 33/60\n",
      "2650/2653 [============================>.] - ETA: 0s - loss: 0.0079 - mae: 0.0079 - mape: 83.0576\n",
      "Epoch 35: val_loss did not improve from 0.00719\n",
      "2653/2653 [==============================] - 33s 13ms/step - loss: 0.0079 - mae: 0.0079 - mape: 82.9794 - val_loss: 0.0072 - val_mae: 0.0072 - val_mape: 3.3958\n",
      "Epoch 36/60\n",
      "2649/2653 [============================>.] - ETA: 0s - loss: 0.0079 - mae: 0.0079 - mape: 39.6423\n",
      "Epoch 36: val_loss did not improve from 0.00719\n",
      "2653/2653 [==============================] - 34s 13ms/step - loss: 0.0079 - mae: 0.0079 - mape: 39.5928 - val_loss: 0.0079 - val_mae: 0.0079 - val_mape: 3.7353\n",
      "Epoch 37/60\n",
      "2653/2653 [==============================] - ETA: 0s - loss: 0.0079 - mae: 0.0079 - mape: 19.4106\n",
      "Epoch 37: val_loss did not improve from 0.00719\n",
      "2653/2653 [==============================] - 36s 13ms/step - loss: 0.0079 - mae: 0.0079 - mape: 19.4106 - val_loss: 0.0091 - val_mae: 0.0091 - val_mape: 4.2436\n",
      "Epoch 38/60\n",
      "2653/2653 [==============================] - ETA: 0s - loss: 0.0079 - mae: 0.0079 - mape: 10.9544\n",
      "Epoch 38: val_loss did not improve from 0.00719\n",
      "2653/2653 [==============================] - 33s 12ms/step - loss: 0.0079 - mae: 0.0079 - mape: 10.9544 - val_loss: 0.0075 - val_mae: 0.0075 - val_mape: 3.7126\n",
      "Epoch 39/60\n",
      "2652/2653 [============================>.] - ETA: 0s - loss: 0.0078 - mae: 0.0078 - mape: 110.5594\n",
      "Epoch 39: val_loss did not improve from 0.00719\n",
      "2653/2653 [==============================] - 33s 13ms/step - loss: 0.0078 - mae: 0.0078 - mape: 110.5365 - val_loss: 0.0074 - val_mae: 0.0074 - val_mape: 3.4198\n",
      "Epoch 40/60\n",
      "2649/2653 [============================>.] - ETA: 0s - loss: 0.0078 - mae: 0.0078 - mape: 128.6572\n",
      "Epoch 40: val_loss did not improve from 0.00719\n",
      "2653/2653 [==============================] - 31s 12ms/step - loss: 0.0078 - mae: 0.0078 - mape: 128.4880 - val_loss: 0.0082 - val_mae: 0.0082 - val_mape: 3.8428\n",
      "Epoch 41/60\n",
      "2653/2653 [==============================] - ETA: 0s - loss: 0.0078 - mae: 0.0078 - mape: 93.4069\n",
      "Epoch 41: val_loss did not improve from 0.00719\n",
      "2653/2653 [==============================] - 31s 12ms/step - loss: 0.0078 - mae: 0.0078 - mape: 93.4069 - val_loss: 0.0078 - val_mae: 0.0078 - val_mape: 3.5041\n",
      "Epoch 42/60\n",
      "2653/2653 [==============================] - ETA: 0s - loss: 0.0077 - mae: 0.0077 - mape: 73.3783\n",
      "Epoch 42: val_loss did not improve from 0.00719\n",
      "2653/2653 [==============================] - 30s 11ms/step - loss: 0.0077 - mae: 0.0077 - mape: 73.3783 - val_loss: 0.0073 - val_mae: 0.0073 - val_mape: 3.4399\n",
      "Epoch 43/60\n",
      "2649/2653 [============================>.] - ETA: 0s - loss: 0.0078 - mae: 0.0078 - mape: 5.5863\n",
      "Epoch 47: val_loss did not improve from 0.00719\n",
      "2653/2653 [==============================] - 32s 12ms/step - loss: 0.0078 - mae: 0.0078 - mape: 5.5823 - val_loss: 0.0076 - val_mae: 0.0076 - val_mape: 3.2867\n",
      "Epoch 48/60\n",
      "2649/2653 [============================>.] - ETA: 0s - loss: 0.0077 - mae: 0.0077 - mape: 38.6825\n",
      "Epoch 50: val_loss did not improve from 0.00719\n",
      "2653/2653 [==============================] - 31s 12ms/step - loss: 0.0076 - mae: 0.0076 - mape: 100.4632 - val_loss: 0.0119 - val_mae: 0.0119 - val_mape: 6.8489\n",
      "Epoch 51/60\n",
      "2650/2653 [============================>.] - ETA: 0s - loss: 0.0077 - mae: 0.0077 - mape: 42.3675\n",
      "Epoch 51: val_loss did not improve from 0.00719\n",
      "2653/2653 [==============================] - 32s 12ms/step - loss: 0.0077 - mae: 0.0077 - mape: 42.3288 - val_loss: 0.0072 - val_mae: 0.0072 - val_mape: 3.3752\n",
      "Epoch 52/60\n",
      "2650/2653 [============================>.] - ETA: 0s - loss: 0.0076 - mae: 0.0076 - mape: 89.3407\n",
      "Epoch 52: val_loss improved from 0.00719 to 0.00718, saving model to C:\\Users\\Administrator\\Downloads\\ML Lab\\checkpoint\\ML Lab\\lab9\\E1-cp-0052-loss0.01.h5\n",
      "2653/2653 [==============================] - 33s 13ms/step - loss: 0.0076 - mae: 0.0076 - mape: 89.2564 - val_loss: 0.0072 - val_mae: 0.0072 - val_mape: 3.1793\n",
      "Epoch 53/60\n",
      "2652/2653 [============================>.] - ETA: 0s - loss: 0.0076 - mae: 0.0076 - mape: 35.6211\n",
      "Epoch 53: val_loss improved from 0.00718 to 0.00692, saving model to C:\\Users\\Administrator\\Downloads\\ML Lab\\checkpoint\\ML Lab\\lab9\\E1-cp-0053-loss0.01.h5\n",
      "2653/2653 [==============================] - 32s 12ms/step - loss: 0.0076 - mae: 0.0076 - mape: 35.6140 - val_loss: 0.0069 - val_mae: 0.0069 - val_mape: 3.0898\n",
      "Epoch 54/60\n",
      "2651/2653 [============================>.] - ETA: 0s - loss: 0.0076 - mae: 0.0076 - mape: 46.7408\n",
      "Epoch 54: val_loss did not improve from 0.00692\n",
      "2653/2653 [==============================] - 32s 12ms/step - loss: 0.0076 - mae: 0.0076 - mape: 46.7146 - val_loss: 0.0078 - val_mae: 0.0078 - val_mape: 3.6659\n",
      "Epoch 55/60\n",
      "2650/2653 [============================>.] - ETA: 0s - loss: 0.0076 - mae: 0.0076 - mape: 3.1140\n",
      "Epoch 55: val_loss did not improve from 0.00692\n",
      "2653/2653 [==============================] - 34s 13ms/step - loss: 0.0076 - mae: 0.0076 - mape: 3.1131 - val_loss: 0.0074 - val_mae: 0.0074 - val_mape: 3.3394\n",
      "Epoch 56/60\n",
      "2648/2653 [============================>.] - ETA: 0s - loss: 0.0076 - mae: 0.0076 - mape: 16.6448\n",
      "Epoch 56: val_loss did not improve from 0.00692\n",
      "2653/2653 [==============================] - 36s 14ms/step - loss: 0.0076 - mae: 0.0076 - mape: 16.6200 - val_loss: 0.0072 - val_mae: 0.0072 - val_mape: 3.4089\n",
      "Epoch 57/60\n",
      " 536/2653 [=====>........................] - ETA: 25s - loss: 0.0077 - mae: 0.0077 - mape: 168.3796\n",
      "Epoch 58: val_loss did not improve from 0.00692\n",
      "2653/2653 [==============================] - 37s 14ms/step - loss: 0.0076 - mae: 0.0076 - mape: 71.4099 - val_loss: 0.0074 - val_mae: 0.0074 - val_mape: 3.3703\n",
      "Epoch 59/60\n",
      "2650/2653 [============================>.] - ETA: 0s - loss: 0.0076 - mae: 0.0076 - mape: 22.5643\n",
      "Epoch 59: val_loss did not improve from 0.00692\n",
      "2653/2653 [==============================] - 37s 14ms/step - loss: 0.0076 - mae: 0.0076 - mape: 22.5451 - val_loss: 0.0074 - val_mae: 0.0074 - val_mape: 3.5863\n",
      "Epoch 60/60\n",
      "2652/2653 [============================>.] - ETA: 0s - loss: 0.0075 - mae: 0.0075 - mape: 50.8029\n",
      "Epoch 60: val_loss did not improve from 0.00692\n",
      "2653/2653 [==============================] - 36s 14ms/step - loss: 0.0075 - mae: 0.0075 - mape: 50.7928 - val_loss: 0.0076 - val_mae: 0.0076 - val_mape: 3.4612\n"
     ]
    }
   ],
   "source": [
    "epochs = 60\n",
    "verbose = 1 #0\n",
    "batch_size = 32\n",
    "History = model.fit(train_X,\n",
    "                        train_y,\n",
    "                        batch_size=batch_size,   \n",
    "                        epochs = epochs, \n",
    "                        validation_data = (validation_X,validation_y),\n",
    "                        callbacks=callbacks,verbose = verbose)"
   ]
  },
  {
   "cell_type": "code",
   "execution_count": 20,
   "metadata": {},
   "outputs": [
    {
     "name": "stdout",
     "output_type": "stream",
     "text": [
      "379/379 [==============================] - 2s 4ms/step\n",
      "Mean Absolute Error (MAE): 110.66\n",
      "Median Absolute Error (MedAE): 88.57\n",
      "Mean Squared Error (MSE): 21191.35\n",
      "Root Mean Squared Error (RMSE): 145.57\n",
      "Mean Absolute Percentage Error (MAPE): 0.76 %\n",
      "Median Absolute Percentage Error (MDAPE): 0.61 %\n",
      "\n",
      "\n",
      "y_test_unscaled.shape=  (12105, 1)\n",
      "y_pred.shape=  (12105, 1)\n"
     ]
    }
   ],
   "source": [
    "\n",
    "model = load_model(r'C:\\Users\\Administrator\\Downloads\\ML Lab\\checkpoint\\ML Lab\\lab9\\E1-cp-0053-loss0.01.h5')\n",
    "\n",
    "y_pred_scaled   = model.predict(test_X)\n",
    "y_pred          = scaler.inverse_transform(y_pred_scaled)\n",
    "y_test_unscaled = scaler.inverse_transform(test_y)\n",
    "# Mean Absolute Error (MAE)\n",
    "MAE = np.mean(abs(y_pred - y_test_unscaled)) \n",
    "print('Mean Absolute Error (MAE): ' + str(np.round(MAE, 2)))\n",
    "\n",
    "# Median Absolute Error (MedAE)\n",
    "MEDAE = np.median(abs(y_pred - y_test_unscaled))\n",
    "print('Median Absolute Error (MedAE): ' + str(np.round(MEDAE, 2)))\n",
    "\n",
    "# Mean Squared Error (MSE)\n",
    "MSE = np.square(np.subtract(y_pred, y_test_unscaled)).mean()\n",
    "print('Mean Squared Error (MSE): ' + str(np.round(MSE, 2)))\n",
    "\n",
    "# Root Mean Squarred Error (RMSE) \n",
    "RMSE = np.sqrt(np.mean(np.square(y_pred - y_test_unscaled)))\n",
    "print('Root Mean Squared Error (RMSE): ' + str(np.round(RMSE, 2)))\n",
    "\n",
    "# Mean Absolute Percentage Error (MAPE)\n",
    "MAPE = np.mean((np.abs(np.subtract(y_test_unscaled, y_pred)/ y_test_unscaled))) * 100\n",
    "print('Mean Absolute Percentage Error (MAPE): ' + str(np.round(MAPE, 2)) + ' %')\n",
    "\n",
    "# Median Absolute Percentage Error (MDAPE)\n",
    "MDAPE = np.median((np.abs(np.subtract(y_test_unscaled, y_pred)/ y_test_unscaled))) * 100\n",
    "print('Median Absolute Percentage Error (MDAPE): ' + str(np.round(MDAPE, 2)) + ' %')\n",
    "\n",
    "print('\\n\\ny_test_unscaled.shape= ',y_test_unscaled.shape)\n",
    "print('y_pred.shape= ',y_pred.shape)"
   ]
  },
  {
   "cell_type": "code",
   "execution_count": 21,
   "metadata": {},
   "outputs": [],
   "source": [
    "checkpoints = r'C:\\Users\\Administrator\\Downloads\\ML Lab\\checkpoint\\ML Lab\\lab9\\E2-cp-{epoch:04d}-loss{val_loss:.2f}.h5'\n",
    "model=r'C:\\Users\\Administrator\\Downloads\\ML Lab\\checkpoint\\ML Lab\\lab9\\E1-cp-0053-loss0.01.h5'\n",
    "start_epoch= 54"
   ]
  },
  {
   "cell_type": "code",
   "execution_count": 22,
   "metadata": {},
   "outputs": [
    {
     "name": "stdout",
     "output_type": "stream",
     "text": [
      "[INFO] loading C:\\Users\\Administrator\\Downloads\\ML Lab\\checkpoint\\ML Lab\\lab9\\E1-cp-0053-loss0.01.h5...\n",
      "[INFO] old learning rate: 0.0010000000474974513\n",
      "[INFO] new learning rate: 9.999999747378752e-05\n"
     ]
    }
   ],
   "source": [
    "# construct the callback to save only the *best* model to disk\n",
    "# based on the validation loss\n",
    "EpochCheckpoint1 = ModelCheckpoint(checkpoints,\n",
    "                             monitor=\"val_loss\",\n",
    "                             save_best_only=True, \n",
    "                             verbose=1)\n",
    "TrainingMonitor1=TrainingMonitor(FIG_PATH, jsonPath=JSON_PATH, startAt=start_epoch)\n",
    "\n",
    "# construct the set of callbacks\n",
    "callbacks = [EpochCheckpoint1,TrainingMonitor1]\n",
    "# if there is no specific model checkpoint supplied, then initialize\n",
    "# the network and compile the model\n",
    "if model is None:\n",
    "    print(\"[INFO] compiling model...\")\n",
    "    model = PC.build(time_steps=24, num_features=21, reg=0.0005)\n",
    "    opt = Adam(1e-3)\n",
    "    model.compile(loss= 'mae', optimizer=opt, metrics=[\"mae\", \"mape\"])\n",
    "# otherwise, load the checkpoint from disk\n",
    "else:\n",
    "    print(\"[INFO] loading {}...\".format(model))\n",
    "    model = load_model(model)\n",
    "\n",
    "    # update the learning rate\n",
    "    print(\"[INFO] old learning rate: {}\".format(K.get_value(model.optimizer.lr)))\n",
    "    K.set_value(model.optimizer.lr, 1e-4)\n",
    "    print(\"[INFO] new learning rate: {}\".format(K.get_value(model.optimizer.lr)))"
   ]
  },
  {
   "cell_type": "code",
   "execution_count": null,
   "metadata": {},
   "outputs": [
    {
     "name": "stdout",
     "output_type": "stream",
     "text": [
      "Epoch 1/10\n",
      "2648/2653 [============================>.] - ETA: 0s - loss: 0.0064 - mae: 0.0064 - mape: 8.6717\n",
      "Epoch 1: val_loss improved from inf to 0.00682, saving model to C:\\Users\\Administrator\\Downloads\\ML Lab\\checkpoint\\ML Lab\\lab9\\E2-cp-0001-loss0.01.h5\n",
      "2653/2653 [==============================] - 31s 11ms/step - loss: 0.0064 - mae: 0.0064 - mape: 8.6602 - val_loss: 0.0068 - val_mae: 0.0068 - val_mape: 3.0920\n",
      "Epoch 2/10\n",
      "2651/2653 [============================>.] - ETA: 0s - loss: 0.0064 - mae: 0.0064 - mape: 2.4142\n",
      "Epoch 2: val_loss improved from 0.00682 to 0.00649, saving model to C:\\Users\\Administrator\\Downloads\\ML Lab\\checkpoint\\ML Lab\\lab9\\E2-cp-0002-loss0.01.h5\n",
      "2653/2653 [==============================] - 34s 13ms/step - loss: 0.0064 - mae: 0.0064 - mape: 2.4140 - val_loss: 0.0065 - val_mae: 0.0065 - val_mape: 2.8914\n",
      "Epoch 3/10\n",
      "2653/2653 [==============================] - ETA: 0s - loss: 0.0064 - mae: 0.0064 - mape: 8.4092\n",
      "Epoch 3: val_loss did not improve from 0.00649\n",
      "2653/2653 [==============================] - 32s 12ms/step - loss: 0.0064 - mae: 0.0064 - mape: 8.4092 - val_loss: 0.0067 - val_mae: 0.0067 - val_mape: 2.9631\n",
      "Epoch 4/10\n",
      "2650/2653 [============================>.] - ETA: 0s - loss: 0.0064 - mae: 0.0064 - mape: 21.1090\n",
      "Epoch 4: val_loss did not improve from 0.00649\n",
      "2653/2653 [==============================] - 34s 13ms/step - loss: 0.0064 - mae: 0.0064 - mape: 21.0905 - val_loss: 0.0065 - val_mae: 0.0065 - val_mape: 2.8512\n",
      "Epoch 5/10\n",
      "2652/2653 [============================>.] - ETA: 0s - loss: 0.0064 - mae: 0.0064 - mape: 12.1730\n",
      "Epoch 5: val_loss did not improve from 0.00649\n",
      "2653/2653 [==============================] - 32s 12ms/step - loss: 0.0064 - mae: 0.0064 - mape: 12.1707 - val_loss: 0.0067 - val_mae: 0.0067 - val_mape: 3.0117\n",
      "Epoch 6/10\n",
      "2652/2653 [============================>.] - ETA: 0s - loss: 0.0064 - mae: 0.0064 - mape: 32.7257\n",
      "Epoch 6: val_loss did not improve from 0.00649\n",
      "2653/2653 [==============================] - 32s 12ms/step - loss: 0.0064 - mae: 0.0064 - mape: 32.7189 - val_loss: 0.0066 - val_mae: 0.0066 - val_mape: 2.8421\n",
      "Epoch 7/10\n",
      "2652/2653 [============================>.] - ETA: 0s - loss: 0.0063 - mae: 0.0063 - mape: 21.1736\n",
      "Epoch 7: val_loss did not improve from 0.00649\n",
      "2653/2653 [==============================] - 31s 12ms/step - loss: 0.0063 - mae: 0.0063 - mape: 21.1695 - val_loss: 0.0066 - val_mae: 0.0066 - val_mape: 2.9155\n",
      "Epoch 8/10\n",
      "2649/2653 [============================>.] - ETA: 0s - loss: 0.0063 - mae: 0.0063 - mape: 23.0308\n",
      "Epoch 8: val_loss did not improve from 0.00649\n",
      "2653/2653 [==============================] - 31s 12ms/step - loss: 0.0063 - mae: 0.0063 - mape: 23.0021 - val_loss: 0.0067 - val_mae: 0.0067 - val_mape: 2.9293\n",
      "Epoch 9/10\n",
      "2221/2653 [========================>.....] - ETA: 4s - loss: 0.0063 - mae: 0.0063 - mape: 4.1270"
     ]
    }
   ],
   "source": [
    "epochs = 10\n",
    "verbose = 1 #0\n",
    "batch_size = 32\n",
    "History = model.fit(train_X,\n",
    "                        train_y,\n",
    "                        batch_size=batch_size,   \n",
    "                        epochs = epochs, \n",
    "                        validation_data = (validation_X,validation_y),\n",
    "                        callbacks=callbacks,\n",
    "                        verbose = verbose)"
   ]
  },
  {
   "cell_type": "code",
   "execution_count": 19,
   "metadata": {},
   "outputs": [
    {
     "name": "stdout",
     "output_type": "stream",
     "text": [
      "379/379 [==============================] - 1s 1ms/step\n",
      "Mean Absolute Error (MAE): 144.75\n",
      "Median Absolute Error (MedAE): 113.65\n",
      "Mean Squared Error (MSE): 36189.68\n",
      "Root Mean Squared Error (RMSE): 190.24\n",
      "Mean Absolute Percentage Error (MAPE): 0.98 %\n",
      "Median Absolute Percentage Error (MDAPE): 0.79 %\n",
      "\n",
      "\n",
      "y_test_unscaled.shape=  (12105, 1)\n",
      "y_pred.shape=  (12105, 1)\n"
     ]
    }
   ],
   "source": [
    "\n",
    "model = load_model(r'C:\\Users\\Administrator\\Downloads\\ML Lab\\checkpoint\\ML Lab\\lab9\\E2-cp-0006-loss0.01.h5')\n",
    "\n",
    "y_pred_scaled   = model.predict(test_X)\n",
    "y_pred          = scaler.inverse_transform(y_pred_scaled)\n",
    "y_test_unscaled = scaler.inverse_transform(test_y)\n",
    "# Mean Absolute Error (MAE)\n",
    "MAE = np.mean(abs(y_pred - y_test_unscaled)) \n",
    "print('Mean Absolute Error (MAE): ' + str(np.round(MAE, 2)))\n",
    "\n",
    "# Median Absolute Error (MedAE)\n",
    "MEDAE = np.median(abs(y_pred - y_test_unscaled))\n",
    "print('Median Absolute Error (MedAE): ' + str(np.round(MEDAE, 2)))\n",
    "\n",
    "# Mean Squared Error (MSE)\n",
    "MSE = np.square(np.subtract(y_pred, y_test_unscaled)).mean()\n",
    "print('Mean Squared Error (MSE): ' + str(np.round(MSE, 2)))\n",
    "\n",
    "# Root Mean Squarred Error (RMSE) \n",
    "RMSE = np.sqrt(np.mean(np.square(y_pred - y_test_unscaled)))\n",
    "print('Root Mean Squared Error (RMSE): ' + str(np.round(RMSE, 2)))\n",
    "\n",
    "# Mean Absolute Percentage Error (MAPE)\n",
    "MAPE = np.mean((np.abs(np.subtract(y_test_unscaled, y_pred)/ y_test_unscaled))) * 100\n",
    "print('Mean Absolute Percentage Error (MAPE): ' + str(np.round(MAPE, 2)) + ' %')\n",
    "\n",
    "# Median Absolute Percentage Error (MDAPE)\n",
    "MDAPE = np.median((np.abs(np.subtract(y_test_unscaled, y_pred)/ y_test_unscaled))) * 100\n",
    "print('Median Absolute Percentage Error (MDAPE): ' + str(np.round(MDAPE, 2)) + ' %')\n",
    "\n",
    "print('\\n\\ny_test_unscaled.shape= ',y_test_unscaled.shape)\n",
    "print('y_pred.shape= ',y_pred.shape)"
   ]
  },
  {
   "cell_type": "code",
   "execution_count": null,
   "metadata": {},
   "outputs": [],
   "source": []
  }
 ],
 "metadata": {
  "kernelspec": {
   "display_name": "Python 3 (ipykernel)",
   "language": "python",
   "name": "python3"
  },
  "language_info": {
   "codemirror_mode": {
    "name": "ipython",
    "version": 3
   },
   "file_extension": ".py",
   "mimetype": "text/x-python",
   "name": "python",
   "nbconvert_exporter": "python",
   "pygments_lexer": "ipython3",
   "version": "3.9.18"
  }
 },
 "nbformat": 4,
 "nbformat_minor": 4
}
