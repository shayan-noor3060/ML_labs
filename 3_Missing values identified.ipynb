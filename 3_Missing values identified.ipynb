{
 "cells": [
  {
   "cell_type": "code",
   "execution_count": 2,
   "metadata": {},
   "outputs": [],
   "source": [
    "import pandas as pd\n",
    "import numpy as np\n",
    "import matplotlib.pyplot as plt\n",
    "import seaborn as sns\n",
    "%matplotlib inline"
   ]
  },
  {
   "cell_type": "code",
   "execution_count": 4,
   "metadata": {},
   "outputs": [
    {
     "data": {
      "text/html": [
       "<div>\n",
       "<style scoped>\n",
       "    .dataframe tbody tr th:only-of-type {\n",
       "        vertical-align: middle;\n",
       "    }\n",
       "\n",
       "    .dataframe tbody tr th {\n",
       "        vertical-align: top;\n",
       "    }\n",
       "\n",
       "    .dataframe thead th {\n",
       "        text-align: right;\n",
       "    }\n",
       "</style>\n",
       "<table border=\"1\" class=\"dataframe\">\n",
       "  <thead>\n",
       "    <tr style=\"text-align: right;\">\n",
       "      <th></th>\n",
       "      <th>Datetime</th>\n",
       "      <th>AEP_MW</th>\n",
       "    </tr>\n",
       "  </thead>\n",
       "  <tbody>\n",
       "    <tr>\n",
       "      <th>0</th>\n",
       "      <td>2004-12-31 01:00:00</td>\n",
       "      <td>13478.0</td>\n",
       "    </tr>\n",
       "    <tr>\n",
       "      <th>1</th>\n",
       "      <td>2004-12-31 02:00:00</td>\n",
       "      <td>12865.0</td>\n",
       "    </tr>\n",
       "  </tbody>\n",
       "</table>\n",
       "</div>"
      ],
      "text/plain": [
       "              Datetime   AEP_MW\n",
       "0  2004-12-31 01:00:00  13478.0\n",
       "1  2004-12-31 02:00:00  12865.0"
      ]
     },
     "execution_count": 4,
     "metadata": {},
     "output_type": "execute_result"
    }
   ],
   "source": [
    "df=pd.read_csv(r'C:\\Users\\Administrator\\Downloads\\ML Lab\\AEP_hourly\\\\AEP_hourly.csv')\n",
    "df.head(2)"
   ]
  },
  {
   "cell_type": "code",
   "execution_count": 5,
   "metadata": {},
   "outputs": [
    {
     "name": "stdout",
     "output_type": "stream",
     "text": [
      "Data Points=  121273\n"
     ]
    }
   ],
   "source": [
    "print('Data Points= ',len(df))"
   ]
  },
  {
   "cell_type": "code",
   "execution_count": 6,
   "metadata": {},
   "outputs": [
    {
     "name": "stdout",
     "output_type": "stream",
     "text": [
      "<class 'pandas.core.frame.DataFrame'>\n",
      "RangeIndex: 121273 entries, 0 to 121272\n",
      "Data columns (total 2 columns):\n",
      " #   Column    Non-Null Count   Dtype  \n",
      "---  ------    --------------   -----  \n",
      " 0   Datetime  121273 non-null  object \n",
      " 1   AEP_MW    121273 non-null  float64\n",
      "dtypes: float64(1), object(1)\n",
      "memory usage: 1.9+ MB\n"
     ]
    }
   ],
   "source": [
    "df.info()"
   ]
  },
  {
   "cell_type": "code",
   "execution_count": 13,
   "metadata": {},
   "outputs": [],
   "source": [
    "df['Date']=pd.to_datetime(df['Datetime'])"
   ]
  },
  {
   "cell_type": "code",
   "execution_count": 14,
   "metadata": {},
   "outputs": [
    {
     "ename": "KeyError",
     "evalue": "'HOUR'",
     "output_type": "error",
     "traceback": [
      "\u001b[1;31m---------------------------------------------------------------------------\u001b[0m",
      "\u001b[1;31mKeyError\u001b[0m                                  Traceback (most recent call last)",
      "File \u001b[1;32m~\\anaconda3\\envs\\Time1\\lib\\site-packages\\pandas\\core\\indexes\\base.py:3791\u001b[0m, in \u001b[0;36mIndex.get_loc\u001b[1;34m(self, key)\u001b[0m\n\u001b[0;32m   3790\u001b[0m \u001b[38;5;28;01mtry\u001b[39;00m:\n\u001b[1;32m-> 3791\u001b[0m     \u001b[38;5;28;01mreturn\u001b[39;00m \u001b[38;5;28;43mself\u001b[39;49m\u001b[38;5;241;43m.\u001b[39;49m\u001b[43m_engine\u001b[49m\u001b[38;5;241;43m.\u001b[39;49m\u001b[43mget_loc\u001b[49m\u001b[43m(\u001b[49m\u001b[43mcasted_key\u001b[49m\u001b[43m)\u001b[49m\n\u001b[0;32m   3792\u001b[0m \u001b[38;5;28;01mexcept\u001b[39;00m \u001b[38;5;167;01mKeyError\u001b[39;00m \u001b[38;5;28;01mas\u001b[39;00m err:\n",
      "File \u001b[1;32mindex.pyx:152\u001b[0m, in \u001b[0;36mpandas._libs.index.IndexEngine.get_loc\u001b[1;34m()\u001b[0m\n",
      "File \u001b[1;32mindex.pyx:181\u001b[0m, in \u001b[0;36mpandas._libs.index.IndexEngine.get_loc\u001b[1;34m()\u001b[0m\n",
      "File \u001b[1;32mpandas\\_libs\\hashtable_class_helper.pxi:7080\u001b[0m, in \u001b[0;36mpandas._libs.hashtable.PyObjectHashTable.get_item\u001b[1;34m()\u001b[0m\n",
      "File \u001b[1;32mpandas\\_libs\\hashtable_class_helper.pxi:7088\u001b[0m, in \u001b[0;36mpandas._libs.hashtable.PyObjectHashTable.get_item\u001b[1;34m()\u001b[0m\n",
      "\u001b[1;31mKeyError\u001b[0m: 'HOUR'",
      "\nThe above exception was the direct cause of the following exception:\n",
      "\u001b[1;31mKeyError\u001b[0m                                  Traceback (most recent call last)",
      "Cell \u001b[1;32mIn[14], line 2\u001b[0m\n\u001b[0;32m      1\u001b[0m df[\u001b[38;5;124m'\u001b[39m\u001b[38;5;124mrough\u001b[39m\u001b[38;5;124m'\u001b[39m]\u001b[38;5;241m=\u001b[39m\u001b[38;5;124m'\u001b[39m\u001b[38;5;124m00:00\u001b[39m\u001b[38;5;124m'\u001b[39m\n\u001b[1;32m----> 2\u001b[0m df[\u001b[38;5;124m'\u001b[39m\u001b[38;5;124mhour\u001b[39m\u001b[38;5;124m'\u001b[39m]\u001b[38;5;241m=\u001b[39m\u001b[43mdf\u001b[49m\u001b[43m[\u001b[49m\u001b[38;5;124;43m'\u001b[39;49m\u001b[38;5;124;43mHOUR\u001b[39;49m\u001b[38;5;124;43m'\u001b[39;49m\u001b[43m]\u001b[49m\u001b[38;5;241m-\u001b[39m\u001b[38;5;241m1\u001b[39m\n\u001b[0;32m      3\u001b[0m df[\u001b[38;5;124m\"\u001b[39m\u001b[38;5;124mhour_m_s\u001b[39m\u001b[38;5;124m\"\u001b[39m] \u001b[38;5;241m=\u001b[39m df[\u001b[38;5;124m'\u001b[39m\u001b[38;5;124mhour\u001b[39m\u001b[38;5;124m'\u001b[39m]\u001b[38;5;241m.\u001b[39mastype(\u001b[38;5;28mstr\u001b[39m) \u001b[38;5;241m+\u001b[39m\u001b[38;5;124m\"\u001b[39m\u001b[38;5;124m:\u001b[39m\u001b[38;5;124m\"\u001b[39m\u001b[38;5;241m+\u001b[39m df[\u001b[38;5;124m\"\u001b[39m\u001b[38;5;124mrough\u001b[39m\u001b[38;5;124m\"\u001b[39m]\u001b[38;5;241m.\u001b[39mastype(\u001b[38;5;28mstr\u001b[39m)\n\u001b[0;32m      4\u001b[0m df[\u001b[38;5;124m\"\u001b[39m\u001b[38;5;124mdate_and_hour\u001b[39m\u001b[38;5;124m\"\u001b[39m] \u001b[38;5;241m=\u001b[39m df[\u001b[38;5;124m'\u001b[39m\u001b[38;5;124mDate\u001b[39m\u001b[38;5;124m'\u001b[39m]\u001b[38;5;241m.\u001b[39mastype(\u001b[38;5;28mstr\u001b[39m) \u001b[38;5;241m+\u001b[39m\u001b[38;5;124m\"\u001b[39m\u001b[38;5;124m \u001b[39m\u001b[38;5;124m\"\u001b[39m\u001b[38;5;241m+\u001b[39m df[\u001b[38;5;124m\"\u001b[39m\u001b[38;5;124mhour_m_s\u001b[39m\u001b[38;5;124m\"\u001b[39m]\u001b[38;5;241m.\u001b[39mastype(\u001b[38;5;28mstr\u001b[39m)\n",
      "File \u001b[1;32m~\\anaconda3\\envs\\Time1\\lib\\site-packages\\pandas\\core\\frame.py:3893\u001b[0m, in \u001b[0;36mDataFrame.__getitem__\u001b[1;34m(self, key)\u001b[0m\n\u001b[0;32m   3891\u001b[0m \u001b[38;5;28;01mif\u001b[39;00m \u001b[38;5;28mself\u001b[39m\u001b[38;5;241m.\u001b[39mcolumns\u001b[38;5;241m.\u001b[39mnlevels \u001b[38;5;241m>\u001b[39m \u001b[38;5;241m1\u001b[39m:\n\u001b[0;32m   3892\u001b[0m     \u001b[38;5;28;01mreturn\u001b[39;00m \u001b[38;5;28mself\u001b[39m\u001b[38;5;241m.\u001b[39m_getitem_multilevel(key)\n\u001b[1;32m-> 3893\u001b[0m indexer \u001b[38;5;241m=\u001b[39m \u001b[38;5;28;43mself\u001b[39;49m\u001b[38;5;241;43m.\u001b[39;49m\u001b[43mcolumns\u001b[49m\u001b[38;5;241;43m.\u001b[39;49m\u001b[43mget_loc\u001b[49m\u001b[43m(\u001b[49m\u001b[43mkey\u001b[49m\u001b[43m)\u001b[49m\n\u001b[0;32m   3894\u001b[0m \u001b[38;5;28;01mif\u001b[39;00m is_integer(indexer):\n\u001b[0;32m   3895\u001b[0m     indexer \u001b[38;5;241m=\u001b[39m [indexer]\n",
      "File \u001b[1;32m~\\anaconda3\\envs\\Time1\\lib\\site-packages\\pandas\\core\\indexes\\base.py:3798\u001b[0m, in \u001b[0;36mIndex.get_loc\u001b[1;34m(self, key)\u001b[0m\n\u001b[0;32m   3793\u001b[0m     \u001b[38;5;28;01mif\u001b[39;00m \u001b[38;5;28misinstance\u001b[39m(casted_key, \u001b[38;5;28mslice\u001b[39m) \u001b[38;5;129;01mor\u001b[39;00m (\n\u001b[0;32m   3794\u001b[0m         \u001b[38;5;28misinstance\u001b[39m(casted_key, abc\u001b[38;5;241m.\u001b[39mIterable)\n\u001b[0;32m   3795\u001b[0m         \u001b[38;5;129;01mand\u001b[39;00m \u001b[38;5;28many\u001b[39m(\u001b[38;5;28misinstance\u001b[39m(x, \u001b[38;5;28mslice\u001b[39m) \u001b[38;5;28;01mfor\u001b[39;00m x \u001b[38;5;129;01min\u001b[39;00m casted_key)\n\u001b[0;32m   3796\u001b[0m     ):\n\u001b[0;32m   3797\u001b[0m         \u001b[38;5;28;01mraise\u001b[39;00m InvalidIndexError(key)\n\u001b[1;32m-> 3798\u001b[0m     \u001b[38;5;28;01mraise\u001b[39;00m \u001b[38;5;167;01mKeyError\u001b[39;00m(key) \u001b[38;5;28;01mfrom\u001b[39;00m \u001b[38;5;21;01merr\u001b[39;00m\n\u001b[0;32m   3799\u001b[0m \u001b[38;5;28;01mexcept\u001b[39;00m \u001b[38;5;167;01mTypeError\u001b[39;00m:\n\u001b[0;32m   3800\u001b[0m     \u001b[38;5;66;03m# If we have a listlike key, _check_indexing_error will raise\u001b[39;00m\n\u001b[0;32m   3801\u001b[0m     \u001b[38;5;66;03m#  InvalidIndexError. Otherwise we fall through and re-raise\u001b[39;00m\n\u001b[0;32m   3802\u001b[0m     \u001b[38;5;66;03m#  the TypeError.\u001b[39;00m\n\u001b[0;32m   3803\u001b[0m     \u001b[38;5;28mself\u001b[39m\u001b[38;5;241m.\u001b[39m_check_indexing_error(key)\n",
      "\u001b[1;31mKeyError\u001b[0m: 'HOUR'"
     ]
    }
   ],
   "source": [
    "df['rough']='00:00'\n",
    "df['hour']=df['HOUR']-1\n",
    "df[\"hour_m_s\"] = df['hour'].astype(str) +\":\"+ df[\"rough\"].astype(str)\n",
    "df[\"date_and_hour\"] = df['Date'].astype(str) +\" \"+ df[\"hour_m_s\"].astype(str)\n",
    "del df[\"hour_m_s\"]\n",
    "del df[\"rough\"]\n",
    "del df['hour']\n",
    "del df['HOUR']\n",
    "del df['Date']\n",
    "df.head()"
   ]
  },
  {
   "cell_type": "code",
   "execution_count": 37,
   "metadata": {},
   "outputs": [
    {
     "name": "stdout",
     "output_type": "stream",
     "text": [
      "<class 'pandas.core.frame.DataFrame'>\n",
      "RangeIndex: 46608 entries, 0 to 46607\n",
      "Data columns (total 2 columns):\n",
      " #   Column         Non-Null Count  Dtype         \n",
      "---  ------         --------------  -----         \n",
      " 0   System_load    46608 non-null  object        \n",
      " 1   date_and_hour  46608 non-null  datetime64[ns]\n",
      "dtypes: datetime64[ns](1), object(1)\n",
      "memory usage: 728.4+ KB\n"
     ]
    }
   ],
   "source": [
    "df['date_and_hour']=pd.to_datetime(df['date_and_hour'])\n",
    "df.info()"
   ]
  },
  {
   "cell_type": "code",
   "execution_count": 38,
   "metadata": {},
   "outputs": [
    {
     "data": {
      "text/html": [
       "<div>\n",
       "<style scoped>\n",
       "    .dataframe tbody tr th:only-of-type {\n",
       "        vertical-align: middle;\n",
       "    }\n",
       "\n",
       "    .dataframe tbody tr th {\n",
       "        vertical-align: top;\n",
       "    }\n",
       "\n",
       "    .dataframe thead th {\n",
       "        text-align: right;\n",
       "    }\n",
       "</style>\n",
       "<table border=\"1\" class=\"dataframe\">\n",
       "  <thead>\n",
       "    <tr style=\"text-align: right;\">\n",
       "      <th></th>\n",
       "      <th>System_load</th>\n",
       "      <th>date_and_hour</th>\n",
       "    </tr>\n",
       "  </thead>\n",
       "  <tbody>\n",
       "    <tr>\n",
       "      <th>0</th>\n",
       "      <td>8288</td>\n",
       "      <td>2015-01-01 00:00:00</td>\n",
       "    </tr>\n",
       "    <tr>\n",
       "      <th>1</th>\n",
       "      <td>8099</td>\n",
       "      <td>2015-01-01 01:00:00</td>\n",
       "    </tr>\n",
       "    <tr>\n",
       "      <th>2</th>\n",
       "      <td>7994</td>\n",
       "      <td>2015-01-01 02:00:00</td>\n",
       "    </tr>\n",
       "    <tr>\n",
       "      <th>3</th>\n",
       "      <td>7965</td>\n",
       "      <td>2015-01-01 03:00:00</td>\n",
       "    </tr>\n",
       "    <tr>\n",
       "      <th>4</th>\n",
       "      <td>8120</td>\n",
       "      <td>2015-01-01 04:00:00</td>\n",
       "    </tr>\n",
       "    <tr>\n",
       "      <th>...</th>\n",
       "      <td>...</td>\n",
       "      <td>...</td>\n",
       "    </tr>\n",
       "    <tr>\n",
       "      <th>46603</th>\n",
       "      <td>16858</td>\n",
       "      <td>2020-04-30 19:00:00</td>\n",
       "    </tr>\n",
       "    <tr>\n",
       "      <th>46604</th>\n",
       "      <td>17105</td>\n",
       "      <td>2020-04-30 20:00:00</td>\n",
       "    </tr>\n",
       "    <tr>\n",
       "      <th>46605</th>\n",
       "      <td>16824</td>\n",
       "      <td>2020-04-30 21:00:00</td>\n",
       "    </tr>\n",
       "    <tr>\n",
       "      <th>46606</th>\n",
       "      <td>16332</td>\n",
       "      <td>2020-04-30 22:00:00</td>\n",
       "    </tr>\n",
       "    <tr>\n",
       "      <th>46607</th>\n",
       "      <td>15003</td>\n",
       "      <td>2020-04-30 23:00:00</td>\n",
       "    </tr>\n",
       "  </tbody>\n",
       "</table>\n",
       "<p>46608 rows × 2 columns</p>\n",
       "</div>"
      ],
      "text/plain": [
       "      System_load       date_and_hour\n",
       "0            8288 2015-01-01 00:00:00\n",
       "1            8099 2015-01-01 01:00:00\n",
       "2            7994 2015-01-01 02:00:00\n",
       "3            7965 2015-01-01 03:00:00\n",
       "4            8120 2015-01-01 04:00:00\n",
       "...           ...                 ...\n",
       "46603       16858 2020-04-30 19:00:00\n",
       "46604       17105 2020-04-30 20:00:00\n",
       "46605       16824 2020-04-30 21:00:00\n",
       "46606       16332 2020-04-30 22:00:00\n",
       "46607       15003 2020-04-30 23:00:00\n",
       "\n",
       "[46608 rows x 2 columns]"
      ]
     },
     "execution_count": 38,
     "metadata": {},
     "output_type": "execute_result"
    }
   ],
   "source": [
    "#df.set_index('date_and_hour', inplace=True)\n",
    "df"
   ]
  },
  {
   "cell_type": "code",
   "execution_count": 39,
   "metadata": {},
   "outputs": [
    {
     "data": {
      "text/html": [
       "<div>\n",
       "<style scoped>\n",
       "    .dataframe tbody tr th:only-of-type {\n",
       "        vertical-align: middle;\n",
       "    }\n",
       "\n",
       "    .dataframe tbody tr th {\n",
       "        vertical-align: top;\n",
       "    }\n",
       "\n",
       "    .dataframe thead th {\n",
       "        text-align: right;\n",
       "    }\n",
       "</style>\n",
       "<table border=\"1\" class=\"dataframe\">\n",
       "  <thead>\n",
       "    <tr style=\"text-align: right;\">\n",
       "      <th></th>\n",
       "      <th>System_load</th>\n",
       "      <th>date_and_hour</th>\n",
       "    </tr>\n",
       "  </thead>\n",
       "  <tbody>\n",
       "    <tr>\n",
       "      <th>0</th>\n",
       "      <td>8288</td>\n",
       "      <td>2015-01-01 00:00:00</td>\n",
       "    </tr>\n",
       "    <tr>\n",
       "      <th>1</th>\n",
       "      <td>8099</td>\n",
       "      <td>2015-01-01 01:00:00</td>\n",
       "    </tr>\n",
       "    <tr>\n",
       "      <th>2</th>\n",
       "      <td>7994</td>\n",
       "      <td>2015-01-01 02:00:00</td>\n",
       "    </tr>\n",
       "    <tr>\n",
       "      <th>3</th>\n",
       "      <td>7965</td>\n",
       "      <td>2015-01-01 03:00:00</td>\n",
       "    </tr>\n",
       "    <tr>\n",
       "      <th>4</th>\n",
       "      <td>8120</td>\n",
       "      <td>2015-01-01 04:00:00</td>\n",
       "    </tr>\n",
       "    <tr>\n",
       "      <th>...</th>\n",
       "      <td>...</td>\n",
       "      <td>...</td>\n",
       "    </tr>\n",
       "    <tr>\n",
       "      <th>46603</th>\n",
       "      <td>16858</td>\n",
       "      <td>2020-04-30 19:00:00</td>\n",
       "    </tr>\n",
       "    <tr>\n",
       "      <th>46604</th>\n",
       "      <td>17105</td>\n",
       "      <td>2020-04-30 20:00:00</td>\n",
       "    </tr>\n",
       "    <tr>\n",
       "      <th>46605</th>\n",
       "      <td>16824</td>\n",
       "      <td>2020-04-30 21:00:00</td>\n",
       "    </tr>\n",
       "    <tr>\n",
       "      <th>46606</th>\n",
       "      <td>16332</td>\n",
       "      <td>2020-04-30 22:00:00</td>\n",
       "    </tr>\n",
       "    <tr>\n",
       "      <th>46607</th>\n",
       "      <td>15003</td>\n",
       "      <td>2020-04-30 23:00:00</td>\n",
       "    </tr>\n",
       "  </tbody>\n",
       "</table>\n",
       "<p>46557 rows × 2 columns</p>\n",
       "</div>"
      ],
      "text/plain": [
       "      System_load       date_and_hour\n",
       "0            8288 2015-01-01 00:00:00\n",
       "1            8099 2015-01-01 01:00:00\n",
       "2            7994 2015-01-01 02:00:00\n",
       "3            7965 2015-01-01 03:00:00\n",
       "4            8120 2015-01-01 04:00:00\n",
       "...           ...                 ...\n",
       "46603       16858 2020-04-30 19:00:00\n",
       "46604       17105 2020-04-30 20:00:00\n",
       "46605       16824 2020-04-30 21:00:00\n",
       "46606       16332 2020-04-30 22:00:00\n",
       "46607       15003 2020-04-30 23:00:00\n",
       "\n",
       "[46557 rows x 2 columns]"
      ]
     },
     "execution_count": 39,
     "metadata": {},
     "output_type": "execute_result"
    }
   ],
   "source": [
    "# Drop Duplicates Except the First Occurrence\n",
    "df.drop_duplicates(subset=['date_and_hour'], keep ='first',  inplace= True)\n",
    "df"
   ]
  },
  {
   "cell_type": "code",
   "execution_count": 50,
   "metadata": {},
   "outputs": [
    {
     "data": {
      "text/html": [
       "<div>\n",
       "<style scoped>\n",
       "    .dataframe tbody tr th:only-of-type {\n",
       "        vertical-align: middle;\n",
       "    }\n",
       "\n",
       "    .dataframe tbody tr th {\n",
       "        vertical-align: top;\n",
       "    }\n",
       "\n",
       "    .dataframe thead th {\n",
       "        text-align: right;\n",
       "    }\n",
       "</style>\n",
       "<table border=\"1\" class=\"dataframe\">\n",
       "  <thead>\n",
       "    <tr style=\"text-align: right;\">\n",
       "      <th></th>\n",
       "      <th>date_and_hour</th>\n",
       "      <th>System_load</th>\n",
       "    </tr>\n",
       "  </thead>\n",
       "  <tbody>\n",
       "    <tr>\n",
       "      <th>120</th>\n",
       "      <td>2015-01-06 00:00:00</td>\n",
       "      <td>8212.0</td>\n",
       "    </tr>\n",
       "    <tr>\n",
       "      <th>121</th>\n",
       "      <td>2015-01-06 01:00:00</td>\n",
       "      <td>8134.0</td>\n",
       "    </tr>\n",
       "    <tr>\n",
       "      <th>122</th>\n",
       "      <td>2015-01-06 02:00:00</td>\n",
       "      <td>8014.0</td>\n",
       "    </tr>\n",
       "    <tr>\n",
       "      <th>123</th>\n",
       "      <td>2015-01-06 03:00:00</td>\n",
       "      <td>7699.0</td>\n",
       "    </tr>\n",
       "    <tr>\n",
       "      <th>124</th>\n",
       "      <td>2015-01-06 04:00:00</td>\n",
       "      <td>7652.0</td>\n",
       "    </tr>\n",
       "    <tr>\n",
       "      <th>125</th>\n",
       "      <td>2015-01-06 05:00:00</td>\n",
       "      <td>7947.0</td>\n",
       "    </tr>\n",
       "    <tr>\n",
       "      <th>126</th>\n",
       "      <td>2015-01-06 06:00:00</td>\n",
       "      <td>8399.0</td>\n",
       "    </tr>\n",
       "    <tr>\n",
       "      <th>127</th>\n",
       "      <td>2015-01-06 07:00:00</td>\n",
       "      <td>8428.0</td>\n",
       "    </tr>\n",
       "    <tr>\n",
       "      <th>128</th>\n",
       "      <td>2015-01-06 08:00:00</td>\n",
       "      <td>8083.0</td>\n",
       "    </tr>\n",
       "    <tr>\n",
       "      <th>129</th>\n",
       "      <td>2015-01-06 09:00:00</td>\n",
       "      <td>8042.0</td>\n",
       "    </tr>\n",
       "    <tr>\n",
       "      <th>130</th>\n",
       "      <td>2015-01-06 10:00:00</td>\n",
       "      <td>8055.0</td>\n",
       "    </tr>\n",
       "    <tr>\n",
       "      <th>131</th>\n",
       "      <td>2015-01-06 11:00:00</td>\n",
       "      <td>8282.0</td>\n",
       "    </tr>\n",
       "    <tr>\n",
       "      <th>132</th>\n",
       "      <td>2015-01-06 12:00:00</td>\n",
       "      <td>9066.0</td>\n",
       "    </tr>\n",
       "    <tr>\n",
       "      <th>133</th>\n",
       "      <td>2015-01-06 13:00:00</td>\n",
       "      <td>9117.0</td>\n",
       "    </tr>\n",
       "    <tr>\n",
       "      <th>134</th>\n",
       "      <td>2015-01-06 14:00:00</td>\n",
       "      <td>9088.0</td>\n",
       "    </tr>\n",
       "    <tr>\n",
       "      <th>135</th>\n",
       "      <td>2015-01-06 15:00:00</td>\n",
       "      <td>9117.0</td>\n",
       "    </tr>\n",
       "    <tr>\n",
       "      <th>136</th>\n",
       "      <td>2015-01-06 16:00:00</td>\n",
       "      <td>9151.0</td>\n",
       "    </tr>\n",
       "    <tr>\n",
       "      <th>137</th>\n",
       "      <td>2015-01-06 17:00:00</td>\n",
       "      <td>9455.0</td>\n",
       "    </tr>\n",
       "    <tr>\n",
       "      <th>138</th>\n",
       "      <td>2015-01-06 18:00:00</td>\n",
       "      <td>9463.0</td>\n",
       "    </tr>\n",
       "    <tr>\n",
       "      <th>139</th>\n",
       "      <td>2015-01-06 19:00:00</td>\n",
       "      <td>9946.0</td>\n",
       "    </tr>\n",
       "    <tr>\n",
       "      <th>140</th>\n",
       "      <td>2015-01-06 20:00:00</td>\n",
       "      <td>10209.0</td>\n",
       "    </tr>\n",
       "    <tr>\n",
       "      <th>141</th>\n",
       "      <td>2015-01-06 21:00:00</td>\n",
       "      <td>9581.0</td>\n",
       "    </tr>\n",
       "    <tr>\n",
       "      <th>142</th>\n",
       "      <td>2015-01-06 22:00:00</td>\n",
       "      <td>8913.0</td>\n",
       "    </tr>\n",
       "    <tr>\n",
       "      <th>143</th>\n",
       "      <td>2015-01-06 23:00:00</td>\n",
       "      <td>8806.0</td>\n",
       "    </tr>\n",
       "    <tr>\n",
       "      <th>144</th>\n",
       "      <td>2015-01-07 00:00:00</td>\n",
       "      <td>8181.0</td>\n",
       "    </tr>\n",
       "    <tr>\n",
       "      <th>145</th>\n",
       "      <td>2015-01-07 01:00:00</td>\n",
       "      <td>8175.0</td>\n",
       "    </tr>\n",
       "    <tr>\n",
       "      <th>146</th>\n",
       "      <td>2015-01-07 02:00:00</td>\n",
       "      <td>8053.0</td>\n",
       "    </tr>\n",
       "    <tr>\n",
       "      <th>147</th>\n",
       "      <td>2015-01-07 03:00:00</td>\n",
       "      <td>7794.0</td>\n",
       "    </tr>\n",
       "    <tr>\n",
       "      <th>148</th>\n",
       "      <td>2015-01-07 04:00:00</td>\n",
       "      <td>7882.0</td>\n",
       "    </tr>\n",
       "    <tr>\n",
       "      <th>149</th>\n",
       "      <td>2015-01-07 05:00:00</td>\n",
       "      <td>8423.0</td>\n",
       "    </tr>\n",
       "  </tbody>\n",
       "</table>\n",
       "</div>"
      ],
      "text/plain": [
       "          date_and_hour  System_load\n",
       "120 2015-01-06 00:00:00       8212.0\n",
       "121 2015-01-06 01:00:00       8134.0\n",
       "122 2015-01-06 02:00:00       8014.0\n",
       "123 2015-01-06 03:00:00       7699.0\n",
       "124 2015-01-06 04:00:00       7652.0\n",
       "125 2015-01-06 05:00:00       7947.0\n",
       "126 2015-01-06 06:00:00       8399.0\n",
       "127 2015-01-06 07:00:00       8428.0\n",
       "128 2015-01-06 08:00:00       8083.0\n",
       "129 2015-01-06 09:00:00       8042.0\n",
       "130 2015-01-06 10:00:00       8055.0\n",
       "131 2015-01-06 11:00:00       8282.0\n",
       "132 2015-01-06 12:00:00       9066.0\n",
       "133 2015-01-06 13:00:00       9117.0\n",
       "134 2015-01-06 14:00:00       9088.0\n",
       "135 2015-01-06 15:00:00       9117.0\n",
       "136 2015-01-06 16:00:00       9151.0\n",
       "137 2015-01-06 17:00:00       9455.0\n",
       "138 2015-01-06 18:00:00       9463.0\n",
       "139 2015-01-06 19:00:00       9946.0\n",
       "140 2015-01-06 20:00:00      10209.0\n",
       "141 2015-01-06 21:00:00       9581.0\n",
       "142 2015-01-06 22:00:00       8913.0\n",
       "143 2015-01-06 23:00:00       8806.0\n",
       "144 2015-01-07 00:00:00       8181.0\n",
       "145 2015-01-07 01:00:00       8175.0\n",
       "146 2015-01-07 02:00:00       8053.0\n",
       "147 2015-01-07 03:00:00       7794.0\n",
       "148 2015-01-07 04:00:00       7882.0\n",
       "149 2015-01-07 05:00:00       8423.0"
      ]
     },
     "execution_count": 50,
     "metadata": {},
     "output_type": "execute_result"
    }
   ],
   "source": [
    "df.iloc[120:150]"
   ]
  },
  {
   "cell_type": "code",
   "execution_count": null,
   "metadata": {},
   "outputs": [],
   "source": [
    "df.set_index('date_and_hour', inplace=True)\n",
    "df=df.sort_index(ascending=True)\n",
    "\n",
    "df.head(1)"
   ]
  },
  {
   "cell_type": "code",
   "execution_count": null,
   "metadata": {},
   "outputs": [],
   "source": []
  },
  {
   "cell_type": "code",
   "execution_count": 42,
   "metadata": {},
   "outputs": [
    {
     "name": "stdout",
     "output_type": "stream",
     "text": [
      "\n",
      "Number of Missing Timestamp=  171 \n",
      "\n",
      "[Timestamp('2015-01-07 23:00:00'), Timestamp('2015-01-08 00:00:00'), Timestamp('2015-03-12 02:00:00'), Timestamp('2015-06-05 08:00:00'), Timestamp('2015-06-05 09:00:00'), Timestamp('2015-06-05 10:00:00'), Timestamp('2015-06-05 11:00:00'), Timestamp('2015-06-05 12:00:00'), Timestamp('2015-06-05 13:00:00'), Timestamp('2015-06-05 14:00:00'), Timestamp('2015-06-05 15:00:00'), Timestamp('2015-06-05 16:00:00'), Timestamp('2015-06-05 17:00:00'), Timestamp('2015-06-05 18:00:00'), Timestamp('2015-06-05 19:00:00'), Timestamp('2015-06-05 20:00:00'), Timestamp('2015-06-05 21:00:00'), Timestamp('2015-06-05 22:00:00'), Timestamp('2015-06-05 23:00:00'), Timestamp('2015-06-06 00:00:00'), Timestamp('2015-06-06 01:00:00'), Timestamp('2015-06-06 02:00:00'), Timestamp('2015-06-06 03:00:00'), Timestamp('2015-06-06 04:00:00'), Timestamp('2015-06-06 05:00:00'), Timestamp('2015-06-06 06:00:00'), Timestamp('2015-06-06 07:00:00'), Timestamp('2015-07-03 01:00:00'), Timestamp('2016-01-07 23:00:00'), Timestamp('2016-01-08 00:00:00'), Timestamp('2016-02-29 00:00:00'), Timestamp('2016-02-29 01:00:00'), Timestamp('2016-02-29 02:00:00'), Timestamp('2016-02-29 03:00:00'), Timestamp('2016-02-29 04:00:00'), Timestamp('2016-02-29 05:00:00'), Timestamp('2016-02-29 06:00:00'), Timestamp('2016-02-29 07:00:00'), Timestamp('2016-02-29 08:00:00'), Timestamp('2016-02-29 09:00:00'), Timestamp('2016-02-29 10:00:00'), Timestamp('2016-02-29 11:00:00'), Timestamp('2016-02-29 12:00:00'), Timestamp('2016-02-29 13:00:00'), Timestamp('2016-02-29 14:00:00'), Timestamp('2016-02-29 15:00:00'), Timestamp('2016-02-29 16:00:00'), Timestamp('2016-02-29 17:00:00'), Timestamp('2016-02-29 18:00:00'), Timestamp('2016-02-29 19:00:00'), Timestamp('2016-02-29 20:00:00'), Timestamp('2016-02-29 21:00:00'), Timestamp('2016-02-29 22:00:00'), Timestamp('2016-02-29 23:00:00'), Timestamp('2016-03-12 02:00:00'), Timestamp('2016-06-05 08:00:00'), Timestamp('2016-06-05 09:00:00'), Timestamp('2016-06-05 10:00:00'), Timestamp('2016-06-05 11:00:00'), Timestamp('2016-06-05 12:00:00'), Timestamp('2016-06-05 13:00:00'), Timestamp('2016-06-05 14:00:00'), Timestamp('2016-06-05 15:00:00'), Timestamp('2016-06-05 16:00:00'), Timestamp('2016-06-05 17:00:00'), Timestamp('2016-06-05 18:00:00'), Timestamp('2016-06-05 19:00:00'), Timestamp('2016-06-05 20:00:00'), Timestamp('2016-06-05 21:00:00'), Timestamp('2016-06-05 22:00:00'), Timestamp('2016-06-05 23:00:00'), Timestamp('2016-06-06 00:00:00'), Timestamp('2016-06-06 01:00:00'), Timestamp('2016-06-06 02:00:00'), Timestamp('2016-06-06 03:00:00'), Timestamp('2016-06-06 04:00:00'), Timestamp('2016-06-06 05:00:00'), Timestamp('2016-06-06 06:00:00'), Timestamp('2016-06-06 07:00:00'), Timestamp('2017-01-07 23:00:00'), Timestamp('2017-01-08 00:00:00'), Timestamp('2017-03-12 02:00:00'), Timestamp('2017-06-05 08:00:00'), Timestamp('2017-06-05 09:00:00'), Timestamp('2017-06-05 10:00:00'), Timestamp('2017-06-05 11:00:00'), Timestamp('2017-06-05 12:00:00'), Timestamp('2017-06-05 13:00:00'), Timestamp('2017-06-05 14:00:00'), Timestamp('2017-06-05 15:00:00'), Timestamp('2017-06-05 16:00:00'), Timestamp('2017-06-05 17:00:00'), Timestamp('2017-06-05 18:00:00'), Timestamp('2017-06-05 19:00:00'), Timestamp('2017-06-05 20:00:00'), Timestamp('2017-06-05 21:00:00'), Timestamp('2017-06-05 22:00:00'), Timestamp('2017-06-05 23:00:00'), Timestamp('2017-06-06 00:00:00'), Timestamp('2017-06-06 01:00:00'), Timestamp('2017-06-06 02:00:00'), Timestamp('2017-06-06 03:00:00'), Timestamp('2017-06-06 04:00:00'), Timestamp('2017-06-06 05:00:00'), Timestamp('2017-06-06 06:00:00'), Timestamp('2017-06-06 07:00:00'), Timestamp('2017-07-03 01:00:00'), Timestamp('2018-01-07 23:00:00'), Timestamp('2018-01-08 00:00:00'), Timestamp('2018-03-12 02:00:00'), Timestamp('2018-06-05 08:00:00'), Timestamp('2018-06-05 09:00:00'), Timestamp('2018-06-05 10:00:00'), Timestamp('2018-06-05 11:00:00'), Timestamp('2018-06-05 12:00:00'), Timestamp('2018-06-05 13:00:00'), Timestamp('2018-06-05 14:00:00'), Timestamp('2018-06-05 15:00:00'), Timestamp('2018-06-05 16:00:00'), Timestamp('2018-06-05 17:00:00'), Timestamp('2018-06-05 18:00:00'), Timestamp('2018-06-05 19:00:00'), Timestamp('2018-06-05 20:00:00'), Timestamp('2018-06-05 21:00:00'), Timestamp('2018-06-05 22:00:00'), Timestamp('2018-06-05 23:00:00'), Timestamp('2018-06-06 00:00:00'), Timestamp('2018-06-06 01:00:00'), Timestamp('2018-06-06 02:00:00'), Timestamp('2018-06-06 03:00:00'), Timestamp('2018-06-06 04:00:00'), Timestamp('2018-06-06 05:00:00'), Timestamp('2018-06-06 06:00:00'), Timestamp('2018-06-06 07:00:00'), Timestamp('2018-07-03 01:00:00'), Timestamp('2019-01-09 23:00:00'), Timestamp('2019-01-27 23:00:00'), Timestamp('2019-02-08 23:00:00'), Timestamp('2019-02-10 23:00:00'), Timestamp('2019-02-27 23:00:00'), Timestamp('2019-03-02 23:00:00'), Timestamp('2019-03-20 23:00:00'), Timestamp('2019-04-12 23:00:00'), Timestamp('2019-05-10 23:00:00'), Timestamp('2019-05-16 23:00:00'), Timestamp('2019-05-20 23:00:00'), Timestamp('2019-05-31 23:00:00'), Timestamp('2019-06-02 23:00:00'), Timestamp('2019-07-01 22:00:00'), Timestamp('2019-07-01 23:00:00'), Timestamp('2019-07-05 23:00:00'), Timestamp('2019-07-11 23:00:00'), Timestamp('2019-08-14 00:00:00'), Timestamp('2019-09-01 01:00:00'), Timestamp('2019-10-02 00:00:00'), Timestamp('2019-10-08 01:00:00'), Timestamp('2019-11-10 00:00:00'), Timestamp('2019-12-19 00:00:00'), Timestamp('2019-12-21 00:00:00'), Timestamp('2019-12-24 00:00:00'), Timestamp('2019-12-28 00:00:00'), Timestamp('2020-01-03 23:00:00'), Timestamp('2020-01-11 00:00:00'), Timestamp('2020-01-31 00:00:00'), Timestamp('2020-02-17 01:00:00'), Timestamp('2020-03-22 23:00:00'), Timestamp('2020-03-23 22:00:00'), Timestamp('2020-03-30 22:00:00'), Timestamp('2020-03-30 23:00:00'), Timestamp('2020-04-02 22:00:00'), Timestamp('2020-04-02 23:00:00')]\n"
     ]
    }
   ],
   "source": [
    "missing_Timestamp=pd.date_range('2015-1-1','2020-4-30',freq='H').difference(df.index)\n",
    "print('\\nNumber of Missing Timestamp= ',len(missing_Timestamp),'\\n')\n",
    "print(missing_Timestamp.to_list())"
   ]
  },
  {
   "cell_type": "code",
   "execution_count": 43,
   "metadata": {},
   "outputs": [
    {
     "name": "stdout",
     "output_type": "stream",
     "text": [
      "\n",
      "Number of Missing Timestamp=  0 \n",
      "\n",
      "[]\n"
     ]
    }
   ],
   "source": [
    "df = df.resample('H').first().fillna(np.NaN)\n",
    "missing_Timestamp=pd.date_range('2015-1-1','2020-4-30',freq='H').difference(df.index)\n",
    "print('\\nNumber of Missing Timestamp= ',len(missing_Timestamp),'\\n')\n",
    "print(missing_Timestamp.to_list())"
   ]
  },
  {
   "cell_type": "code",
   "execution_count": 44,
   "metadata": {},
   "outputs": [
    {
     "data": {
      "text/html": [
       "<div>\n",
       "<style scoped>\n",
       "    .dataframe tbody tr th:only-of-type {\n",
       "        vertical-align: middle;\n",
       "    }\n",
       "\n",
       "    .dataframe tbody tr th {\n",
       "        vertical-align: top;\n",
       "    }\n",
       "\n",
       "    .dataframe thead th {\n",
       "        text-align: right;\n",
       "    }\n",
       "</style>\n",
       "<table border=\"1\" class=\"dataframe\">\n",
       "  <thead>\n",
       "    <tr style=\"text-align: right;\">\n",
       "      <th></th>\n",
       "      <th>date_and_hour</th>\n",
       "      <th>System_load</th>\n",
       "    </tr>\n",
       "  </thead>\n",
       "  <tbody>\n",
       "    <tr>\n",
       "      <th>167</th>\n",
       "      <td>2015-01-07 23:00:00</td>\n",
       "      <td>NaN</td>\n",
       "    </tr>\n",
       "    <tr>\n",
       "      <th>168</th>\n",
       "      <td>2015-01-08 00:00:00</td>\n",
       "      <td>NaN</td>\n",
       "    </tr>\n",
       "    <tr>\n",
       "      <th>1682</th>\n",
       "      <td>2015-03-12 02:00:00</td>\n",
       "      <td>NaN</td>\n",
       "    </tr>\n",
       "    <tr>\n",
       "      <th>3728</th>\n",
       "      <td>2015-06-05 08:00:00</td>\n",
       "      <td>NaN</td>\n",
       "    </tr>\n",
       "    <tr>\n",
       "      <th>3729</th>\n",
       "      <td>2015-06-05 09:00:00</td>\n",
       "      <td>NaN</td>\n",
       "    </tr>\n",
       "    <tr>\n",
       "      <th>...</th>\n",
       "      <td>...</td>\n",
       "      <td>...</td>\n",
       "    </tr>\n",
       "    <tr>\n",
       "      <th>45814</th>\n",
       "      <td>2020-03-23 22:00:00</td>\n",
       "      <td>NaN</td>\n",
       "    </tr>\n",
       "    <tr>\n",
       "      <th>45982</th>\n",
       "      <td>2020-03-30 22:00:00</td>\n",
       "      <td>NaN</td>\n",
       "    </tr>\n",
       "    <tr>\n",
       "      <th>45983</th>\n",
       "      <td>2020-03-30 23:00:00</td>\n",
       "      <td>NaN</td>\n",
       "    </tr>\n",
       "    <tr>\n",
       "      <th>46054</th>\n",
       "      <td>2020-04-02 22:00:00</td>\n",
       "      <td>NaN</td>\n",
       "    </tr>\n",
       "    <tr>\n",
       "      <th>46055</th>\n",
       "      <td>2020-04-02 23:00:00</td>\n",
       "      <td>NaN</td>\n",
       "    </tr>\n",
       "  </tbody>\n",
       "</table>\n",
       "<p>171 rows × 2 columns</p>\n",
       "</div>"
      ],
      "text/plain": [
       "            date_and_hour System_load\n",
       "167   2015-01-07 23:00:00         NaN\n",
       "168   2015-01-08 00:00:00         NaN\n",
       "1682  2015-03-12 02:00:00         NaN\n",
       "3728  2015-06-05 08:00:00         NaN\n",
       "3729  2015-06-05 09:00:00         NaN\n",
       "...                   ...         ...\n",
       "45814 2020-03-23 22:00:00         NaN\n",
       "45982 2020-03-30 22:00:00         NaN\n",
       "45983 2020-03-30 23:00:00         NaN\n",
       "46054 2020-04-02 22:00:00         NaN\n",
       "46055 2020-04-02 23:00:00         NaN\n",
       "\n",
       "[171 rows x 2 columns]"
      ]
     },
     "execution_count": 44,
     "metadata": {},
     "output_type": "execute_result"
    }
   ],
   "source": [
    "df.reset_index(inplace=True)\n",
    "len_list=df[df['System_load'].isnull()].index.tolist()\n",
    "df.iloc[len_list[:len(len_list)]]"
   ]
  },
  {
   "cell_type": "code",
   "execution_count": 45,
   "metadata": {},
   "outputs": [
    {
     "name": "stdout",
     "output_type": "stream",
     "text": [
      "values are missing at the following indexes:\n",
      " [167, 168, 1682, 3728, 3729, 3730, 3731, 3732, 3733, 3734, 3735, 3736, 3737, 3738, 3739, 3740, 3741, 3742, 3743, 3744, 3745, 3746, 3747, 3748, 3749, 3750, 3751, 4393, 8927, 8928, 10176, 10177, 10178, 10179, 10180, 10181, 10182, 10183, 10184, 10185, 10186, 10187, 10188, 10189, 10190, 10191, 10192, 10193, 10194, 10195, 10196, 10197, 10198, 10199, 10466, 12512, 12513, 12514, 12515, 12516, 12517, 12518, 12519, 12520, 12521, 12522, 12523, 12524, 12525, 12526, 12527, 12528, 12529, 12530, 12531, 12532, 12533, 12534, 12535, 17711, 17712, 19226, 21272, 21273, 21274, 21275, 21276, 21277, 21278, 21279, 21280, 21281, 21282, 21283, 21284, 21285, 21286, 21287, 21288, 21289, 21290, 21291, 21292, 21293, 21294, 21295, 21937, 26471, 26472, 27986, 30032, 30033, 30034, 30035, 30036, 30037, 30038, 30039, 30040, 30041, 30042, 30043, 30044, 30045, 30046, 30047, 30048, 30049, 30050, 30051, 30052, 30053, 30054, 30055, 30697, 35279, 35711, 35999, 36047, 36455, 36527, 36959, 37511, 38183, 38327, 38423, 38687, 38735, 39430, 39431, 39527, 39671, 40464, 40897, 41640, 41785, 42576, 43512, 43560, 43632, 43728, 43895, 44064, 44544, 44953, 45791, 45814, 45982, 45983, 46054, 46055]\n"
     ]
    }
   ],
   "source": [
    "print('values are missing at the following indexes:\\n',len_list)"
   ]
  },
  {
   "cell_type": "code",
   "execution_count": 46,
   "metadata": {},
   "outputs": [],
   "source": [
    "df['System_load']=pd.to_numeric(df['System_load'],errors='coerce')"
   ]
  },
  {
   "cell_type": "code",
   "execution_count": 47,
   "metadata": {},
   "outputs": [
    {
     "data": {
      "text/plain": [
       "date_and_hour      0\n",
       "System_load      173\n",
       "dtype: int64"
      ]
     },
     "execution_count": 47,
     "metadata": {},
     "output_type": "execute_result"
    }
   ],
   "source": [
    "df.isnull().sum()"
   ]
  },
  {
   "cell_type": "code",
   "execution_count": 48,
   "metadata": {},
   "outputs": [],
   "source": [
    "df.to_csv('C:\\\\Users\\\\arif\\\\OneDrive\\\\Journal Paper\\\\Code\\\\Irshad\\\\Dataset\\\\2_Missing_Values_Identified.csv',index=False)"
   ]
  },
  {
   "cell_type": "code",
   "execution_count": null,
   "metadata": {},
   "outputs": [],
   "source": []
  }
 ],
 "metadata": {
  "kernelspec": {
   "display_name": "Python 3 (ipykernel)",
   "language": "python",
   "name": "python3"
  },
  "language_info": {
   "codemirror_mode": {
    "name": "ipython",
    "version": 3
   },
   "file_extension": ".py",
   "mimetype": "text/x-python",
   "name": "python",
   "nbconvert_exporter": "python",
   "pygments_lexer": "ipython3",
   "version": "3.9.18"
  }
 },
 "nbformat": 4,
 "nbformat_minor": 4
}
