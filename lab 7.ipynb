{
 "cells": [
  {
   "cell_type": "code",
   "execution_count": 1,
   "id": "c55d6198",
   "metadata": {},
   "outputs": [],
   "source": [
    "import os\n",
    "os.chdir('C:\\\\Users\\\\Administrator\\\\Downloads\\\\ML Lab')"
   ]
  },
  {
   "cell_type": "code",
   "execution_count": 2,
   "id": "1dc1a38b",
   "metadata": {},
   "outputs": [],
   "source": [
    "\n",
    "from timeseires.utils.to_split import to_split\n",
    "from timeseires.callbacks.EpochCheckpoint import EpochCheckpoint\n",
    "from tensorflow.keras.callbacks import ModelCheckpoint\n",
    "from timeseires.callbacks.TrainingMonitor import TrainingMonitor\n",
    "from tensorflow.keras.optimizers import Adam\n",
    "from tensorflow.keras.optimizers import SGD\n",
    "from tensorflow.keras.models import load_model\n",
    "from tensorflow.keras.layers import LSTM\n",
    "from tensorflow.keras.layers import Conv1D,TimeDistributed\n",
    "from tensorflow.keras.layers import Dense, Dropout, Activation, Flatten,MaxPooling1D,Concatenate,AveragePooling1D, GlobalMaxPooling1D\n",
    "from tensorflow.keras.models import Sequential,Model\n",
    "import pandas as pd\n",
    "import time, pickle\n",
    "import numpy as np\n",
    "import tensorflow.keras.backend as K\n",
    "import tensorflow\n",
    "from tensorflow.keras.layers import Input, Reshape, Dense, Lambda\n",
    "from tensorflow.keras.layers import Layer, Flatten, LeakyReLU"
   ]
  },
  {
   "cell_type": "code",
   "execution_count": 3,
   "id": "aaca21d1",
   "metadata": {},
   "outputs": [],
   "source": [
    "checkpoints = r'C:\\Users\\Administrator\\Downloads\\ML Lab\\checkpoint\\ML Lab\\lab7\\\\E1-cp-{epoch:04d}-loss{val_loss:.2f}.h5'\n",
    "OUTPUT_PATH = r'C:\\Users\\Administrator\\Downloads\\ML Lab\\checkpoint\\ML Lab\\lab7'\n",
    "FIG_PATH = os.path.sep.join([OUTPUT_PATH,\"\\history.png\"])\n",
    "JSON_PATH = os.path.sep.join([OUTPUT_PATH,\"\\history.json\"])"
   ]
  },
  {
   "cell_type": "code",
   "execution_count": 7,
   "id": "472e9950",
   "metadata": {},
   "outputs": [],
   "source": [
    "model = None\n",
    "start_epoch = 0\n",
    "time_steps=24\n",
    "num_features=21"
   ]
  },
  {
   "cell_type": "code",
   "execution_count": 8,
   "id": "3fe054ab",
   "metadata": {},
   "outputs": [],
   "source": [
    "# construct the callback to save only the *best* model to disk\n",
    "# based on the validation loss\n",
    "EpochCheckpoint1 = ModelCheckpoint(checkpoints,\n",
    "                             monitor=\"val_loss\",\n",
    "                             save_best_only=True, \n",
    "                             verbose=1)\n",
    "TrainingMonitor1=TrainingMonitor(FIG_PATH, jsonPath=JSON_PATH, startAt=start_epoch)\n",
    "\n",
    "# construct the set of callbacks\n",
    "callbacks = [EpochCheckpoint1,TrainingMonitor1]"
   ]
  },
  {
   "cell_type": "code",
   "execution_count": 9,
   "id": "7fd42c09",
   "metadata": {},
   "outputs": [
    {
     "name": "stderr",
     "output_type": "stream",
     "text": [
      "C:\\Users\\Administrator\\anaconda3\\envs\\Time1\\lib\\site-packages\\sklearn\\base.py:347: InconsistentVersionWarning: Trying to unpickle estimator MinMaxScaler from version 1.0.2 when using version 1.3.0. This might lead to breaking code or invalid results. Use at your own risk. For more info please refer to:\n",
      "https://scikit-learn.org/stable/model_persistence.html#security-maintainability-limitations\n",
      "  warnings.warn(\n"
     ]
    },
    {
     "data": {
      "text/plain": [
       "((84907, 21), (24259, 21), (12130, 21))"
      ]
     },
     "execution_count": 9,
     "metadata": {},
     "output_type": "execute_result"
    }
   ],
   "source": [
    "import os\n",
    "path_dataset ='C:\\\\Users\\\\Administrator\\\\Downloads\\\\ML Lab\\\\AEP_hourly\\\\processed'\n",
    "path_tr = os.path.join(path_dataset, 'AEP_train.csv')\n",
    "df_tr = pd.read_csv(path_tr)\n",
    "train_set = df_tr.iloc[:].values\n",
    "path_v = os.path.join(path_dataset, 'AEP_validation.csv')\n",
    "df_v = pd.read_csv(path_v)\n",
    "validation_set = df_v.iloc[:].values \n",
    "path_te = os.path.join(path_dataset, 'AEP_test.csv')\n",
    "df_te = pd.read_csv(path_te)\n",
    "test_set = df_te.iloc[:].values \n",
    "\n",
    "path_scaler = os.path.join(path_dataset, 'AEP_scaler.pkl')\n",
    "scaler         = pickle.load(open(path_scaler, 'rb'))\n",
    "\n",
    "train_set.shape, validation_set.shape, test_set.shape"
   ]
  },
  {
   "cell_type": "code",
   "execution_count": 12,
   "id": "31c1a7fd-0ed4-44f5-bb3a-afae2df3b23d",
   "metadata": {},
   "outputs": [
    {
     "data": {
      "text/plain": [
       "array([[ 1.69100212e-01,  1.00000000e+00,  0.00000000e+00, ...,\n",
       "         6.12323400e-17, -9.99768502e-01,  2.15160974e-02],\n",
       "       [ 1.41395233e-01,  1.00000000e+00,  0.00000000e+00, ...,\n",
       "         6.12323400e-17, -9.99768502e-01,  2.15160974e-02],\n",
       "       [ 1.26232372e-01,  1.00000000e+00,  0.00000000e+00, ...,\n",
       "         6.12323400e-17, -9.99768502e-01,  2.15160974e-02],\n",
       "       ...,\n",
       "       [ 3.05503557e-01,  1.00000000e+00,  0.00000000e+00, ...,\n",
       "         1.00000000e+00,  3.93590277e-01, -9.19285970e-01],\n",
       "       [ 3.08873081e-01,  1.00000000e+00,  0.00000000e+00, ...,\n",
       "         1.00000000e+00,  3.93590277e-01, -9.19285970e-01],\n",
       "       [ 2.94583801e-01,  1.00000000e+00,  0.00000000e+00, ...,\n",
       "         1.00000000e+00,  3.93590277e-01, -9.19285970e-01]])"
      ]
     },
     "execution_count": 12,
     "metadata": {},
     "output_type": "execute_result"
    }
   ],
   "source": [
    "train_set"
   ]
  },
  {
   "cell_type": "code",
   "execution_count": 22,
   "id": "75a5b313-b8b7-4920-a3a0-1c9ea6b406b9",
   "metadata": {},
   "outputs": [],
   "source": [
    "train_X , train_y = to_split(train_set, time_steps=4, target_col=0, target_len=1)"
   ]
  },
  {
   "cell_type": "code",
   "execution_count": 23,
   "id": "83ebf089-a1e9-4fb1-a491-d0b7e1e545ac",
   "metadata": {},
   "outputs": [
    {
     "data": {
      "text/plain": [
       "array([[ 1.69100212e-01,  1.00000000e+00,  0.00000000e+00,\n",
       "         1.00000000e+00,  0.00000000e+00, -8.66025404e-01,\n",
       "         5.00000000e-01, -8.66025404e-01, -5.00000000e-01,\n",
       "         2.58819045e-01,  9.65925826e-01,  0.00000000e+00,\n",
       "         1.00000000e+00,  0.00000000e+00,  1.00000000e+00,\n",
       "         0.00000000e+00,  1.00000000e+00,  1.00000000e+00,\n",
       "         6.12323400e-17, -9.99768502e-01,  2.15160974e-02],\n",
       "       [ 1.41395233e-01,  1.00000000e+00,  0.00000000e+00,\n",
       "         1.00000000e+00,  0.00000000e+00, -8.66025404e-01,\n",
       "         5.00000000e-01, -8.66025404e-01, -5.00000000e-01,\n",
       "         5.00000000e-01,  8.66025404e-01,  0.00000000e+00,\n",
       "         1.00000000e+00,  0.00000000e+00,  1.00000000e+00,\n",
       "         0.00000000e+00,  1.00000000e+00,  1.00000000e+00,\n",
       "         6.12323400e-17, -9.99768502e-01,  2.15160974e-02],\n",
       "       [ 1.26232372e-01,  1.00000000e+00,  0.00000000e+00,\n",
       "         1.00000000e+00,  0.00000000e+00, -8.66025404e-01,\n",
       "         5.00000000e-01, -8.66025404e-01, -5.00000000e-01,\n",
       "         7.07106781e-01,  7.07106781e-01,  0.00000000e+00,\n",
       "         1.00000000e+00,  0.00000000e+00,  1.00000000e+00,\n",
       "         0.00000000e+00,  1.00000000e+00,  1.00000000e+00,\n",
       "         6.12323400e-17, -9.99768502e-01,  2.15160974e-02],\n",
       "       [ 1.20304505e-01,  1.00000000e+00,  0.00000000e+00,\n",
       "         1.00000000e+00,  0.00000000e+00, -8.66025404e-01,\n",
       "         5.00000000e-01, -8.66025404e-01, -5.00000000e-01,\n",
       "         8.66025404e-01,  5.00000000e-01,  0.00000000e+00,\n",
       "         1.00000000e+00,  0.00000000e+00,  1.00000000e+00,\n",
       "         0.00000000e+00,  1.00000000e+00,  1.00000000e+00,\n",
       "         6.12323400e-17, -9.99768502e-01,  2.15160974e-02]])"
      ]
     },
     "execution_count": 23,
     "metadata": {},
     "output_type": "execute_result"
    }
   ],
   "source": [
    "train_X[0]"
   ]
  },
  {
   "cell_type": "code",
   "execution_count": 24,
   "id": "e3728518-3396-4a56-b548-76c4121e13c4",
   "metadata": {},
   "outputs": [
    {
     "data": {
      "text/plain": [
       "array([0.12554599])"
      ]
     },
     "execution_count": 24,
     "metadata": {},
     "output_type": "execute_result"
    }
   ],
   "source": [
    "train_y[0]"
   ]
  },
  {
   "cell_type": "code",
   "execution_count": 13,
   "id": "eb8eb63d",
   "metadata": {},
   "outputs": [
    {
     "name": "stdout",
     "output_type": "stream",
     "text": [
      "Time Consumed 0.6282544136047363 sec\n"
     ]
    }
   ],
   "source": [
    "start = time.time()\n",
    "train_X , train_y = to_split(train_set, time_steps=time_steps, target_col=0, target_len=1)\n",
    "validation_X, validation_y = to_split(validation_set, time_steps=time_steps, target_col=0, target_len=1)\n",
    "test_X, test_y = to_split(test_set, time_steps=time_steps, target_col=0, target_len=1)\n",
    "print('Time Consumed', time.time()-start, \"sec\")"
   ]
  },
  {
   "cell_type": "code",
   "execution_count": 11,
   "id": "6bd5e453",
   "metadata": {},
   "outputs": [
    {
     "name": "stdout",
     "output_type": "stream",
     "text": [
      "Train on 32638 samples, validate on 9274 samples\n",
      "Epoch 1/40\n",
      "31232/32638 [===========================>..] - ETA: 0s - loss: 0.0941 - mae: 0.0941 - mape: 10115.1055\n",
      "Epoch 00001: val_loss improved from inf to 0.06557, saving model to C:\\Users\\arif\\OneDrive\\Journal Paper\\Code\\Checkpoints\\Paper1\\1_googleNet1D\\exp 3_a\\E1-cp-0001-loss0.07.h5\n",
      "32638/32638 [==============================] - 5s 159us/sample - loss: 0.0923 - mae: 0.0923 - mape: 9679.9150 - val_loss: 0.0656 - val_mae: 0.0656 - val_mape: 10.8854\n",
      "Epoch 2/40\n",
      "32256/32638 [============================>.] - ETA: 0s - loss: 0.0358 - mae: 0.0358 - mape: 10104.8818\n",
      "Epoch 00002: val_loss improved from 0.06557 to 0.03586, saving model to C:\\Users\\arif\\OneDrive\\Journal Paper\\Code\\Checkpoints\\Paper1\\1_googleNet1D\\exp 3_a\\E1-cp-0002-loss0.04.h5\n",
      "32638/32638 [==============================] - 2s 59us/sample - loss: 0.0359 - mae: 0.0359 - mape: 9986.7168 - val_loss: 0.0359 - val_mae: 0.0359 - val_mape: 6.6421\n",
      "Epoch 3/40\n",
      "31232/32638 [===========================>..] - ETA: 0s - loss: 0.0296 - mae: 0.0296 - mape: 9028.6191\n",
      "Epoch 00003: val_loss did not improve from 0.03586\n",
      "32638/32638 [==============================] - 2s 53us/sample - loss: 0.0297 - mae: 0.0297 - mape: 8639.9697 - val_loss: 0.0459 - val_mae: 0.0459 - val_mape: 8.7376\n",
      "Epoch 4/40\n",
      "31232/32638 [===========================>..] - ETA: 0s - loss: 0.0278 - mae: 0.0278 - mape: 9872.1904 \n",
      "Epoch 00004: val_loss improved from 0.03586 to 0.03197, saving model to C:\\Users\\arif\\OneDrive\\Journal Paper\\Code\\Checkpoints\\Paper1\\1_googleNet1D\\exp 3_a\\E1-cp-0004-loss0.03.h5\n",
      "32638/32638 [==============================] - 2s 53us/sample - loss: 0.0277 - mae: 0.0277 - mape: 9447.1484 - val_loss: 0.0320 - val_mae: 0.0320 - val_mape: 5.9663\n",
      "Epoch 5/40\n",
      "31232/32638 [===========================>..] - ETA: 0s - loss: 0.0259 - mae: 0.0259 - mape: 10391.6963\n",
      "Epoch 00005: val_loss did not improve from 0.03197\n",
      "32638/32638 [==============================] - 2s 54us/sample - loss: 0.0259 - mae: 0.0259 - mape: 9944.2578 - val_loss: 0.0323 - val_mae: 0.0323 - val_mape: 5.9078\n",
      "Epoch 6/40\n",
      "31232/32638 [===========================>..] - ETA: 0s - loss: 0.0246 - mae: 0.0246 - mape: 9787.3760 \n",
      "Epoch 00006: val_loss did not improve from 0.03197\n",
      "32638/32638 [==============================] - 2s 55us/sample - loss: 0.0246 - mae: 0.0246 - mape: 9366.0127 - val_loss: 0.0338 - val_mae: 0.0338 - val_mape: 6.1043\n",
      "Epoch 7/40\n",
      "31232/32638 [===========================>..] - ETA: 0s - loss: 0.0259 - mae: 0.0259 - mape: 10137.8311\n",
      "Epoch 00007: val_loss improved from 0.03197 to 0.03052, saving model to C:\\Users\\arif\\OneDrive\\Journal Paper\\Code\\Checkpoints\\Paper1\\1_googleNet1D\\exp 3_a\\E1-cp-0007-loss0.03.h5\n",
      "32638/32638 [==============================] - 2s 53us/sample - loss: 0.0258 - mae: 0.0258 - mape: 9701.3496 - val_loss: 0.0305 - val_mae: 0.0305 - val_mape: 5.5779\n",
      "Epoch 8/40\n",
      "32256/32638 [============================>.] - ETA: 0s - loss: 0.0235 - mae: 0.0235 - mape: 9521.5156\n",
      "Epoch 00008: val_loss improved from 0.03052 to 0.02897, saving model to C:\\Users\\arif\\OneDrive\\Journal Paper\\Code\\Checkpoints\\Paper1\\1_googleNet1D\\exp 3_a\\E1-cp-0008-loss0.03.h5\n",
      "32638/32638 [==============================] - 2s 53us/sample - loss: 0.0235 - mae: 0.0235 - mape: 9410.1250 - val_loss: 0.0290 - val_mae: 0.0290 - val_mape: 5.4528\n",
      "Epoch 9/40\n",
      "31232/32638 [===========================>..] - ETA: 0s - loss: 0.0229 - mae: 0.0229 - mape: 9557.2422 \n",
      "Epoch 00009: val_loss improved from 0.02897 to 0.02768, saving model to C:\\Users\\arif\\OneDrive\\Journal Paper\\Code\\Checkpoints\\Paper1\\1_googleNet1D\\exp 3_a\\E1-cp-0009-loss0.03.h5\n",
      "32638/32638 [==============================] - 2s 62us/sample - loss: 0.0228 - mae: 0.0228 - mape: 9145.7158 - val_loss: 0.0277 - val_mae: 0.0277 - val_mape: 5.2023\n",
      "Epoch 10/40\n",
      "31232/32638 [===========================>..] - ETA: 0s - loss: 0.0216 - mae: 0.0216 - mape: 9836.5439 \n",
      "Epoch 00010: val_loss did not improve from 0.02768\n",
      "32638/32638 [==============================] - 2s 52us/sample - loss: 0.0216 - mae: 0.0216 - mape: 9412.9834 - val_loss: 0.0280 - val_mae: 0.0280 - val_mape: 5.1134\n",
      "Epoch 11/40\n",
      "32256/32638 [============================>.] - ETA: 0s - loss: 0.0210 - mae: 0.0210 - mape: 9263.1514\n",
      "Epoch 00011: val_loss did not improve from 0.02768\n",
      "32638/32638 [==============================] - 2s 53us/sample - loss: 0.0210 - mae: 0.0210 - mape: 9154.7891 - val_loss: 0.0285 - val_mae: 0.0285 - val_mape: 5.1335\n",
      "Epoch 12/40\n",
      "31232/32638 [===========================>..] - ETA: 0s - loss: 0.0204 - mae: 0.0204 - mape: 9185.1240\n",
      "Epoch 00012: val_loss improved from 0.02768 to 0.02645, saving model to C:\\Users\\arif\\OneDrive\\Journal Paper\\Code\\Checkpoints\\Paper1\\1_googleNet1D\\exp 3_a\\E1-cp-0012-loss0.03.h5\n",
      "32638/32638 [==============================] - 2s 55us/sample - loss: 0.0204 - mae: 0.0204 - mape: 8789.6572 - val_loss: 0.0264 - val_mae: 0.0264 - val_mape: 4.7947\n",
      "Epoch 13/40\n",
      "31232/32638 [===========================>..] - ETA: 0s - loss: 0.0203 - mae: 0.0203 - mape: 9164.8174\n",
      "Epoch 00013: val_loss did not improve from 0.02645\n",
      "32638/32638 [==============================] - 2s 53us/sample - loss: 0.0204 - mae: 0.0204 - mape: 8770.3477 - val_loss: 0.0271 - val_mae: 0.0271 - val_mape: 4.9369\n",
      "Epoch 14/40\n",
      "31232/32638 [===========================>..] - ETA: 0s - loss: 0.0202 - mae: 0.0202 - mape: 9873.7070 \n",
      "Epoch 00014: val_loss did not improve from 0.02645\n",
      "32638/32638 [==============================] - 2s 52us/sample - loss: 0.0202 - mae: 0.0202 - mape: 9448.5400 - val_loss: 0.0274 - val_mae: 0.0274 - val_mape: 5.1429\n",
      "Epoch 15/40\n",
      "31232/32638 [===========================>..] - ETA: 0s - loss: 0.0197 - mae: 0.0197 - mape: 9100.5557\n",
      "Epoch 00015: val_loss did not improve from 0.02645\n",
      "32638/32638 [==============================] - 2s 52us/sample - loss: 0.0197 - mae: 0.0197 - mape: 8708.6924 - val_loss: 0.0302 - val_mae: 0.0302 - val_mape: 5.3394\n",
      "Epoch 16/40\n",
      "31744/32638 [============================>.] - ETA: 0s - loss: 0.0195 - mae: 0.0195 - mape: 9399.3877\n",
      "Epoch 00016: val_loss improved from 0.02645 to 0.02620, saving model to C:\\Users\\arif\\OneDrive\\Journal Paper\\Code\\Checkpoints\\Paper1\\1_googleNet1D\\exp 3_a\\E1-cp-0016-loss0.03.h5\n",
      "32638/32638 [==============================] - 2s 56us/sample - loss: 0.0195 - mae: 0.0195 - mape: 9142.0303 - val_loss: 0.0262 - val_mae: 0.0262 - val_mape: 4.6928\n",
      "Epoch 17/40\n",
      "31232/32638 [===========================>..] - ETA: 0s - loss: 0.0189 - mae: 0.0189 - mape: 9645.7451 \n",
      "Epoch 00017: val_loss did not improve from 0.02620\n",
      "32638/32638 [==============================] - 2s 55us/sample - loss: 0.0190 - mae: 0.0190 - mape: 9230.3955 - val_loss: 0.0275 - val_mae: 0.0275 - val_mape: 4.9615\n",
      "Epoch 18/40\n",
      "32256/32638 [============================>.] - ETA: 0s - loss: 0.0186 - mae: 0.0186 - mape: 8708.3486\n",
      "Epoch 00018: val_loss did not improve from 0.02620\n",
      "32638/32638 [==============================] - 2s 55us/sample - loss: 0.0186 - mae: 0.0186 - mape: 8606.4629 - val_loss: 0.0270 - val_mae: 0.0270 - val_mape: 5.0190\n",
      "Epoch 19/40\n",
      "31232/32638 [===========================>..] - ETA: 0s - loss: 0.0187 - mae: 0.0187 - mape: 9563.9541 \n",
      "Epoch 00019: val_loss improved from 0.02620 to 0.02501, saving model to C:\\Users\\arif\\OneDrive\\Journal Paper\\Code\\Checkpoints\\Paper1\\1_googleNet1D\\exp 3_a\\E1-cp-0019-loss0.03.h5\n",
      "32638/32638 [==============================] - 2s 53us/sample - loss: 0.0187 - mae: 0.0187 - mape: 9152.1113 - val_loss: 0.0250 - val_mae: 0.0250 - val_mape: 4.5912\n",
      "Epoch 20/40\n",
      "31232/32638 [===========================>..] - ETA: 0s - loss: 0.0181 - mae: 0.0181 - mape: 9009.6162\n",
      "Epoch 00020: val_loss did not improve from 0.02501\n",
      "32638/32638 [==============================] - 2s 52us/sample - loss: 0.0182 - mae: 0.0182 - mape: 8621.6602 - val_loss: 0.0254 - val_mae: 0.0254 - val_mape: 4.6541\n",
      "Epoch 21/40\n",
      "32256/32638 [============================>.] - ETA: 0s - loss: 0.0186 - mae: 0.0186 - mape: 9250.3906\n",
      "Epoch 00021: val_loss did not improve from 0.02501\n",
      "32638/32638 [==============================] - 2s 52us/sample - loss: 0.0186 - mae: 0.0186 - mape: 9142.1660 - val_loss: 0.0262 - val_mae: 0.0262 - val_mape: 4.6706\n",
      "Epoch 22/40\n",
      "31232/32638 [===========================>..] - ETA: 0s - loss: 0.0181 - mae: 0.0181 - mape: 9120.6680\n",
      "Epoch 00022: val_loss improved from 0.02501 to 0.02496, saving model to C:\\Users\\arif\\OneDrive\\Journal Paper\\Code\\Checkpoints\\Paper1\\1_googleNet1D\\exp 3_a\\E1-cp-0022-loss0.02.h5\n",
      "32638/32638 [==============================] - 2s 53us/sample - loss: 0.0181 - mae: 0.0181 - mape: 8727.9219 - val_loss: 0.0250 - val_mae: 0.0250 - val_mape: 4.5144\n",
      "Epoch 23/40\n",
      "31232/32638 [===========================>..] - ETA: 0s - loss: 0.0183 - mae: 0.0183 - mape: 9511.1748 \n",
      "Epoch 00023: val_loss did not improve from 0.02496\n",
      "32638/32638 [==============================] - 2s 53us/sample - loss: 0.0183 - mae: 0.0183 - mape: 9101.6104 - val_loss: 0.0257 - val_mae: 0.0257 - val_mape: 4.7140\n",
      "Epoch 24/40\n",
      "31232/32638 [===========================>..] - ETA: 0s - loss: 0.0179 - mae: 0.0179 - mape: 9409.2891\n",
      "Epoch 00024: val_loss did not improve from 0.02496\n",
      "32638/32638 [==============================] - 2s 53us/sample - loss: 0.0179 - mae: 0.0179 - mape: 9004.1025 - val_loss: 0.0255 - val_mae: 0.0255 - val_mape: 4.5110\n",
      "Epoch 25/40\n",
      "32256/32638 [============================>.] - ETA: 0s - loss: 0.0180 - mae: 0.0180 - mape: 9172.0625\n",
      "Epoch 00025: val_loss improved from 0.02496 to 0.02459, saving model to C:\\Users\\arif\\OneDrive\\Journal Paper\\Code\\Checkpoints\\Paper1\\1_googleNet1D\\exp 3_a\\E1-cp-0025-loss0.02.h5\n",
      "32638/32638 [==============================] - 2s 56us/sample - loss: 0.0180 - mae: 0.0180 - mape: 9064.7539 - val_loss: 0.0246 - val_mae: 0.0246 - val_mape: 4.4213\n",
      "Epoch 26/40\n",
      "31232/32638 [===========================>..] - ETA: 0s - loss: 0.0178 - mae: 0.0178 - mape: 9800.4639 \n",
      "Epoch 00026: val_loss did not improve from 0.02459\n",
      "32638/32638 [==============================] - 2s 57us/sample - loss: 0.0178 - mae: 0.0178 - mape: 9378.4219 - val_loss: 0.0249 - val_mae: 0.0249 - val_mape: 4.5222\n",
      "Epoch 27/40\n",
      "31744/32638 [============================>.] - ETA: 0s - loss: 0.0175 - mae: 0.0175 - mape: 9259.6973\n",
      "Epoch 00027: val_loss improved from 0.02459 to 0.02447, saving model to C:\\Users\\arif\\OneDrive\\Journal Paper\\Code\\Checkpoints\\Paper1\\1_googleNet1D\\exp 3_a\\E1-cp-0027-loss0.02.h5\n",
      "32638/32638 [==============================] - 2s 57us/sample - loss: 0.0175 - mae: 0.0175 - mape: 9006.1602 - val_loss: 0.0245 - val_mae: 0.0245 - val_mape: 4.3762\n",
      "Epoch 28/40\n",
      "31744/32638 [============================>.] - ETA: 0s - loss: 0.0173 - mae: 0.0173 - mape: 9377.6543\n",
      "Epoch 00028: val_loss improved from 0.02447 to 0.02433, saving model to C:\\Users\\arif\\OneDrive\\Journal Paper\\Code\\Checkpoints\\Paper1\\1_googleNet1D\\exp 3_a\\E1-cp-0028-loss0.02.h5\n",
      "32638/32638 [==============================] - 2s 58us/sample - loss: 0.0173 - mae: 0.0173 - mape: 9120.8809 - val_loss: 0.0243 - val_mae: 0.0243 - val_mape: 4.3409\n",
      "Epoch 29/40\n",
      "31232/32638 [===========================>..] - ETA: 0s - loss: 0.0178 - mae: 0.0178 - mape: 9330.1055\n",
      "Epoch 00029: val_loss did not improve from 0.02433\n",
      "32638/32638 [==============================] - 2s 55us/sample - loss: 0.0178 - mae: 0.0178 - mape: 8928.3516 - val_loss: 0.0299 - val_mae: 0.0299 - val_mape: 5.2671\n",
      "Epoch 30/40\n",
      "31744/32638 [============================>.] - ETA: 0s - loss: 0.0172 - mae: 0.0172 - mape: 9235.0000\n",
      "Epoch 00030: val_loss improved from 0.02433 to 0.02363, saving model to C:\\Users\\arif\\OneDrive\\Journal Paper\\Code\\Checkpoints\\Paper1\\1_googleNet1D\\exp 3_a\\E1-cp-0030-loss0.02.h5\n",
      "32638/32638 [==============================] - 2s 60us/sample - loss: 0.0172 - mae: 0.0172 - mape: 8982.1309 - val_loss: 0.0236 - val_mae: 0.0236 - val_mape: 4.2832\n",
      "Epoch 31/40\n",
      "31232/32638 [===========================>..] - ETA: 0s - loss: 0.0168 - mae: 0.0168 - mape: 9306.6387\n",
      "Epoch 00031: val_loss did not improve from 0.02363\n",
      "32638/32638 [==============================] - 2s 58us/sample - loss: 0.0168 - mae: 0.0168 - mape: 8905.8770 - val_loss: 0.0246 - val_mae: 0.0246 - val_mape: 4.4823\n",
      "Epoch 32/40\n",
      "31744/32638 [============================>.] - ETA: 0s - loss: 0.0170 - mae: 0.0170 - mape: 9404.7578\n",
      "Epoch 00032: val_loss did not improve from 0.02363\n",
      "32638/32638 [==============================] - 2s 58us/sample - loss: 0.0171 - mae: 0.0171 - mape: 9147.2549 - val_loss: 0.0268 - val_mae: 0.0268 - val_mape: 4.8818\n",
      "Epoch 33/40\n",
      "31232/32638 [===========================>..] - ETA: 0s - loss: 0.0167 - mae: 0.0167 - mape: 9554.0469 \n",
      "Epoch 00033: val_loss did not improve from 0.02363\n",
      "32638/32638 [==============================] - 2s 53us/sample - loss: 0.0167 - mae: 0.0167 - mape: 9142.6230 - val_loss: 0.0249 - val_mae: 0.0249 - val_mape: 4.5464\n",
      "Epoch 34/40\n",
      "31744/32638 [============================>.] - ETA: 0s - loss: 0.0165 - mae: 0.0165 - mape: 9382.8496\n",
      "Epoch 00034: val_loss improved from 0.02363 to 0.02331, saving model to C:\\Users\\arif\\OneDrive\\Journal Paper\\Code\\Checkpoints\\Paper1\\1_googleNet1D\\exp 3_a\\E1-cp-0034-loss0.02.h5\n",
      "32638/32638 [==============================] - 2s 55us/sample - loss: 0.0165 - mae: 0.0165 - mape: 9125.9453 - val_loss: 0.0233 - val_mae: 0.0233 - val_mape: 4.2053\n",
      "Epoch 35/40\n",
      "32256/32638 [============================>.] - ETA: 0s - loss: 0.0166 - mae: 0.0166 - mape: 9774.5898 - ETA: 0s - loss: 0.0166 - mae: 0.0166 - mape: 9309.2900\n",
      "Epoch 00035: val_loss did not improve from 0.02331\n",
      "32638/32638 [==============================] - 2s 55us/sample - loss: 0.0166 - mae: 0.0166 - mape: 9200.3740 - val_loss: 0.0243 - val_mae: 0.0243 - val_mape: 4.4530\n",
      "Epoch 36/40\n",
      "31744/32638 [============================>.] - ETA: 0s - loss: 0.0164 - mae: 0.0164 - mape: 9359.4707\n",
      "Epoch 00036: val_loss did not improve from 0.02331\n",
      "32638/32638 [==============================] - 2s 57us/sample - loss: 0.0164 - mae: 0.0164 - mape: 9103.2246 - val_loss: 0.0248 - val_mae: 0.0248 - val_mape: 4.5324\n",
      "Epoch 37/40\n",
      "31744/32638 [============================>.] - ETA: 0s - loss: 0.0164 - mae: 0.0164 - mape: 9534.9482 \n",
      "Epoch 00037: val_loss did not improve from 0.02331\n",
      "32638/32638 [==============================] - 2s 55us/sample - loss: 0.0164 - mae: 0.0164 - mape: 9273.8711 - val_loss: 0.0250 - val_mae: 0.0250 - val_mape: 4.5610\n",
      "Epoch 38/40\n",
      "32256/32638 [============================>.] - ETA: 0s - loss: 0.0175 - mae: 0.0175 - mape: 9172.5156\n",
      "Epoch 00038: val_loss improved from 0.02331 to 0.02313, saving model to C:\\Users\\arif\\OneDrive\\Journal Paper\\Code\\Checkpoints\\Paper1\\1_googleNet1D\\exp 3_a\\E1-cp-0038-loss0.02.h5\n",
      "32638/32638 [==============================] - 2s 56us/sample - loss: 0.0175 - mae: 0.0175 - mape: 9065.1973 - val_loss: 0.0231 - val_mae: 0.0231 - val_mape: 4.1649\n",
      "Epoch 39/40\n",
      "31744/32638 [============================>.] - ETA: 0s - loss: 0.0157 - mae: 0.0157 - mape: 9470.7998\n",
      "Epoch 00039: val_loss did not improve from 0.02313\n",
      "32638/32638 [==============================] - 2s 54us/sample - loss: 0.0158 - mae: 0.0158 - mape: 9211.4805 - val_loss: 0.0251 - val_mae: 0.0251 - val_mape: 4.5018\n",
      "Epoch 40/40\n",
      "31232/32638 [===========================>..] - ETA: 0s - loss: 0.0161 - mae: 0.0161 - mape: 9703.9580 \n",
      "Epoch 00040: val_loss did not improve from 0.02313\n",
      "32638/32638 [==============================] - 2s 54us/sample - loss: 0.0162 - mae: 0.0162 - mape: 9286.1016 - val_loss: 0.0263 - val_mae: 0.0263 - val_mape: 4.7091\n"
     ]
    }
   ],
   "source": [
    "epochs = 40\n",
    "verbose = 1 #0\n",
    "batch_size = 512\n",
    "History = model.fit(train_X,\n",
    "                        train_y,\n",
    "                        batch_size=batch_size,   #pa batch 16 mape 7.72%\n",
    "                        epochs = epochs, \n",
    "                        validation_data = (validation_X,validation_y),\n",
    "                        callbacks=callbacks,\n",
    "                        verbose = verbose)\n"
   ]
  },
  {
   "cell_type": "markdown",
   "id": "c87bc209",
   "metadata": {},
   "source": [
    "# Experiemnt 2"
   ]
  },
  {
   "cell_type": "code",
   "execution_count": 15,
   "id": "80c4e088",
   "metadata": {},
   "outputs": [],
   "source": [
    "checkpoints='C:\\\\Users\\\\arif\\\\OneDrive\\\\Journal Paper\\\\Code\\\\Checkpoints\\\\Paper1\\\\1_googleNet1D\\\\exp 3_a\\\\E2_cp-{epoch:04d}-loss{val_loss:.2f}.h5'\n",
    "model='C:\\\\Users\\\\arif\\\\OneDrive\\\\Journal Paper\\\\Code\\\\Checkpoints\\\\Paper1\\\\1_googleNet1D\\\\exp 3_a\\\\E1-cp-0038-loss0.02.h5'\n",
    "start_epoch=39"
   ]
  },
  {
   "cell_type": "code",
   "execution_count": 16,
   "id": "8b5abedd",
   "metadata": {},
   "outputs": [],
   "source": [
    "# construct the callback to save only the *best* model to disk\n",
    "# based on the validation loss\n",
    "EpochCheckpoint1 = ModelCheckpoint(checkpoints,\n",
    "                             monitor=\"val_loss\",\n",
    "                             save_best_only=True, \n",
    "                             verbose=1)\n",
    "TrainingMonitor1=TrainingMonitor(FIG_PATH, jsonPath=JSON_PATH, startAt=start_epoch)\n",
    "\n",
    "# construct the set of callbacks\n",
    "callbacks = [EpochCheckpoint1,TrainingMonitor1]"
   ]
  },
  {
   "cell_type": "code",
   "execution_count": 17,
   "id": "4fc279db",
   "metadata": {},
   "outputs": [
    {
     "name": "stdout",
     "output_type": "stream",
     "text": [
      "[INFO] loading C:\\Users\\arif\\OneDrive\\Journal Paper\\Code\\Checkpoints\\Paper1\\1_googleNet1D\\exp 3_a\\E1-cp-0038-loss0.02.h5...\n",
      "[INFO] old learning rate: 0.0010000000474974513\n",
      "[INFO] new learning rate: 0.0010000000474974513\n"
     ]
    }
   ],
   "source": [
    "# if there is no specific model checkpoint supplied, then initialize\n",
    "# the network and compile the model\n",
    "if model is None:\n",
    "    print(\"[INFO] compiling model...\")\n",
    "    model = build_model()\n",
    "    opt = Adam(1e-2)\n",
    "    model.compile(loss= 'mae', optimizer='adam', metrics=[\"mae\", \"mape\"])\n",
    "# otherwise, load the checkpoint from disk\n",
    "else:\n",
    "    print(\"[INFO] loading {}...\".format(model))\n",
    "    model = load_model(model)\n",
    "\n",
    "    # update the learning rate\n",
    "    print(\"[INFO] old learning rate: {}\".format(K.get_value(model.optimizer.lr)))\n",
    "    K.set_value(model.optimizer.lr, 1e-3)\n",
    "    print(\"[INFO] new learning rate: {}\".format(K.get_value(model.optimizer.lr)))"
   ]
  },
  {
   "cell_type": "code",
   "execution_count": 18,
   "id": "2de24144",
   "metadata": {},
   "outputs": [
    {
     "name": "stdout",
     "output_type": "stream",
     "text": [
      "Train on 32638 samples, validate on 9274 samples\n",
      "Epoch 1/20\n",
      "30720/32638 [===========================>..] - ETA: 0s - loss: 0.0155 - mae: 0.0155 - mape: 9915.5977 \n",
      "Epoch 00001: val_loss improved from inf to 0.02338, saving model to C:\\Users\\arif\\OneDrive\\Journal Paper\\Code\\Checkpoints\\Paper1\\1_googleNet1D\\exp 3_a\\E2_cp-0001-loss0.02.h5\n",
      "32638/32638 [==============================] - 3s 83us/sample - loss: 0.0155 - mae: 0.0155 - mape: 9333.1104 - val_loss: 0.0234 - val_mae: 0.0234 - val_mape: 4.1899\n",
      "Epoch 2/20\n",
      "30720/32638 [===========================>..] - ETA: 0s - loss: 0.0153 - mae: 0.0153 - mape: 9737.4648 \n",
      "Epoch 00002: val_loss improved from 0.02338 to 0.02300, saving model to C:\\Users\\arif\\OneDrive\\Journal Paper\\Code\\Checkpoints\\Paper1\\1_googleNet1D\\exp 3_a\\E2_cp-0002-loss0.02.h5\n",
      "32638/32638 [==============================] - 2s 49us/sample - loss: 0.0153 - mae: 0.0153 - mape: 9165.4072 - val_loss: 0.0230 - val_mae: 0.0230 - val_mape: 4.1990\n",
      "Epoch 3/20\n",
      "31744/32638 [============================>.] - ETA: 0s - loss: 0.0155 - mae: 0.0155 - mape: 9371.5127 \n",
      "Epoch 00003: val_loss did not improve from 0.02300\n",
      "32638/32638 [==============================] - 1s 44us/sample - loss: 0.0155 - mae: 0.0155 - mape: 9114.9131 - val_loss: 0.0240 - val_mae: 0.0240 - val_mape: 4.3232\n",
      "Epoch 4/20\n",
      "31744/32638 [============================>.] - ETA: 0s - loss: 0.0150 - mae: 0.0150 - mape: 9675.8936 \n",
      "Epoch 00004: val_loss did not improve from 0.02300\n",
      "32638/32638 [==============================] - 1s 45us/sample - loss: 0.0149 - mae: 0.0149 - mape: 9410.9395 - val_loss: 0.0232 - val_mae: 0.0232 - val_mape: 4.2287\n",
      "Epoch 5/20\n",
      "31744/32638 [============================>.] - ETA: 0s - loss: 0.0151 - mae: 0.0151 - mape: 9415.8770 \n",
      "Epoch 00005: val_loss did not improve from 0.02300\n",
      "32638/32638 [==============================] - 2s 48us/sample - loss: 0.0151 - mae: 0.0151 - mape: 9158.0449 - val_loss: 0.0230 - val_mae: 0.0230 - val_mape: 4.1100\n",
      "Epoch 6/20\n",
      "31744/32638 [============================>.] - ETA: 0s - loss: 0.0153 - mae: 0.0153 - mape: 9515.6514 \n",
      "Epoch 00006: val_loss did not improve from 0.02300\n",
      "32638/32638 [==============================] - 1s 43us/sample - loss: 0.0153 - mae: 0.0153 - mape: 9255.0967 - val_loss: 0.0232 - val_mae: 0.0232 - val_mape: 4.1912\n",
      "Epoch 7/20\n",
      "31744/32638 [============================>.] - ETA: 0s - loss: 0.0153 - mae: 0.0153 - mape: 9487.9385 \n",
      "Epoch 00007: val_loss improved from 0.02300 to 0.02238, saving model to C:\\Users\\arif\\OneDrive\\Journal Paper\\Code\\Checkpoints\\Paper1\\1_googleNet1D\\exp 3_a\\E2_cp-0007-loss0.02.h5\n",
      "32638/32638 [==============================] - 1s 45us/sample - loss: 0.0153 - mae: 0.0153 - mape: 9228.1436 - val_loss: 0.0224 - val_mae: 0.0224 - val_mape: 4.0230\n",
      "Epoch 8/20\n",
      "31744/32638 [============================>.] - ETA: 0s - loss: 0.0150 - mae: 0.0150 - mape: 9316.5332\n",
      "Epoch 00008: val_loss did not improve from 0.02238\n",
      "32638/32638 [==============================] - 1s 44us/sample - loss: 0.0150 - mae: 0.0150 - mape: 9061.4248 - val_loss: 0.0229 - val_mae: 0.0229 - val_mape: 4.1339\n",
      "Epoch 9/20\n",
      "31744/32638 [============================>.] - ETA: 0s - loss: 0.0153 - mae: 0.0153 - mape: 9495.8672 \n",
      "Epoch 00009: val_loss did not improve from 0.02238\n",
      "32638/32638 [==============================] - 1s 43us/sample - loss: 0.0154 - mae: 0.0154 - mape: 9235.8574 - val_loss: 0.0225 - val_mae: 0.0225 - val_mape: 4.0573\n",
      "Epoch 10/20\n",
      "31744/32638 [============================>.] - ETA: 0s - loss: 0.0155 - mae: 0.0155 - mape: 9716.8389 \n",
      "Epoch 00010: val_loss did not improve from 0.02238\n",
      "32638/32638 [==============================] - 1s 43us/sample - loss: 0.0155 - mae: 0.0155 - mape: 9450.7803 - val_loss: 0.0231 - val_mae: 0.0231 - val_mape: 4.1229\n",
      "Epoch 11/20\n",
      "31744/32638 [============================>.] - ETA: 0s - loss: 0.0155 - mae: 0.0155 - mape: 9252.5986\n",
      "Epoch 00011: val_loss did not improve from 0.02238\n",
      "32638/32638 [==============================] - 1s 44us/sample - loss: 0.0155 - mae: 0.0155 - mape: 8999.2441 - val_loss: 0.0234 - val_mae: 0.0234 - val_mape: 4.1700\n",
      "Epoch 12/20\n",
      "31744/32638 [============================>.] - ETA: 0s - loss: 0.0148 - mae: 0.0148 - mape: 9544.3359 \n",
      "Epoch 00012: val_loss did not improve from 0.02238\n",
      "32638/32638 [==============================] - 1s 45us/sample - loss: 0.0148 - mae: 0.0148 - mape: 9283.0000 - val_loss: 0.0228 - val_mae: 0.0228 - val_mape: 4.1377\n",
      "Epoch 13/20\n",
      "30720/32638 [===========================>..] - ETA: 0s - loss: 0.0151 - mae: 0.0151 - mape: 9862.8252 \n",
      "Epoch 00013: val_loss did not improve from 0.02238\n",
      "32638/32638 [==============================] - 1s 44us/sample - loss: 0.0152 - mae: 0.0152 - mape: 9283.4189 - val_loss: 0.0227 - val_mae: 0.0227 - val_mape: 4.0224\n",
      "Epoch 14/20\n",
      "31744/32638 [============================>.] - ETA: 0s - loss: 0.0151 - mae: 0.0151 - mape: 9566.4824 \n",
      "Epoch 00014: val_loss did not improve from 0.02238\n",
      "32638/32638 [==============================] - 1s 44us/sample - loss: 0.0151 - mae: 0.0151 - mape: 9304.5527 - val_loss: 0.0224 - val_mae: 0.0224 - val_mape: 4.0396\n",
      "Epoch 15/20\n",
      "31744/32638 [============================>.] - ETA: 0s - loss: 0.0146 - mae: 0.0146 - mape: 9596.7393 \n",
      "Epoch 00015: val_loss did not improve from 0.02238\n",
      "32638/32638 [==============================] - 2s 49us/sample - loss: 0.0147 - mae: 0.0147 - mape: 9333.9609 - val_loss: 0.0232 - val_mae: 0.0232 - val_mape: 4.0999\n",
      "Epoch 16/20\n",
      "31744/32638 [============================>.] - ETA: 0s - loss: 0.0149 - mae: 0.0149 - mape: 9429.9922 \n",
      "Epoch 00016: val_loss did not improve from 0.02238\n",
      "32638/32638 [==============================] - 1s 44us/sample - loss: 0.0149 - mae: 0.0149 - mape: 9171.7754 - val_loss: 0.0230 - val_mae: 0.0230 - val_mape: 4.1625\n",
      "Epoch 17/20\n",
      "31744/32638 [============================>.] - ETA: 0s - loss: 0.0149 - mae: 0.0149 - mape: 9576.2754 \n",
      "Epoch 00017: val_loss did not improve from 0.02238\n",
      "32638/32638 [==============================] - 1s 44us/sample - loss: 0.0149 - mae: 0.0149 - mape: 9314.0488 - val_loss: 0.0224 - val_mae: 0.0224 - val_mape: 4.0467\n",
      "Epoch 18/20\n",
      "31744/32638 [============================>.] - ETA: 0s - loss: 0.0153 - mae: 0.0153 - mape: 9635.0254 \n",
      "Epoch 00018: val_loss did not improve from 0.02238\n",
      "32638/32638 [==============================] - 1s 43us/sample - loss: 0.0153 - mae: 0.0153 - mape: 9371.1914 - val_loss: 0.0243 - val_mae: 0.0243 - val_mape: 4.2891\n",
      "Epoch 19/20\n",
      "31744/32638 [============================>.] - ETA: 0s - loss: 0.0151 - mae: 0.0151 - mape: 9341.6562\n",
      "Epoch 00019: val_loss improved from 0.02238 to 0.02220, saving model to C:\\Users\\arif\\OneDrive\\Journal Paper\\Code\\Checkpoints\\Paper1\\1_googleNet1D\\exp 3_a\\E2_cp-0019-loss0.02.h5\n",
      "32638/32638 [==============================] - 1s 45us/sample - loss: 0.0151 - mae: 0.0151 - mape: 9085.8633 - val_loss: 0.0222 - val_mae: 0.0222 - val_mape: 4.0137\n",
      "Epoch 20/20\n",
      "31744/32638 [============================>.] - ETA: 0s - loss: 0.0142 - mae: 0.0142 - mape: 9594.1826 \n",
      "Epoch 00020: val_loss improved from 0.02220 to 0.02214, saving model to C:\\Users\\arif\\OneDrive\\Journal Paper\\Code\\Checkpoints\\Paper1\\1_googleNet1D\\exp 3_a\\E2_cp-0020-loss0.02.h5\n",
      "32638/32638 [==============================] - 1s 46us/sample - loss: 0.0142 - mae: 0.0142 - mape: 9331.4678 - val_loss: 0.0221 - val_mae: 0.0221 - val_mape: 4.0175\n"
     ]
    }
   ],
   "source": [
    "epochs = 20\n",
    "verbose = 1 #0\n",
    "batch_size = 1024\n",
    "History = model.fit(train_X,\n",
    "                        train_y,\n",
    "                        batch_size=batch_size,   #pa batch 16 mape 7.72%\n",
    "                        epochs = epochs, \n",
    "                        validation_data = (validation_X,validation_y),\n",
    "                        callbacks=callbacks,\n",
    "                        verbose = verbose)\n"
   ]
  },
  {
   "cell_type": "code",
   "execution_count": 25,
   "id": "ee2e631d",
   "metadata": {},
   "outputs": [
    {
     "name": "stdout",
     "output_type": "stream",
     "text": [
      "Mean Absolute Error (MAE): 385.32\n",
      "Median Absolute Error (MedAE): 318.81\n",
      "Mean Squared Error (MSE): 249919.88\n",
      "Root Mean Squared Error (RMSE): 499.92\n",
      "Mean Absolute Percentage Error (MAPE): 3.86 %\n",
      "Median Absolute Percentage Error (MDAPE): 3.11 %\n",
      "\n",
      "\n",
      "y_test_unscaled.shape=  (4600, 1)\n",
      "y_pred.shape=  (4600, 1)\n"
     ]
    }
   ],
   "source": [
    "import pickle\n",
    "scaler = pickle.load(open(\"C:\\\\Users\\\\arif\\\\OneDrive\\\\Journal Paper\\\\Code\\\\Irshad\\\\Dataset\\\\scaler.pkl\", 'rb'))\n",
    "y_pred_scaled   = model.predict(test_X)\n",
    "y_pred          = scaler.inverse_transform(y_pred_scaled)\n",
    "y_test_unscaled = scaler.inverse_transform(test_y.reshape(-1, 1))\n",
    "# Mean Absolute Error (MAE)\n",
    "MAE = np.mean(abs(y_pred - y_test_unscaled))\n",
    "print('Mean Absolute Error (MAE): ' + str(np.round(MAE, 2)))\n",
    "\n",
    "# Median Absolute Error (MedAE)\n",
    "MEDAE = np.median(abs(y_pred - y_test_unscaled))\n",
    "print('Median Absolute Error (MedAE): ' + str(np.round(MEDAE, 2)))\n",
    "\n",
    "# Mean Squared Error (MSE)\n",
    "MSE = np.square(np.subtract(y_pred, y_test_unscaled)).mean()\n",
    "print('Mean Squared Error (MSE): ' + str(np.round(MSE, 2)))\n",
    "\n",
    "# Root Mean Squarred Error (RMSE) \n",
    "RMSE = np.sqrt(np.mean(np.square(y_pred - y_test_unscaled)))\n",
    "print('Root Mean Squared Error (RMSE): ' + str(np.round(RMSE, 2)))\n",
    "\n",
    "# Mean Absolute Percentage Error (MAPE)\n",
    "MAPE = np.mean((np.abs(np.subtract(y_test_unscaled, y_pred)/ y_test_unscaled))) * 100\n",
    "print('Mean Absolute Percentage Error (MAPE): ' + str(np.round(MAPE, 2)) + ' %')\n",
    "\n",
    "# Median Absolute Percentage Error (MDAPE)\n",
    "MDAPE = np.median((np.abs(np.subtract(y_test_unscaled, y_pred)/ y_test_unscaled))) * 100\n",
    "print('Median Absolute Percentage Error (MDAPE): ' + str(np.round(MDAPE, 2)) + ' %')\n",
    "\n",
    "print('\\n\\ny_test_unscaled.shape= ',y_test_unscaled.shape)\n",
    "print('y_pred.shape= ',y_pred.shape)"
   ]
  },
  {
   "cell_type": "markdown",
   "id": "a725d65d",
   "metadata": {},
   "source": [
    "# Experemnet 3"
   ]
  },
  {
   "cell_type": "code",
   "execution_count": 27,
   "id": "edd5f87e",
   "metadata": {},
   "outputs": [],
   "source": [
    "checkpoints='C:\\\\Users\\\\arif\\\\OneDrive\\\\Journal Paper\\\\Code\\\\Checkpoints\\\\Paper1\\\\1_googleNet1D\\\\exp 3_a\\\\E3_cp-{epoch:04d}-loss{val_loss:.2f}.h5'\n",
    "model='C:\\\\Users\\\\arif\\\\OneDrive\\\\Journal Paper\\\\Code\\\\Checkpoints\\\\Paper1\\\\1_googleNet1D\\\\exp 3_a\\\\E2_cp-0020-loss0.02.h5'\n",
    "start_epoch=20"
   ]
  },
  {
   "cell_type": "code",
   "execution_count": 28,
   "id": "6b937f3d",
   "metadata": {},
   "outputs": [],
   "source": [
    "# construct the callback to save only the *best* model to disk\n",
    "# based on the validation loss\n",
    "EpochCheckpoint1 = ModelCheckpoint(checkpoints,\n",
    "                             monitor=\"val_loss\",\n",
    "                             save_best_only=True, \n",
    "                             verbose=1)\n",
    "TrainingMonitor1=TrainingMonitor(FIG_PATH, jsonPath=JSON_PATH, startAt=start_epoch)\n",
    "\n",
    "# construct the set of callbacks\n",
    "callbacks = [EpochCheckpoint1,TrainingMonitor1]"
   ]
  },
  {
   "cell_type": "code",
   "execution_count": 29,
   "id": "72d6e4fa",
   "metadata": {},
   "outputs": [
    {
     "name": "stdout",
     "output_type": "stream",
     "text": [
      "[INFO] loading C:\\Users\\arif\\OneDrive\\Journal Paper\\Code\\Checkpoints\\Paper1\\1_googleNet1D\\exp 3_a\\E2_cp-0020-loss0.02.h5...\n",
      "[INFO] old learning rate: 0.0010000000474974513\n",
      "[INFO] new learning rate: 9.999999747378752e-05\n"
     ]
    }
   ],
   "source": [
    "# if there is no specific model checkpoint supplied, then initialize\n",
    "# the network and compile the model\n",
    "if model is None:\n",
    "    print(\"[INFO] compiling model...\")\n",
    "    model = build_model()\n",
    "    opt = Adam(1e-2)\n",
    "    model.compile(loss= 'mae', optimizer='adam', metrics=[\"mae\", \"mape\"])\n",
    "# otherwise, load the checkpoint from disk\n",
    "else:\n",
    "    print(\"[INFO] loading {}...\".format(model))\n",
    "    model = load_model(model)\n",
    "\n",
    "    # update the learning rate\n",
    "    print(\"[INFO] old learning rate: {}\".format(K.get_value(model.optimizer.lr)))\n",
    "    K.set_value(model.optimizer.lr, 1e-4)\n",
    "    print(\"[INFO] new learning rate: {}\".format(K.get_value(model.optimizer.lr)))"
   ]
  },
  {
   "cell_type": "code",
   "execution_count": 30,
   "id": "d45e465b",
   "metadata": {},
   "outputs": [
    {
     "name": "stdout",
     "output_type": "stream",
     "text": [
      "Train on 32638 samples, validate on 9274 samples\n",
      "Epoch 1/20\n",
      "31744/32638 [============================>.] - ETA: 0s - loss: 0.0137 - mae: 0.0137 - mape: 9547.2959 \n",
      "Epoch 00001: val_loss improved from inf to 0.02179, saving model to C:\\Users\\arif\\OneDrive\\Journal Paper\\Code\\Checkpoints\\Paper1\\1_googleNet1D\\exp 3_a\\E3_cp-0001-loss0.02.h5\n",
      "32638/32638 [==============================] - 3s 80us/sample - loss: 0.0137 - mae: 0.0137 - mape: 9285.8516 - val_loss: 0.0218 - val_mae: 0.0218 - val_mape: 3.9185\n",
      "Epoch 2/20\n",
      "31744/32638 [============================>.] - ETA: 0s - loss: 0.0135 - mae: 0.0135 - mape: 9480.8213 \n",
      "Epoch 00002: val_loss did not improve from 0.02179\n",
      "32638/32638 [==============================] - 2s 53us/sample - loss: 0.0134 - mae: 0.0134 - mape: 9221.1992 - val_loss: 0.0218 - val_mae: 0.0218 - val_mape: 3.9169\n",
      "Epoch 3/20\n",
      "30720/32638 [===========================>..] - ETA: 0s - loss: 0.0134 - mae: 0.0134 - mape: 9918.7188\n",
      "Epoch 00003: val_loss improved from 0.02179 to 0.02179, saving model to C:\\Users\\arif\\OneDrive\\Journal Paper\\Code\\Checkpoints\\Paper1\\1_googleNet1D\\exp 3_a\\E3_cp-0003-loss0.02.h5\n",
      "32638/32638 [==============================] - 2s 49us/sample - loss: 0.0134 - mae: 0.0134 - mape: 9336.0068 - val_loss: 0.0218 - val_mae: 0.0218 - val_mape: 3.9072\n",
      "Epoch 4/20\n",
      "30720/32638 [===========================>..] - ETA: 0s - loss: 0.0134 - mae: 0.0134 - mape: 3.0079\n",
      "Epoch 00004: val_loss did not improve from 0.02179\n",
      "32638/32638 [==============================] - 2s 46us/sample - loss: 0.0134 - mae: 0.0134 - mape: 9223.7773 - val_loss: 0.0218 - val_mae: 0.0218 - val_mape: 3.9233\n",
      "Epoch 5/20\n",
      "30720/32638 [===========================>..] - ETA: 0s - loss: 0.0134 - mae: 0.0134 - mape: 9883.9814 \n",
      "Epoch 00005: val_loss did not improve from 0.02179\n",
      "32638/32638 [==============================] - 2s 47us/sample - loss: 0.0134 - mae: 0.0134 - mape: 9303.2969 - val_loss: 0.0218 - val_mae: 0.0218 - val_mape: 3.9187\n",
      "Epoch 6/20\n",
      "31744/32638 [============================>.] - ETA: 0s - loss: 0.0134 - mae: 0.0134 - mape: 9549.0859 \n",
      "Epoch 00006: val_loss did not improve from 0.02179\n",
      "32638/32638 [==============================] - 1s 45us/sample - loss: 0.0133 - mae: 0.0133 - mape: 9287.5947 - val_loss: 0.0218 - val_mae: 0.0218 - val_mape: 3.9215\n",
      "Epoch 7/20\n",
      "31744/32638 [============================>.] - ETA: 0s - loss: 0.0134 - mae: 0.0134 - mape: 9575.6035 \n",
      "Epoch 00007: val_loss improved from 0.02179 to 0.02170, saving model to C:\\Users\\arif\\OneDrive\\Journal Paper\\Code\\Checkpoints\\Paper1\\1_googleNet1D\\exp 3_a\\E3_cp-0007-loss0.02.h5\n",
      "32638/32638 [==============================] - 2s 48us/sample - loss: 0.0134 - mae: 0.0134 - mape: 9313.3887 - val_loss: 0.0217 - val_mae: 0.0217 - val_mape: 3.8915\n",
      "Epoch 8/20\n",
      "30720/32638 [===========================>..] - ETA: 0s - loss: 0.0133 - mae: 0.0133 - mape: 9923.8740 \n",
      "Epoch 00008: val_loss did not improve from 0.02170\n",
      "32638/32638 [==============================] - 2s 53us/sample - loss: 0.0133 - mae: 0.0133 - mape: 9340.8584 - val_loss: 0.0219 - val_mae: 0.0219 - val_mape: 3.9150\n",
      "Epoch 9/20\n",
      "30720/32638 [===========================>..] - ETA: 0s - loss: 0.0133 - mae: 0.0133 - mape: 9852.8838 \n",
      "Epoch 00009: val_loss did not improve from 0.02170\n",
      "32638/32638 [==============================] - 2s 50us/sample - loss: 0.0133 - mae: 0.0133 - mape: 9274.0420 - val_loss: 0.0217 - val_mae: 0.0217 - val_mape: 3.8906\n",
      "Epoch 10/20\n",
      "31744/32638 [============================>.] - ETA: 0s - loss: 0.0133 - mae: 0.0133 - mape: 9566.3008\n",
      "Epoch 00010: val_loss did not improve from 0.02170\n",
      "32638/32638 [==============================] - 2s 53us/sample - loss: 0.0133 - mae: 0.0133 - mape: 9304.3545 - val_loss: 0.0217 - val_mae: 0.0217 - val_mape: 3.9045\n",
      "Epoch 11/20\n",
      "31744/32638 [============================>.] - ETA: 0s - loss: 0.0133 - mae: 0.0133 - mape: 9526.7197 \n",
      "Epoch 00011: val_loss improved from 0.02170 to 0.02164, saving model to C:\\Users\\arif\\OneDrive\\Journal Paper\\Code\\Checkpoints\\Paper1\\1_googleNet1D\\exp 3_a\\E3_cp-0011-loss0.02.h5\n",
      "32638/32638 [==============================] - 2s 55us/sample - loss: 0.0133 - mae: 0.0133 - mape: 9265.8428 - val_loss: 0.0216 - val_mae: 0.0216 - val_mape: 3.8715\n",
      "Epoch 12/20\n",
      "31744/32638 [============================>.] - ETA: 0s - loss: 0.0133 - mae: 0.0133 - mape: 9563.9170 \n",
      "Epoch 00012: val_loss did not improve from 0.02164\n",
      "32638/32638 [==============================] - 2s 52us/sample - loss: 0.0133 - mae: 0.0133 - mape: 9302.1084 - val_loss: 0.0217 - val_mae: 0.0217 - val_mape: 3.8942\n",
      "Epoch 13/20\n",
      "31744/32638 [============================>.] - ETA: 0s - loss: 0.0133 - mae: 0.0133 - mape: 9632.9668 \n",
      "Epoch 00013: val_loss did not improve from 0.02164\n",
      "32638/32638 [==============================] - 2s 50us/sample - loss: 0.0133 - mae: 0.0133 - mape: 9369.1855 - val_loss: 0.0219 - val_mae: 0.0219 - val_mape: 3.9240\n",
      "Epoch 14/20\n",
      "31744/32638 [============================>.] - ETA: 0s - loss: 0.0132 - mae: 0.0132 - mape: 9581.1162 \n",
      "Epoch 00014: val_loss did not improve from 0.02164\n",
      "32638/32638 [==============================] - 1s 43us/sample - loss: 0.0133 - mae: 0.0133 - mape: 9318.7891 - val_loss: 0.0219 - val_mae: 0.0219 - val_mape: 3.9448\n",
      "Epoch 15/20\n",
      "31744/32638 [============================>.] - ETA: 0s - loss: 0.0133 - mae: 0.0133 - mape: 9654.7012 \n",
      "Epoch 00015: val_loss did not improve from 0.02164\n",
      "32638/32638 [==============================] - 2s 52us/sample - loss: 0.0133 - mae: 0.0133 - mape: 9390.3232 - val_loss: 0.0217 - val_mae: 0.0217 - val_mape: 3.8801\n",
      "Epoch 16/20\n",
      "31744/32638 [============================>.] - ETA: 0s - loss: 0.0132 - mae: 0.0132 - mape: 9587.5039 \n",
      "Epoch 00016: val_loss improved from 0.02164 to 0.02161, saving model to C:\\Users\\arif\\OneDrive\\Journal Paper\\Code\\Checkpoints\\Paper1\\1_googleNet1D\\exp 3_a\\E3_cp-0016-loss0.02.h5\n",
      "32638/32638 [==============================] - 2s 49us/sample - loss: 0.0132 - mae: 0.0132 - mape: 9324.9629 - val_loss: 0.0216 - val_mae: 0.0216 - val_mape: 3.8675\n",
      "Epoch 17/20\n",
      "31744/32638 [============================>.] - ETA: 0s - loss: 0.0132 - mae: 0.0132 - mape: 9595.2549 \n",
      "Epoch 00017: val_loss did not improve from 0.02161\n",
      "32638/32638 [==============================] - 2s 48us/sample - loss: 0.0132 - mae: 0.0132 - mape: 9332.4951 - val_loss: 0.0217 - val_mae: 0.0217 - val_mape: 3.8828\n",
      "Epoch 18/20\n",
      "31744/32638 [============================>.] - ETA: 0s - loss: 0.0132 - mae: 0.0132 - mape: 9583.7539 \n",
      "Epoch 00018: val_loss did not improve from 0.02161\n",
      "32638/32638 [==============================] - 2s 58us/sample - loss: 0.0132 - mae: 0.0132 - mape: 9321.3262 - val_loss: 0.0218 - val_mae: 0.0218 - val_mape: 3.9143\n",
      "Epoch 19/20\n",
      "31744/32638 [============================>.] - ETA: 0s - loss: 0.0133 - mae: 0.0133 - mape: 9598.0088 \n",
      "Epoch 00019: val_loss did not improve from 0.02161\n",
      "32638/32638 [==============================] - 2s 50us/sample - loss: 0.0133 - mae: 0.0133 - mape: 9335.1748 - val_loss: 0.0217 - val_mae: 0.0217 - val_mape: 3.9022\n",
      "Epoch 20/20\n",
      "31744/32638 [============================>.] - ETA: 0s - loss: 0.0132 - mae: 0.0132 - mape: 9575.8242 \n",
      "Epoch 00020: val_loss did not improve from 0.02161\n",
      "32638/32638 [==============================] - 2s 49us/sample - loss: 0.0132 - mae: 0.0132 - mape: 9313.6016 - val_loss: 0.0219 - val_mae: 0.0219 - val_mape: 3.9213\n"
     ]
    }
   ],
   "source": [
    "epochs = 20\n",
    "verbose = 1 #0\n",
    "batch_size = 1024\n",
    "History = model.fit(train_X,\n",
    "                        train_y,\n",
    "                        batch_size=batch_size,   #pa batch 16 mape 7.72%\n",
    "                        epochs = epochs, \n",
    "                        validation_data = (validation_X,validation_y),\n",
    "                        callbacks=callbacks,\n",
    "                        verbose = verbose)\n"
   ]
  },
  {
   "cell_type": "code",
   "execution_count": 31,
   "id": "63261510",
   "metadata": {},
   "outputs": [
    {
     "name": "stdout",
     "output_type": "stream",
     "text": [
      "Mean Absolute Error (MAE): 369.48\n",
      "Median Absolute Error (MedAE): 289.43\n",
      "Mean Squared Error (MSE): 236624.74\n",
      "Root Mean Squared Error (RMSE): 486.44\n",
      "Mean Absolute Percentage Error (MAPE): 3.66 %\n",
      "Median Absolute Percentage Error (MDAPE): 2.88 %\n",
      "\n",
      "\n",
      "y_test_unscaled.shape=  (4600, 1)\n",
      "y_pred.shape=  (4600, 1)\n"
     ]
    }
   ],
   "source": [
    "import pickle\n",
    "scaler = pickle.load(open(\"C:\\\\Users\\\\arif\\\\OneDrive\\\\Journal Paper\\\\Code\\\\Irshad\\\\Dataset\\\\scaler.pkl\", 'rb'))\n",
    "y_pred_scaled   = model.predict(test_X)\n",
    "y_pred          = scaler.inverse_transform(y_pred_scaled)\n",
    "y_test_unscaled = scaler.inverse_transform(test_y.reshape(-1, 1))\n",
    "# Mean Absolute Error (MAE)\n",
    "MAE = np.mean(abs(y_pred - y_test_unscaled))\n",
    "print('Mean Absolute Error (MAE): ' + str(np.round(MAE, 2)))\n",
    "\n",
    "# Median Absolute Error (MedAE)\n",
    "MEDAE = np.median(abs(y_pred - y_test_unscaled))\n",
    "print('Median Absolute Error (MedAE): ' + str(np.round(MEDAE, 2)))\n",
    "\n",
    "# Mean Squared Error (MSE)\n",
    "MSE = np.square(np.subtract(y_pred, y_test_unscaled)).mean()\n",
    "print('Mean Squared Error (MSE): ' + str(np.round(MSE, 2)))\n",
    "\n",
    "# Root Mean Squarred Error (RMSE) \n",
    "RMSE = np.sqrt(np.mean(np.square(y_pred - y_test_unscaled)))\n",
    "print('Root Mean Squared Error (RMSE): ' + str(np.round(RMSE, 2)))\n",
    "\n",
    "# Mean Absolute Percentage Error (MAPE)\n",
    "MAPE = np.mean((np.abs(np.subtract(y_test_unscaled, y_pred)/ y_test_unscaled))) * 100\n",
    "print('Mean Absolute Percentage Error (MAPE): ' + str(np.round(MAPE, 2)) + ' %')\n",
    "\n",
    "# Median Absolute Percentage Error (MDAPE)\n",
    "MDAPE = np.median((np.abs(np.subtract(y_test_unscaled, y_pred)/ y_test_unscaled))) * 100\n",
    "print('Median Absolute Percentage Error (MDAPE): ' + str(np.round(MDAPE, 2)) + ' %')\n",
    "\n",
    "print('\\n\\ny_test_unscaled.shape= ',y_test_unscaled.shape)\n",
    "print('y_pred.shape= ',y_pred.shape)"
   ]
  },
  {
   "cell_type": "code",
   "execution_count": null,
   "id": "8d11ca5b",
   "metadata": {},
   "outputs": [],
   "source": []
  },
  {
   "cell_type": "code",
   "execution_count": null,
   "id": "16b7bcc5",
   "metadata": {},
   "outputs": [],
   "source": []
  },
  {
   "cell_type": "code",
   "execution_count": 23,
   "id": "d9bfb0de",
   "metadata": {},
   "outputs": [],
   "source": [
    "import numpy as np\n",
    "import pandas as pd\n",
    "import matplotlib.pyplot as plt\n",
    "from pandas import read_csv\n",
    "import math\n",
    "import time\n",
    "import pickle\n",
    "import pydot\n",
    "import tensorflow \n",
    "from tensorflow.keras.preprocessing.sequence import TimeseriesGenerator\n",
    "from tensorflow.keras.layers import Dense, Dropout, Activation, Concatenate,Flatten,MaxPooling1D,AveragePooling1D,Input\n",
    "from tensorflow.keras.models import Sequential,Model\n",
    "from tensorflow.keras.layers import concatenate\n",
    "from tensorflow.keras.layers import LSTM\n",
    "from tensorflow.keras.layers import Conv1D\n",
    "from sklearn.preprocessing import MinMaxScaler\n",
    "from sklearn.metrics import mean_squared_error\n",
    "from sklearn.preprocessing import OneHotEncoder\n",
    "\n",
    "from sklearn.metrics import mean_absolute_percentage_error,mean_absolute_error,mean_squared_error"
   ]
  },
  {
   "cell_type": "code",
   "execution_count": 9,
   "id": "3b559cf4",
   "metadata": {},
   "outputs": [],
   "source": [
    "def to_split(dataset, time_steps,target_col,target_len):\n",
    "    '''\n",
    "    \\nto_split(dataset, time_steps,target_col,target_len)\\n\n",
    "    dataset=nd.array\n",
    "    time_steps= look back the prvous data points like 24hrs, 168 hours etc \n",
    "    target_col= index of the column to which you want to pridect\n",
    "    target_len= how many point do you want to predict\n",
    "    \\n\\nExample:\n",
    "    to call this function\n",
    "    look_back = 14*24\n",
    "    train_X,train_y=to_split(train_set, time_steps= look_back,target_col=0,target_len=1)\n",
    "    validation_X,validation_y=to_split(validation_set, time_steps=look_back,target_col=0,target_len=1)\n",
    "    test_X,test_y=to_split(test_set,time_steps=look_back,target_col=0,target_len=1)\n",
    "    '''\n",
    "    X,y = list(), list()\n",
    "    for i in range(len(dataset)):\n",
    "        end_of_x = i + time_steps\n",
    "        if end_of_x > len(dataset)-1:\n",
    "            break\n",
    "        seq_x = dataset[i:end_of_x, :dataset.shape[1]]# df my dff ta convert ko\n",
    "        X.append(seq_x)\n",
    "        another_end=end_of_x\n",
    "        target_list = list()\n",
    "        for i in range(target_len):\n",
    "            target_list.append(i+1)\n",
    "        target_len\n",
    "        for x in target_list:\n",
    "            another_end=end_of_x+x\n",
    "            seq_y=dataset[end_of_x:another_end, target_col]\n",
    "            if another_end==end_of_x+target_len:    \n",
    "                y.append(seq_y)\n",
    "    return np.array(X), np.array(y)"
   ]
  },
  {
   "cell_type": "code",
   "execution_count": 10,
   "id": "b975fc95",
   "metadata": {},
   "outputs": [],
   "source": [
    "path_tr = 'C:\\\\Users\\\\arif\\\\OneDrive\\\\Journal Paper\\\\Code\\\\Irshad\\\\Dataset\\\\8_train.csv'\n",
    "df_tr = pd.read_csv(path_tr, index_col=0)"
   ]
  },
  {
   "cell_type": "code",
   "execution_count": 11,
   "id": "757a2f2b",
   "metadata": {},
   "outputs": [],
   "source": [
    "#train_set = df_tr.iloc[:,[1, 8, 9, 10, 11, 12, 13, 14, 15, 16, 17, 18, 19, 20, 21, 22, 23]].values #dataset=np.array(df) dwara use koli sho\n",
    "train_set = df_tr.iloc[:].values #dataset=np.array(df) dwara use koli sho"
   ]
  },
  {
   "cell_type": "code",
   "execution_count": 12,
   "id": "ecdfc001",
   "metadata": {},
   "outputs": [],
   "source": [
    "path_v = 'C:\\\\Users\\\\arif\\\\OneDrive\\\\Journal Paper\\\\Code\\\\Irshad\\\\Dataset\\\\8_validation.csv'\n",
    "df_v = pd.read_csv(path_v, index_col=0)"
   ]
  },
  {
   "cell_type": "code",
   "execution_count": 13,
   "id": "1465feaf",
   "metadata": {},
   "outputs": [],
   "source": [
    "#validation_set = df_v.iloc[:,[1, 8, 9, 10, 11, 12, 13, 14, 15, 16, 17, 18, 19, 20, 21, 22, 23]].values #dataset=np.array(df) dwara use koli sho\n",
    "validation_set = df_v.iloc[:].values #dataset=np.array(df) dwara use koli sho"
   ]
  },
  {
   "cell_type": "code",
   "execution_count": 14,
   "id": "43957c9c",
   "metadata": {},
   "outputs": [],
   "source": [
    "path_te = 'C:\\\\Users\\\\arif\\\\OneDrive\\\\Journal Paper\\\\Code\\\\Irshad\\\\Dataset\\\\8_test.csv'\n",
    "df_te = pd.read_csv(path_te, index_col=0)"
   ]
  },
  {
   "cell_type": "code",
   "execution_count": 15,
   "id": "d5979a4d",
   "metadata": {},
   "outputs": [],
   "source": [
    "#test_set = df_te.iloc[:,[1, 8, 9, 10, 11, 12, 13, 14, 15, 16, 17, 18, 19, 20, 21, 22, 23]].values #dataset=np.array(df) dwara use koli sho\n",
    "test_set = df_te.iloc[:].values #dataset=np.array(df) dwara use koli sho"
   ]
  },
  {
   "cell_type": "code",
   "execution_count": 16,
   "id": "877372d9",
   "metadata": {},
   "outputs": [
    {
     "name": "stdout",
     "output_type": "stream",
     "text": [
      "Time Consumed 0.3626377582550049 sec\n"
     ]
    }
   ],
   "source": [
    "start = time.time()\n",
    "train_X , train_y = to_split(train_set, time_steps=168, target_col=0, target_len=1)\n",
    "validation_X, validation_y = to_split(validation_set, time_steps=168, target_col=0, target_len=1)\n",
    "test_X, test_y = to_split(test_set, time_steps=168, target_col=0, target_len=1)\n",
    "print('Time Consumed', time.time()-start, \"sec\")"
   ]
  },
  {
   "cell_type": "code",
   "execution_count": 27,
   "id": "d3ece9f1",
   "metadata": {},
   "outputs": [],
   "source": [
    "# import the necessary packages\n",
    "import tensorflow\n",
    "from tensorflow.keras.layers import BatchNormalization\n",
    "from tensorflow.keras.layers import Conv2D, Conv1D\n",
    "from tensorflow.keras.layers import AveragePooling2D\n",
    "from tensorflow.keras.layers import MaxPooling2D\n",
    "from tensorflow.keras.layers import Activation\n",
    "from tensorflow.keras.layers import Dropout\n",
    "from tensorflow.keras.layers import Dense\n",
    "from tensorflow.keras.layers import Flatten\n",
    "from tensorflow.keras.layers import Input\n",
    "from tensorflow.keras.models import Model\n",
    "from tensorflow.keras.layers import concatenate\n",
    "from tensorflow.keras import backend as K\n",
    "from tensorflow.keras.regularizers import l2"
   ]
  },
  {
   "cell_type": "code",
   "execution_count": 37,
   "id": "f15c7411",
   "metadata": {},
   "outputs": [],
   "source": [
    "class PC:\n",
    "    @staticmethod\n",
    "    def conv_module(x, num_filter, kr, stride ,padding=\"same\", reg=0.0005, name=None):\n",
    "        # initialize the CONV, BN, and RELU layer names\n",
    "        (convName, bnName, actName) = (None, None, None)\n",
    "        \n",
    "        # if a layer name was supplied, prepend it\n",
    "        if name is not None:\n",
    "            convName = name + \"_conv\"\n",
    "            bnName = name + \"_bn\"\n",
    "            actName = name + \"_act\"\n",
    "        # define a CONV => BN => RELU pattern\n",
    "        x = Conv1D(num_filter, kr, strides=stride, padding=padding, kernel_regularizer=l2(reg),name=convName)(x)\n",
    "        x = BatchNormalization(axis=-1, name=bnName)(x)\n",
    "        x = Activation(\"relu\", name=actName)(x)\n",
    "        \n",
    "        # return the block\n",
    "        return x\n",
    "    \n",
    "    @staticmethod\n",
    "    def inception_module(x, num1x1, num3x3Reduce, num3x3,num5x5Reduce, num5x5, stage, reg=0.0005):\n",
    "        # define the first branch of the Inception module which\n",
    "        # consists of 1x1 convolutions\n",
    "        first = PC.conv_module(x, num1x1, 1, 1, reg=reg, name=stage + \"_first\")\n",
    "        \n",
    "        # define the second branch of the Inception module which\n",
    "        # consists of 1x1 and 3x3 convolutions\n",
    "        second = PC.conv_module(x, num3x3Reduce, 1, 1,  reg=reg, name=stage + \"_second1\")\n",
    "        second = PC.conv_module(second, num3x3, 3, 1, reg=reg, name=stage + \"_second2\")\n",
    "        \n",
    "        # define the third branch of the Inception module which\n",
    "        # are our 1x1 and 5x5 convolutions\n",
    "        third = PC.conv_module(x, num5x5Reduce, 1, 1,  reg=reg, name=stage + \"_third1\")\n",
    "        third = PC.conv_module(third, num5x5, 5, 1,  reg=reg, name=stage + \"_third2\")\n",
    "        \n",
    "        # concatenate across the channel dimension\n",
    "        x = concatenate([first, second, third], axis=-1 ,name=stage + \"_mixed\")\n",
    "        \n",
    "        # return the block\n",
    "        return x\n",
    "    @staticmethod\n",
    "    def build(time_steps, num_features, reg=0.0005):\n",
    "        # initialize the input shape to be \"channels last\" and the\n",
    "        # channels dimension itself\n",
    "        # define the model input and first CONV module\n",
    "        inputs = Input(shape=(time_steps, num_features))\n",
    "        x = PC.conv_module(inputs, 128, 5, 1)\n",
    "        x = PC.inception_module(x, 32, 32, 64, 8, 32, \"2a\")\n",
    "        x = PC.inception_module(x, 64, 64, 128, 16, 64, \"3a\")\n",
    "        x = Flatten()(x)\n",
    "        x = Dense(1)(x)\n",
    "        # create the model\n",
    "        model = Model(inputs, x, name=\"PC\")\n",
    "        \n",
    "        # return the constructed network architecture\n",
    "        return model"
   ]
  },
  {
   "cell_type": "code",
   "execution_count": 38,
   "id": "b33418e8",
   "metadata": {},
   "outputs": [],
   "source": [
    "pc =  PC.build(time_steps=168, num_features=23, reg=0.0005)"
   ]
  },
  {
   "cell_type": "code",
   "execution_count": 39,
   "id": "c857bb8d",
   "metadata": {
    "collapsed": true,
    "jupyter": {
     "outputs_hidden": true
    }
   },
   "outputs": [
    {
     "data": {
      "image/png": "[encoded data removed]",
      "text/plain": [
       "<IPython.core.display.Image object>"
      ]
     },
     "execution_count": 39,
     "metadata": {},
     "output_type": "execute_result"
    }
   ],
   "source": [
    "tensorflow .keras.utils.plot_model(pc )"
   ]
  },
  {
   "cell_type": "code",
   "execution_count": 26,
   "id": "1613381c",
   "metadata": {
    "collapsed": true,
    "jupyter": {
     "outputs_hidden": true
    }
   },
   "outputs": [
    {
     "name": "stdout",
     "output_type": "stream",
     "text": [
      "Model: \"PC\"\n",
      "__________________________________________________________________________________________________\n",
      "Layer (type)                    Output Shape         Param #     Connected to                     \n",
      "==================================================================================================\n",
      "input_1 (InputLayer)            [(None, 168, 23)]    0                                            \n",
      "__________________________________________________________________________________________________\n",
      "conv1d (Conv1D)                 (None, 168, 16)      1120        input_1[0][0]                    \n",
      "__________________________________________________________________________________________________\n",
      "batch_normalization (BatchNorma (None, 168, 16)      64          conv1d[0][0]                     \n",
      "__________________________________________________________________________________________________\n",
      "activation (Activation)         (None, 168, 16)      0           batch_normalization[0][0]        \n",
      "__________________________________________________________________________________________________\n",
      "conv1d_1 (Conv1D)               (None, 168, 32)      544         activation[0][0]                 \n",
      "__________________________________________________________________________________________________\n",
      "conv1d_2 (Conv1D)               (None, 168, 32)      1568        activation[0][0]                 \n",
      "__________________________________________________________________________________________________\n",
      "batch_normalization_1 (BatchNor (None, 168, 32)      128         conv1d_1[0][0]                   \n",
      "__________________________________________________________________________________________________\n",
      "batch_normalization_2 (BatchNor (None, 168, 32)      128         conv1d_2[0][0]                   \n",
      "__________________________________________________________________________________________________\n",
      "activation_1 (Activation)       (None, 168, 32)      0           batch_normalization_1[0][0]      \n",
      "__________________________________________________________________________________________________\n",
      "activation_2 (Activation)       (None, 168, 32)      0           batch_normalization_2[0][0]      \n",
      "__________________________________________________________________________________________________\n",
      "concatenate (Concatenate)       (None, 168, 64)      0           activation_1[0][0]               \n",
      "                                                                 activation_2[0][0]               \n",
      "__________________________________________________________________________________________________\n",
      "conv1d_3 (Conv1D)               (None, 168, 32)      2080        concatenate[0][0]                \n",
      "__________________________________________________________________________________________________\n",
      "conv1d_4 (Conv1D)               (None, 168, 32)      6176        concatenate[0][0]                \n",
      "__________________________________________________________________________________________________\n",
      "batch_normalization_3 (BatchNor (None, 168, 32)      128         conv1d_3[0][0]                   \n",
      "__________________________________________________________________________________________________\n",
      "batch_normalization_4 (BatchNor (None, 168, 32)      128         conv1d_4[0][0]                   \n",
      "__________________________________________________________________________________________________\n",
      "activation_3 (Activation)       (None, 168, 32)      0           batch_normalization_3[0][0]      \n",
      "__________________________________________________________________________________________________\n",
      "activation_4 (Activation)       (None, 168, 32)      0           batch_normalization_4[0][0]      \n",
      "__________________________________________________________________________________________________\n",
      "concatenate_1 (Concatenate)     (None, 168, 64)      0           activation_3[0][0]               \n",
      "                                                                 activation_4[0][0]               \n",
      "__________________________________________________________________________________________________\n",
      "flatten (Flatten)               (None, 10752)        0           concatenate_1[0][0]              \n",
      "__________________________________________________________________________________________________\n",
      "dense (Dense)                   (None, 1)            10753       flatten[0][0]                    \n",
      "==================================================================================================\n",
      "Total params: 22,817\n",
      "Trainable params: 22,529\n",
      "Non-trainable params: 288\n",
      "__________________________________________________________________________________________________\n"
     ]
    }
   ],
   "source": [
    "pc.summary()"
   ]
  },
  {
   "cell_type": "code",
   "execution_count": 40,
   "id": "7c5e5ba4",
   "metadata": {},
   "outputs": [
    {
     "name": "stdout",
     "output_type": "stream",
     "text": [
      "Epoch 1/2\n",
      "32/32 [==============================] - 80s 3s/step - loss: 33.1726 - val_loss: 0.8199\n",
      "Epoch 2/2\n",
      "32/32 [==============================] - 80s 3s/step - loss: 1.1338 - val_loss: 0.4562\n"
     ]
    }
   ],
   "source": [
    "epochs  = 2\n",
    "verbose = 1 #0\n",
    "pc.compile(loss = 'mse', optimizer =  'adam')\n",
    "History = pc.fit(train_X,\n",
    "                        train_y,\n",
    "                        batch_size      = 1024,  \n",
    "                        epochs          = epochs, \n",
    "                        validation_data = (validation_X,validation_y),\n",
    "                        verbose         = verbose)"
   ]
  },
  {
   "cell_type": "code",
   "execution_count": 41,
   "id": "e71c91b8",
   "metadata": {},
   "outputs": [],
   "source": []
  },
  {
   "cell_type": "code",
   "execution_count": 42,
   "id": "04d72e37",
   "metadata": {},
   "outputs": [],
   "source": []
  },
  {
   "cell_type": "code",
   "execution_count": 43,
   "id": "cd6b638f",
   "metadata": {},
   "outputs": [
    {
     "name": "stdout",
     "output_type": "stream",
     "text": [
      "Mean Absolute Error (MAE): 5238.05\n",
      "Median Absolute Error (MedAE): 5404.95\n",
      "Mean Squared Error (MSE): 31445798.41\n",
      "Root Mean Squared Error (RMSE): 5607.66\n",
      "Mean Absolute Percentage Error (MAPE): 49.44 %\n",
      "Median Absolute Percentage Error (MDAPE): 51.27 %\n",
      "\n",
      "\n",
      "y_test_unscaled.shape=  (4504, 1)\n",
      "y_pred.shape=  (4504, 1)\n"
     ]
    }
   ],
   "source": []
  },
  {
   "cell_type": "code",
   "execution_count": null,
   "id": "9d750aa9",
   "metadata": {},
   "outputs": [],
   "source": []
  },
  {
   "cell_type": "code",
   "execution_count": 14,
   "id": "09db3d95",
   "metadata": {},
   "outputs": [
    {
     "name": "stdout",
     "output_type": "stream",
     "text": [
      "Model: \"functional_1\"\n",
      "_________________________________________________________________\n",
      "Layer (type)                 Output Shape              Param #   \n",
      "=================================================================\n",
      "input_1 (InputLayer)         [(None, 168, 23)]         0         \n",
      "_________________________________________________________________\n",
      "conv1d (Conv1D)              (None, 166, 16)           1120      \n",
      "_________________________________________________________________\n",
      "conv1d_1 (Conv1D)            (None, 164, 32)           1568      \n",
      "_________________________________________________________________\n",
      "max_pooling1d (MaxPooling1D) (None, 82, 32)            0         \n",
      "_________________________________________________________________\n",
      "dropout (Dropout)            (None, 82, 32)            0         \n",
      "_________________________________________________________________\n",
      "conv1d_2 (Conv1D)            (None, 80, 64)            6208      \n",
      "_________________________________________________________________\n",
      "conv1d_3 (Conv1D)            (None, 78, 128)           24704     \n",
      "_________________________________________________________________\n",
      "max_pooling1d_1 (MaxPooling1 (None, 39, 128)           0         \n",
      "_________________________________________________________________\n",
      "dropout_1 (Dropout)          (None, 39, 128)           0         \n",
      "_________________________________________________________________\n",
      "conv1d_4 (Conv1D)            (None, 37, 256)           98560     \n",
      "_________________________________________________________________\n",
      "conv1d_5 (Conv1D)            (None, 35, 512)           393728    \n",
      "_________________________________________________________________\n",
      "max_pooling1d_2 (MaxPooling1 (None, 17, 512)           0         \n",
      "_________________________________________________________________\n",
      "flatten (Flatten)            (None, 8704)              0         \n",
      "_________________________________________________________________\n",
      "dropout_2 (Dropout)          (None, 8704)              0         \n",
      "_________________________________________________________________\n",
      "dense (Dense)                (None, 10)                87050     \n",
      "_________________________________________________________________\n",
      "dense_1 (Dense)              (None, 1)                 11        \n",
      "=================================================================\n",
      "Total params: 612,949\n",
      "Trainable params: 612,949\n",
      "Non-trainable params: 0\n",
      "_________________________________________________________________\n"
     ]
    }
   ],
   "source": [
    "dropout      = 0.3\n",
    "output_shape = 1\n",
    "time_steps   = 168\n",
    "num_features = 23\n",
    "kernal_size  = 3\n",
    "input_data   = Input(shape=(time_steps, num_features))\n",
    "\n",
    "       \n",
    "a = Conv1D(16, kernal_size)(input_data)\n",
    "a = Conv1D(32, kernal_size, activation  = 'relu')(a)\n",
    "a = MaxPooling1D(2)(a)\n",
    "   \n",
    "a = Dropout(0.3)(a)\n",
    "\n",
    "a = Conv1D(64, kernal_size, activation  = 'relu')(a)\n",
    "a = Conv1D(128, kernal_size, activation = 'relu')(a)\n",
    "a = MaxPooling1D(2)(a)\n",
    "  \n",
    "a = Dropout(0.3)(a)\n",
    "\n",
    "a = Conv1D(256, kernal_size, activation = 'relu')(a)\n",
    "a = Conv1D(512, kernal_size, activation = 'relu')(a)\n",
    "a = MaxPooling1D(2)(a)\n",
    "\n",
    "a = Flatten()(a)\n",
    "a = Dropout(0.3)(a)\n",
    "a = Dense(10, activation ='relu')(a)\n",
    "        \n",
    "output_data = Dense(1)(a)\n",
    "        \n",
    "model = Model(input_data, output_data)\n",
    "model.compile(loss = 'mse', optimizer =  'adam')\n",
    "model.summary()"
   ]
  },
  {
   "cell_type": "code",
   "execution_count": 15,
   "id": "50e8a4aa",
   "metadata": {},
   "outputs": [
    {
     "name": "stdout",
     "output_type": "stream",
     "text": [
      "Epoch 1/2\n",
      "32/32 [==============================] - 38s 1s/step - loss: 0.1348 - val_loss: 0.0915\n",
      "Epoch 2/2\n",
      "32/32 [==============================] - 37s 1s/step - loss: 0.0075 - val_loss: 0.0939\n"
     ]
    }
   ],
   "source": [
    "epochs  = 2\n",
    "verbose = 1 #0\n",
    "History = model.fit(train_X,\n",
    "                        train_y,\n",
    "                        batch_size      = 1024,  \n",
    "                        epochs          = epochs, \n",
    "                        validation_data = (validation_X,validation_y),\n",
    "                        verbose         = verbose)"
   ]
  },
  {
   "cell_type": "code",
   "execution_count": 16,
   "id": "83a3c9ef",
   "metadata": {},
   "outputs": [],
   "source": [
    "scaler = pickle.load(open(\"C:\\\\Users\\\\arif\\\\OneDrive\\\\Journal Paper\\\\Code\\\\Irshad\\\\Dataset\\\\scaler.pkl\", 'rb'))"
   ]
  },
  {
   "cell_type": "code",
   "execution_count": 17,
   "id": "6c7c3de8",
   "metadata": {},
   "outputs": [],
   "source": [
    "y_pred_scaled   = model.predict(test_X)\n",
    "y_pred          = scaler.inverse_transform(y_pred_scaled)\n",
    "y_test_unscaled = scaler.inverse_transform(test_y.reshape(-1, 1))"
   ]
  },
  {
   "cell_type": "code",
   "execution_count": 18,
   "id": "0270ea91",
   "metadata": {},
   "outputs": [
    {
     "name": "stdout",
     "output_type": "stream",
     "text": [
      "Mean Absolute Error (MAE): 3444.96\n",
      "Median Absolute Error (MedAE): 3550.58\n",
      "Mean Squared Error (MSE): 14252245.21\n",
      "Root Mean Squared Error (RMSE): 3775.21\n",
      "Mean Absolute Percentage Error (MAPE): 31.94 %\n",
      "Median Absolute Percentage Error (MDAPE): 33.12 %\n",
      "\n",
      "\n",
      "y_test_unscaled.shape=  (4504, 1)\n",
      "y_pred.shape=  (4504, 1)\n"
     ]
    }
   ],
   "source": [
    "# Mean Absolute Error (MAE)\n",
    "MAE = np.mean(abs(y_pred - y_test_unscaled))\n",
    "print('Mean Absolute Error (MAE): ' + str(np.round(MAE, 2)))\n",
    "\n",
    "# Median Absolute Error (MedAE)\n",
    "MEDAE = np.median(abs(y_pred - y_test_unscaled))\n",
    "print('Median Absolute Error (MedAE): ' + str(np.round(MEDAE, 2)))\n",
    "\n",
    "# Mean Squared Error (MSE)\n",
    "MSE = np.square(np.subtract(y_pred, y_test_unscaled)).mean()\n",
    "print('Mean Squared Error (MSE): ' + str(np.round(MSE, 2)))\n",
    "\n",
    "# Root Mean Squarred Error (RMSE) \n",
    "RMSE = np.sqrt(np.mean(np.square(y_pred - y_test_unscaled)))\n",
    "print('Root Mean Squared Error (RMSE): ' + str(np.round(RMSE, 2)))\n",
    "\n",
    "# Mean Absolute Percentage Error (MAPE)\n",
    "MAPE = np.mean((np.abs(np.subtract(y_test_unscaled, y_pred)/ y_test_unscaled))) * 100\n",
    "print('Mean Absolute Percentage Error (MAPE): ' + str(np.round(MAPE, 2)) + ' %')\n",
    "\n",
    "# Median Absolute Percentage Error (MDAPE)\n",
    "MDAPE = np.median((np.abs(np.subtract(y_test_unscaled, y_pred)/ y_test_unscaled))) * 100\n",
    "print('Median Absolute Percentage Error (MDAPE): ' + str(np.round(MDAPE, 2)) + ' %')\n",
    "\n",
    "print('\\n\\ny_test_unscaled.shape= ',y_test_unscaled.shape)\n",
    "print('y_pred.shape= ',y_pred.shape)"
   ]
  },
  {
   "cell_type": "code",
   "execution_count": 21,
   "id": "1e45b567",
   "metadata": {},
   "outputs": [
    {
     "data": {
      "text/html": [
       "<style type=\"text/css\">\n",
       "</style>\n",
       "<table id=\"T_83bab_\">\n",
       "  <thead>\n",
       "    <tr>\n",
       "      <th class=\"blank level0\" >&nbsp;</th>\n",
       "      <th class=\"col_heading level0 col0\" >Evaluation Metrices</th>\n",
       "      <th class=\"col_heading level0 col1\" >Value</th>\n",
       "    </tr>\n",
       "  </thead>\n",
       "  <tbody>\n",
       "    <tr>\n",
       "      <th id=\"T_83bab_level0_row0\" class=\"row_heading level0 row0\" >0</th>\n",
       "      <td id=\"T_83bab_row0_col0\" class=\"data row0 col0\" >RMSE</td>\n",
       "      <td id=\"T_83bab_row0_col1\" class=\"data row0 col1\" >14252245.211629</td>\n",
       "    </tr>\n",
       "    <tr>\n",
       "      <th id=\"T_83bab_level0_row1\" class=\"row_heading level0 row1\" >1</th>\n",
       "      <td id=\"T_83bab_row1_col0\" class=\"data row1 col0\" >MAE</td>\n",
       "      <td id=\"T_83bab_row1_col1\" class=\"data row1 col1\" >3775.214591</td>\n",
       "    </tr>\n",
       "    <tr>\n",
       "      <th id=\"T_83bab_level0_row2\" class=\"row_heading level0 row2\" >2</th>\n",
       "      <td id=\"T_83bab_row2_col0\" class=\"data row2 col0\" >MSE</td>\n",
       "      <td id=\"T_83bab_row2_col1\" class=\"data row2 col1\" >3444.962702</td>\n",
       "    </tr>\n",
       "    <tr>\n",
       "      <th id=\"T_83bab_level0_row3\" class=\"row_heading level0 row3\" >3</th>\n",
       "      <td id=\"T_83bab_row3_col0\" class=\"data row3 col0\" >MAPE%</td>\n",
       "      <td id=\"T_83bab_row3_col1\" class=\"data row3 col1\" >31.937507</td>\n",
       "    </tr>\n",
       "  </tbody>\n",
       "</table>\n"
      ],
      "text/plain": [
       "<pandas.io.formats.style.Styler at 0x1fe1efd2088>"
      ]
     },
     "execution_count": 21,
     "metadata": {},
     "output_type": "execute_result"
    }
   ],
   "source": [
    "evaluation = {\"Evaluation Metrices\":[\"RMSE\",\"MAE\",\"MSE\", \"MAPE%\"],\n",
    "              \"Value\":[mean_squared_error(y_test_unscaled, y_pred, squared=True), \n",
    "                       mean_squared_error(y_test_unscaled, y_pred, squared=False),\n",
    "                       mean_absolute_error(y_test_unscaled, y_pred),\n",
    "                       mean_absolute_percentage_error(y_test_unscaled, y_pred)*100],}\n",
    "evaluation = pd.DataFrame(evaluation)\n",
    "evaluation.style"
   ]
  },
  {
   "cell_type": "code",
   "execution_count": 22,
   "id": "502e9433",
   "metadata": {},
   "outputs": [
    {
     "data": {
      "text/plain": [
       "[<matplotlib.lines.Line2D at 0x1fe1f20b348>]"
      ]
     },
     "execution_count": 22,
     "metadata": {},
     "output_type": "execute_result"
    },
    {
     "data": {
      "image/png": "[encoded data removed]",
      "text/plain": [
       "<Figure size 432x288 with 1 Axes>"
      ]
     },
     "metadata": {
      "needs_background": "light"
     },
     "output_type": "display_data"
    }
   ],
   "source": [
    "plt.plot(y_test_unscaled[0:500], color = \"red\",   linewidth = 1, label = 'Actual')\n",
    "plt.plot(y_pred[0:500],'--',     color = \"black\", linewidth = 1, label = 'Predicted')\n",
    "#plt.savefig('C:\\\\Users\\\\arif\\\\OneDrive\\\\Coference_UET_Lahore\\\\Graph\\\\1_Exp1_3block.png', format='png', dpi=1080)"
   ]
  },
  {
   "cell_type": "code",
   "execution_count": null,
   "id": "20a5308a",
   "metadata": {},
   "outputs": [],
   "source": []
  },
  {
   "cell_type": "code",
   "execution_count": null,
   "id": "9a36bca5",
   "metadata": {},
   "outputs": [],
   "source": []
  },
  {
   "cell_type": "code",
   "execution_count": null,
   "id": "b10ed447",
   "metadata": {},
   "outputs": [],
   "source": []
  },
  {
   "cell_type": "code",
   "execution_count": 11,
   "id": "76cf86cb",
   "metadata": {},
   "outputs": [
    {
     "name": "stdout",
     "output_type": "stream",
     "text": [
      "Model: \"Sequential_API\"\n",
      "_________________________________________________________________\n",
      "Layer (type)                 Output Shape              Param #   \n",
      "=================================================================\n",
      "conv1d (Conv1D)              (None, 166, 20)           1040      \n",
      "_________________________________________________________________\n",
      "activation (Activation)      (None, 166, 20)           0         \n",
      "_________________________________________________________________\n",
      "dropout (Dropout)            (None, 166, 20)           0         \n",
      "_________________________________________________________________\n",
      "flatten (Flatten)            (None, 3320)              0         \n",
      "=================================================================\n",
      "Total params: 1,040\n",
      "Trainable params: 1,040\n",
      "Non-trainable params: 0\n",
      "_________________________________________________________________\n",
      "('Failed to import pydot. You must `pip install pydot` and install graphviz (https://graphviz.gitlab.io/download/), ', 'for `pydotprint` to work.')\n"
     ]
    }
   ],
   "source": [
    "dropout=0.2\n",
    "CNN_model_1 = Sequential(name='Sequential_API')\n",
    "CNN_model_1.add(Conv1D(filters=20, kernel_size=3, activation='relu',input_shape=(train_X.shape[1],train_X.shape[2])))\n",
    "CNN_model_1.add(Activation(\"elu\"))\n",
    "CNN_model_1.add(Dropout(dropout))\n",
    "CNN_model_1.add(Flatten()) \n",
    "CNN_model_1.compile(loss= 'mae', optimizer='adam', metrics=[\"mae\", \"mape\"])\n",
    "CNN_model_1.summary()\n",
    "tensorflow .keras.utils.plot_model(CNN_model_1 )#, show_layer_names=True, to_file=img_file,, show_shapes=True)"
   ]
  },
  {
   "cell_type": "code",
   "execution_count": 12,
   "id": "86ffedb8",
   "metadata": {},
   "outputs": [
    {
     "name": "stdout",
     "output_type": "stream",
     "text": [
      "Epoch 1/20\n",
      "32/32 [==============================] - 3s 102ms/step - loss: 0.4219 - mae: 0.4219 - mape: 8332.5449 - val_loss: 0.3151 - val_mae: 0.3151 - val_mape: 7925.1973\n",
      "Epoch 2/20\n",
      "32/32 [==============================] - 3s 94ms/step - loss: 0.3310 - mae: 0.3310 - mape: 7918.0972 - val_loss: 0.2148 - val_mae: 0.2148 - val_mape: 8840.9141\n",
      "Epoch 3/20\n",
      "32/32 [==============================] - 3s 94ms/step - loss: 0.2459 - mae: 0.2459 - mape: 8703.9668 - val_loss: 0.1518 - val_mae: 0.1518 - val_mape: 8672.4600\n",
      "Epoch 4/20\n",
      "32/32 [==============================] - 3s 92ms/step - loss: 0.1956 - mae: 0.1956 - mape: 8506.2217 - val_loss: 0.1288 - val_mae: 0.1288 - val_mape: 8255.0000\n",
      "Epoch 5/20\n",
      "32/32 [==============================] - 3s 95ms/step - loss: 0.1724 - mae: 0.1724 - mape: 8238.5088 - val_loss: 0.1194 - val_mae: 0.1194 - val_mape: 8002.7837\n",
      "Epoch 6/20\n",
      "32/32 [==============================] - 3s 92ms/step - loss: 0.1645 - mae: 0.1645 - mape: 7972.2939 - val_loss: 0.1172 - val_mae: 0.1172 - val_mape: 7882.1260\n",
      "Epoch 7/20\n",
      "32/32 [==============================] - 3s 100ms/step - loss: 0.1605 - mae: 0.1605 - mape: 7745.6357 - val_loss: 0.1176 - val_mae: 0.1176 - val_mape: 7779.2593\n",
      "Epoch 8/20\n",
      "32/32 [==============================] - 3s 95ms/step - loss: 0.1576 - mae: 0.1576 - mape: 7930.5933 - val_loss: 0.1167 - val_mae: 0.1167 - val_mape: 7722.5879\n",
      "Epoch 9/20\n",
      "32/32 [==============================] - 3s 103ms/step - loss: 0.1553 - mae: 0.1553 - mape: 7818.1167 - val_loss: 0.1103 - val_mae: 0.1103 - val_mape: 7859.4229\n",
      "Epoch 10/20\n",
      "32/32 [==============================] - 3s 96ms/step - loss: 0.1537 - mae: 0.1537 - mape: 7771.0884 - val_loss: 0.1099 - val_mae: 0.1099 - val_mape: 7846.5117\n",
      "Epoch 11/20\n",
      "32/32 [==============================] - 3s 99ms/step - loss: 0.1523 - mae: 0.1523 - mape: 7635.5610 - val_loss: 0.1107 - val_mae: 0.1107 - val_mape: 7768.0186\n",
      "Epoch 12/20\n",
      "32/32 [==============================] - 3s 101ms/step - loss: 0.1513 - mae: 0.1513 - mape: 7875.5918 - val_loss: 0.1142 - val_mae: 0.1142 - val_mape: 7631.9497\n",
      "Epoch 13/20\n",
      "32/32 [==============================] - 3s 96ms/step - loss: 0.1505 - mae: 0.1505 - mape: 7694.9121 - val_loss: 0.1135 - val_mae: 0.1135 - val_mape: 7565.6045\n",
      "Epoch 14/20\n",
      "32/32 [==============================] - 3s 92ms/step - loss: 0.1499 - mae: 0.1499 - mape: 7608.7754 - val_loss: 0.1081 - val_mae: 0.1081 - val_mape: 7752.0298\n",
      "Epoch 15/20\n",
      "32/32 [==============================] - 3s 88ms/step - loss: 0.1495 - mae: 0.1495 - mape: 7594.9077 - val_loss: 0.1112 - val_mae: 0.1112 - val_mape: 7698.7261\n",
      "Epoch 16/20\n",
      "32/32 [==============================] - 3s 88ms/step - loss: 0.1491 - mae: 0.1491 - mape: 7597.0698 - val_loss: 0.1086 - val_mae: 0.1086 - val_mape: 7702.4907\n",
      "Epoch 17/20\n",
      "32/32 [==============================] - 3s 91ms/step - loss: 0.1489 - mae: 0.1489 - mape: 7644.9888 - val_loss: 0.1126 - val_mae: 0.1126 - val_mape: 7588.7822\n",
      "Epoch 18/20\n",
      "32/32 [==============================] - 3s 94ms/step - loss: 0.1486 - mae: 0.1486 - mape: 7677.2446 - val_loss: 0.1135 - val_mae: 0.1135 - val_mape: 7548.3882\n",
      "Epoch 19/20\n",
      "32/32 [==============================] - 3s 94ms/step - loss: 0.1485 - mae: 0.1485 - mape: 7514.1411 - val_loss: 0.1081 - val_mae: 0.1081 - val_mape: 7739.1387\n",
      "Epoch 20/20\n",
      "32/32 [==============================] - 3s 93ms/step - loss: 0.1483 - mae: 0.1483 - mape: 7692.3052 - val_loss: 0.1081 - val_mae: 0.1081 - val_mape: 7663.3423\n"
     ]
    }
   ],
   "source": [
    "epochs  = 20\n",
    "verbose = 1 \n",
    "History = CNN_model_1.fit(train_X,train_y,\n",
    "                          batch_size= 1024,   \n",
    "                          epochs = epochs, \n",
    "                          validation_data = (validation_X,validation_y),\n",
    "                          verbose = verbose)"
   ]
  },
  {
   "cell_type": "code",
   "execution_count": 31,
   "id": "8e0ab2c2",
   "metadata": {},
   "outputs": [
    {
     "name": "stdout",
     "output_type": "stream",
     "text": [
      "Mean Absolute Error (MAE): 5266.89\n",
      "Median Absolute Error (MedAE): 5009.31\n",
      "Mean Squared Error (MSE): 39149245.57\n",
      "Root Mean Squared Error (RMSE): 6256.94\n",
      "Mean Absolute Percentage Error (MAPE): 37.07 %\n",
      "Median Absolute Percentage Error (MDAPE): 40.06 %\n"
     ]
    }
   ],
   "source": [
    "# https://github.com/flo7up/relataly-public-python-tutorials/blob/master/009%20Time%20Series%20Forecasting%20-%20Measuring%20Model%20Performance.ipynb\n",
    "\n",
    "# Get the predicted values\n",
    "y_pred_scaled = CNN_model_1.predict(test_X)\n",
    "y_pred = scaler.inverse_transform(y_pred_scaled)[0]\n",
    "y_test_unscaled = scaler.inverse_transform(test_y.reshape(-1, 1))\n",
    "# Mean Absolute Error (MAE)\n",
    "MAE = np.mean(abs(y_pred - y_test_unscaled))\n",
    "print('Mean Absolute Error (MAE): ' + str(np.round(MAE, 2)))\n",
    "\n",
    "# Median Absolute Error (MedAE)\n",
    "MEDAE = np.median(abs(y_pred - y_test_unscaled))\n",
    "print('Median Absolute Error (MedAE): ' + str(np.round(MEDAE, 2)))\n",
    "\n",
    "# Mean Squared Error (MSE)\n",
    "MSE = np.square(np.subtract(y_pred, y_test_unscaled)).mean()\n",
    "print('Mean Squared Error (MSE): ' + str(np.round(MSE, 2)))\n",
    "\n",
    "# Root Mean Squarred Error (RMSE) \n",
    "RMSE = np.sqrt(np.mean(np.square(y_pred - y_test_unscaled)))\n",
    "print('Root Mean Squared Error (RMSE): ' + str(np.round(RMSE, 2)))\n",
    "\n",
    "# Mean Absolute Percentage Error (MAPE)\n",
    "MAPE = np.mean((np.abs(np.subtract(y_test_unscaled, y_pred)/ y_test_unscaled))) * 100\n",
    "print('Mean Absolute Percentage Error (MAPE): ' + str(np.round(MAPE, 2)) + ' %')\n",
    "\n",
    "# Median Absolute Percentage Error (MDAPE)\n",
    "MDAPE = np.median((np.abs(np.subtract(y_test_unscaled, y_pred)/ y_test_unscaled))) * 100\n",
    "print('Median Absolute Percentage Error (MDAPE): ' + str(np.round(MDAPE, 2)) + ' %')"
   ]
  },
  {
   "cell_type": "code",
   "execution_count": 33,
   "id": "66a6102b",
   "metadata": {},
   "outputs": [
    {
     "data": {
      "image/png": "[encoded data removed]",
      "text/plain": [
       "<Figure size 432x288 with 1 Axes>"
      ]
     },
     "metadata": {
      "needs_background": "light"
     },
     "output_type": "display_data"
    }
   ],
   "source": [
    "plt.plot(y_test_unscaled[0:500], color=\"red\", linewidth=1,label='Actual');\n",
    "plt.plot(y_pred[0:500],'--', color=\"black\", linewidth=1,label='Predicted');"
   ]
  },
  {
   "cell_type": "code",
   "execution_count": 16,
   "id": "3ce7b732",
   "metadata": {},
   "outputs": [
    {
     "data": {
      "text/plain": [
       "(32710, 24)"
      ]
     },
     "execution_count": 16,
     "metadata": {},
     "output_type": "execute_result"
    }
   ],
   "source": [
    "df.shape"
   ]
  },
  {
   "cell_type": "code",
   "execution_count": 18,
   "id": "fbb87c91",
   "metadata": {},
   "outputs": [
    {
     "ename": "TypeError",
     "evalue": "'(slice(None, None, None), ['System_load'])' is an invalid key",
     "output_type": "error",
     "traceback": [
      "\u001b[1;31m---------------------------------------------------------------------------\u001b[0m",
      "\u001b[1;31mTypeError\u001b[0m                                 Traceback (most recent call last)",
      "\u001b[1;32m~\\AppData\\Local\\Temp\\ipykernel_14092\\3847023184.py\u001b[0m in \u001b[0;36m<module>\u001b[1;34m\u001b[0m\n\u001b[1;32m----> 1\u001b[1;33m \u001b[0mdf\u001b[0m\u001b[1;33m[\u001b[0m\u001b[1;33m:\u001b[0m\u001b[1;33m,\u001b[0m\u001b[1;33m[\u001b[0m\u001b[1;34m'System_load'\u001b[0m\u001b[1;33m]\u001b[0m\u001b[1;33m]\u001b[0m\u001b[1;33m\u001b[0m\u001b[1;33m\u001b[0m\u001b[0m\n\u001b[0m",
      "\u001b[1;32m~\\Anaconda3\\envs\\time2\\lib\\site-packages\\pandas\\core\\frame.py\u001b[0m in \u001b[0;36m__getitem__\u001b[1;34m(self, key)\u001b[0m\n\u001b[0;32m   3456\u001b[0m             \u001b[1;32mif\u001b[0m \u001b[0mself\u001b[0m\u001b[1;33m.\u001b[0m\u001b[0mcolumns\u001b[0m\u001b[1;33m.\u001b[0m\u001b[0mnlevels\u001b[0m \u001b[1;33m>\u001b[0m \u001b[1;36m1\u001b[0m\u001b[1;33m:\u001b[0m\u001b[1;33m\u001b[0m\u001b[1;33m\u001b[0m\u001b[0m\n\u001b[0;32m   3457\u001b[0m                 \u001b[1;32mreturn\u001b[0m \u001b[0mself\u001b[0m\u001b[1;33m.\u001b[0m\u001b[0m_getitem_multilevel\u001b[0m\u001b[1;33m(\u001b[0m\u001b[0mkey\u001b[0m\u001b[1;33m)\u001b[0m\u001b[1;33m\u001b[0m\u001b[1;33m\u001b[0m\u001b[0m\n\u001b[1;32m-> 3458\u001b[1;33m             \u001b[0mindexer\u001b[0m \u001b[1;33m=\u001b[0m \u001b[0mself\u001b[0m\u001b[1;33m.\u001b[0m\u001b[0mcolumns\u001b[0m\u001b[1;33m.\u001b[0m\u001b[0mget_loc\u001b[0m\u001b[1;33m(\u001b[0m\u001b[0mkey\u001b[0m\u001b[1;33m)\u001b[0m\u001b[1;33m\u001b[0m\u001b[1;33m\u001b[0m\u001b[0m\n\u001b[0m\u001b[0;32m   3459\u001b[0m             \u001b[1;32mif\u001b[0m \u001b[0mis_integer\u001b[0m\u001b[1;33m(\u001b[0m\u001b[0mindexer\u001b[0m\u001b[1;33m)\u001b[0m\u001b[1;33m:\u001b[0m\u001b[1;33m\u001b[0m\u001b[1;33m\u001b[0m\u001b[0m\n\u001b[0;32m   3460\u001b[0m                 \u001b[0mindexer\u001b[0m \u001b[1;33m=\u001b[0m \u001b[1;33m[\u001b[0m\u001b[0mindexer\u001b[0m\u001b[1;33m]\u001b[0m\u001b[1;33m\u001b[0m\u001b[1;33m\u001b[0m\u001b[0m\n",
      "\u001b[1;32m~\\Anaconda3\\envs\\time2\\lib\\site-packages\\pandas\\core\\indexes\\base.py\u001b[0m in \u001b[0;36mget_loc\u001b[1;34m(self, key, method, tolerance)\u001b[0m\n\u001b[0;32m   3359\u001b[0m             \u001b[0mcasted_key\u001b[0m \u001b[1;33m=\u001b[0m \u001b[0mself\u001b[0m\u001b[1;33m.\u001b[0m\u001b[0m_maybe_cast_indexer\u001b[0m\u001b[1;33m(\u001b[0m\u001b[0mkey\u001b[0m\u001b[1;33m)\u001b[0m\u001b[1;33m\u001b[0m\u001b[1;33m\u001b[0m\u001b[0m\n\u001b[0;32m   3360\u001b[0m             \u001b[1;32mtry\u001b[0m\u001b[1;33m:\u001b[0m\u001b[1;33m\u001b[0m\u001b[1;33m\u001b[0m\u001b[0m\n\u001b[1;32m-> 3361\u001b[1;33m                 \u001b[1;32mreturn\u001b[0m \u001b[0mself\u001b[0m\u001b[1;33m.\u001b[0m\u001b[0m_engine\u001b[0m\u001b[1;33m.\u001b[0m\u001b[0mget_loc\u001b[0m\u001b[1;33m(\u001b[0m\u001b[0mcasted_key\u001b[0m\u001b[1;33m)\u001b[0m\u001b[1;33m\u001b[0m\u001b[1;33m\u001b[0m\u001b[0m\n\u001b[0m\u001b[0;32m   3362\u001b[0m             \u001b[1;32mexcept\u001b[0m \u001b[0mKeyError\u001b[0m \u001b[1;32mas\u001b[0m \u001b[0merr\u001b[0m\u001b[1;33m:\u001b[0m\u001b[1;33m\u001b[0m\u001b[1;33m\u001b[0m\u001b[0m\n\u001b[0;32m   3363\u001b[0m                 \u001b[1;32mraise\u001b[0m \u001b[0mKeyError\u001b[0m\u001b[1;33m(\u001b[0m\u001b[0mkey\u001b[0m\u001b[1;33m)\u001b[0m \u001b[1;32mfrom\u001b[0m \u001b[0merr\u001b[0m\u001b[1;33m\u001b[0m\u001b[1;33m\u001b[0m\u001b[0m\n",
      "\u001b[1;32m~\\Anaconda3\\envs\\time2\\lib\\site-packages\\pandas\\_libs\\index.pyx\u001b[0m in \u001b[0;36mpandas._libs.index.IndexEngine.get_loc\u001b[1;34m()\u001b[0m\n",
      "\u001b[1;32m~\\Anaconda3\\envs\\time2\\lib\\site-packages\\pandas\\_libs\\index.pyx\u001b[0m in \u001b[0;36mpandas._libs.index.IndexEngine.get_loc\u001b[1;34m()\u001b[0m\n",
      "\u001b[1;31mTypeError\u001b[0m: '(slice(None, None, None), ['System_load'])' is an invalid key"
     ]
    }
   ],
   "source": [
    "df[:,['System_load']]"
   ]
  },
  {
   "cell_type": "code",
   "execution_count": 13,
   "id": "cca1149c",
   "metadata": {},
   "outputs": [
    {
     "data": {
      "text/html": [
       "<div>\n",
       "<style scoped>\n",
       "    .dataframe tbody tr th:only-of-type {\n",
       "        vertical-align: middle;\n",
       "    }\n",
       "\n",
       "    .dataframe tbody tr th {\n",
       "        vertical-align: top;\n",
       "    }\n",
       "\n",
       "    .dataframe thead th {\n",
       "        text-align: right;\n",
       "    }\n",
       "</style>\n",
       "<table border=\"1\" class=\"dataframe\">\n",
       "  <thead>\n",
       "    <tr style=\"text-align: right;\">\n",
       "      <th></th>\n",
       "      <th>Unnamed: 0</th>\n",
       "      <th>System_load</th>\n",
       "      <th>Year1</th>\n",
       "      <th>Year2</th>\n",
       "      <th>Year3</th>\n",
       "      <th>Year4</th>\n",
       "      <th>Year5</th>\n",
       "      <th>Year6</th>\n",
       "      <th>Month_of_year1</th>\n",
       "      <th>Month_of_year2</th>\n",
       "      <th>...</th>\n",
       "      <th>holiday1</th>\n",
       "      <th>holiday2</th>\n",
       "      <th>winter_peak1</th>\n",
       "      <th>winter_peak2</th>\n",
       "      <th>Spring_Peak1</th>\n",
       "      <th>Spring_Peak</th>\n",
       "      <th>Summer_Peak1</th>\n",
       "      <th>Summer_Peak2</th>\n",
       "      <th>Autumn_peak1</th>\n",
       "      <th>Autumn_peak</th>\n",
       "    </tr>\n",
       "  </thead>\n",
       "  <tbody>\n",
       "    <tr>\n",
       "      <th>0</th>\n",
       "      <td>0</td>\n",
       "      <td>0.318572</td>\n",
       "      <td>1.0</td>\n",
       "      <td>0.0</td>\n",
       "      <td>0.0</td>\n",
       "      <td>0.0</td>\n",
       "      <td>0.0</td>\n",
       "      <td>0.0</td>\n",
       "      <td>1.0</td>\n",
       "      <td>0.0</td>\n",
       "      <td>...</td>\n",
       "      <td>1.0</td>\n",
       "      <td>0.0</td>\n",
       "      <td>1.0</td>\n",
       "      <td>0.0</td>\n",
       "      <td>0.5</td>\n",
       "      <td>8.660254e-01</td>\n",
       "      <td>1.224647e-16</td>\n",
       "      <td>-1.0</td>\n",
       "      <td>0.000000</td>\n",
       "      <td>1.000000e+00</td>\n",
       "    </tr>\n",
       "    <tr>\n",
       "      <th>1</th>\n",
       "      <td>1</td>\n",
       "      <td>0.309504</td>\n",
       "      <td>1.0</td>\n",
       "      <td>0.0</td>\n",
       "      <td>0.0</td>\n",
       "      <td>0.0</td>\n",
       "      <td>0.0</td>\n",
       "      <td>0.0</td>\n",
       "      <td>1.0</td>\n",
       "      <td>0.0</td>\n",
       "      <td>...</td>\n",
       "      <td>1.0</td>\n",
       "      <td>0.0</td>\n",
       "      <td>1.0</td>\n",
       "      <td>0.0</td>\n",
       "      <td>0.5</td>\n",
       "      <td>8.660254e-01</td>\n",
       "      <td>1.224647e-16</td>\n",
       "      <td>-1.0</td>\n",
       "      <td>0.258819</td>\n",
       "      <td>9.659258e-01</td>\n",
       "    </tr>\n",
       "    <tr>\n",
       "      <th>2</th>\n",
       "      <td>2</td>\n",
       "      <td>0.304467</td>\n",
       "      <td>1.0</td>\n",
       "      <td>0.0</td>\n",
       "      <td>0.0</td>\n",
       "      <td>0.0</td>\n",
       "      <td>0.0</td>\n",
       "      <td>0.0</td>\n",
       "      <td>1.0</td>\n",
       "      <td>0.0</td>\n",
       "      <td>...</td>\n",
       "      <td>1.0</td>\n",
       "      <td>0.0</td>\n",
       "      <td>1.0</td>\n",
       "      <td>0.0</td>\n",
       "      <td>0.5</td>\n",
       "      <td>8.660254e-01</td>\n",
       "      <td>1.224647e-16</td>\n",
       "      <td>-1.0</td>\n",
       "      <td>0.500000</td>\n",
       "      <td>8.660254e-01</td>\n",
       "    </tr>\n",
       "    <tr>\n",
       "      <th>3</th>\n",
       "      <td>3</td>\n",
       "      <td>0.303075</td>\n",
       "      <td>1.0</td>\n",
       "      <td>0.0</td>\n",
       "      <td>0.0</td>\n",
       "      <td>0.0</td>\n",
       "      <td>0.0</td>\n",
       "      <td>0.0</td>\n",
       "      <td>1.0</td>\n",
       "      <td>0.0</td>\n",
       "      <td>...</td>\n",
       "      <td>1.0</td>\n",
       "      <td>0.0</td>\n",
       "      <td>1.0</td>\n",
       "      <td>0.0</td>\n",
       "      <td>0.5</td>\n",
       "      <td>8.660254e-01</td>\n",
       "      <td>1.224647e-16</td>\n",
       "      <td>-1.0</td>\n",
       "      <td>0.707107</td>\n",
       "      <td>7.071068e-01</td>\n",
       "    </tr>\n",
       "    <tr>\n",
       "      <th>4</th>\n",
       "      <td>4</td>\n",
       "      <td>0.310512</td>\n",
       "      <td>1.0</td>\n",
       "      <td>0.0</td>\n",
       "      <td>0.0</td>\n",
       "      <td>0.0</td>\n",
       "      <td>0.0</td>\n",
       "      <td>0.0</td>\n",
       "      <td>1.0</td>\n",
       "      <td>0.0</td>\n",
       "      <td>...</td>\n",
       "      <td>1.0</td>\n",
       "      <td>0.0</td>\n",
       "      <td>1.0</td>\n",
       "      <td>0.0</td>\n",
       "      <td>0.5</td>\n",
       "      <td>8.660254e-01</td>\n",
       "      <td>1.224647e-16</td>\n",
       "      <td>-1.0</td>\n",
       "      <td>0.866025</td>\n",
       "      <td>5.000000e-01</td>\n",
       "    </tr>\n",
       "    <tr>\n",
       "      <th>...</th>\n",
       "      <td>...</td>\n",
       "      <td>...</td>\n",
       "      <td>...</td>\n",
       "      <td>...</td>\n",
       "      <td>...</td>\n",
       "      <td>...</td>\n",
       "      <td>...</td>\n",
       "      <td>...</td>\n",
       "      <td>...</td>\n",
       "      <td>...</td>\n",
       "      <td>...</td>\n",
       "      <td>...</td>\n",
       "      <td>...</td>\n",
       "      <td>...</td>\n",
       "      <td>...</td>\n",
       "      <td>...</td>\n",
       "      <td>...</td>\n",
       "      <td>...</td>\n",
       "      <td>...</td>\n",
       "      <td>...</td>\n",
       "      <td>...</td>\n",
       "    </tr>\n",
       "    <tr>\n",
       "      <th>32705</th>\n",
       "      <td>32705</td>\n",
       "      <td>0.664684</td>\n",
       "      <td>0.0</td>\n",
       "      <td>0.0</td>\n",
       "      <td>0.0</td>\n",
       "      <td>1.0</td>\n",
       "      <td>0.0</td>\n",
       "      <td>0.0</td>\n",
       "      <td>1.0</td>\n",
       "      <td>0.0</td>\n",
       "      <td>...</td>\n",
       "      <td>1.0</td>\n",
       "      <td>0.0</td>\n",
       "      <td>1.0</td>\n",
       "      <td>0.0</td>\n",
       "      <td>-1.0</td>\n",
       "      <td>-1.836970e-16</td>\n",
       "      <td>0.000000e+00</td>\n",
       "      <td>1.0</td>\n",
       "      <td>-0.965926</td>\n",
       "      <td>-2.588190e-01</td>\n",
       "    </tr>\n",
       "    <tr>\n",
       "      <th>32706</th>\n",
       "      <td>32706</td>\n",
       "      <td>0.727199</td>\n",
       "      <td>0.0</td>\n",
       "      <td>0.0</td>\n",
       "      <td>0.0</td>\n",
       "      <td>1.0</td>\n",
       "      <td>0.0</td>\n",
       "      <td>0.0</td>\n",
       "      <td>1.0</td>\n",
       "      <td>0.0</td>\n",
       "      <td>...</td>\n",
       "      <td>1.0</td>\n",
       "      <td>0.0</td>\n",
       "      <td>0.0</td>\n",
       "      <td>1.0</td>\n",
       "      <td>-1.0</td>\n",
       "      <td>-1.836970e-16</td>\n",
       "      <td>0.000000e+00</td>\n",
       "      <td>1.0</td>\n",
       "      <td>-1.000000</td>\n",
       "      <td>-1.836970e-16</td>\n",
       "    </tr>\n",
       "    <tr>\n",
       "      <th>32707</th>\n",
       "      <td>32707</td>\n",
       "      <td>0.722593</td>\n",
       "      <td>0.0</td>\n",
       "      <td>0.0</td>\n",
       "      <td>0.0</td>\n",
       "      <td>1.0</td>\n",
       "      <td>0.0</td>\n",
       "      <td>0.0</td>\n",
       "      <td>1.0</td>\n",
       "      <td>0.0</td>\n",
       "      <td>...</td>\n",
       "      <td>1.0</td>\n",
       "      <td>0.0</td>\n",
       "      <td>0.0</td>\n",
       "      <td>1.0</td>\n",
       "      <td>-1.0</td>\n",
       "      <td>-1.836970e-16</td>\n",
       "      <td>0.000000e+00</td>\n",
       "      <td>1.0</td>\n",
       "      <td>-0.965926</td>\n",
       "      <td>2.588190e-01</td>\n",
       "    </tr>\n",
       "    <tr>\n",
       "      <th>32708</th>\n",
       "      <td>32708</td>\n",
       "      <td>0.706136</td>\n",
       "      <td>0.0</td>\n",
       "      <td>0.0</td>\n",
       "      <td>0.0</td>\n",
       "      <td>1.0</td>\n",
       "      <td>0.0</td>\n",
       "      <td>0.0</td>\n",
       "      <td>1.0</td>\n",
       "      <td>0.0</td>\n",
       "      <td>...</td>\n",
       "      <td>1.0</td>\n",
       "      <td>0.0</td>\n",
       "      <td>0.0</td>\n",
       "      <td>1.0</td>\n",
       "      <td>-1.0</td>\n",
       "      <td>-1.836970e-16</td>\n",
       "      <td>0.000000e+00</td>\n",
       "      <td>1.0</td>\n",
       "      <td>-0.866025</td>\n",
       "      <td>5.000000e-01</td>\n",
       "    </tr>\n",
       "    <tr>\n",
       "      <th>32709</th>\n",
       "      <td>32709</td>\n",
       "      <td>0.696493</td>\n",
       "      <td>0.0</td>\n",
       "      <td>0.0</td>\n",
       "      <td>0.0</td>\n",
       "      <td>1.0</td>\n",
       "      <td>0.0</td>\n",
       "      <td>0.0</td>\n",
       "      <td>1.0</td>\n",
       "      <td>0.0</td>\n",
       "      <td>...</td>\n",
       "      <td>1.0</td>\n",
       "      <td>0.0</td>\n",
       "      <td>0.0</td>\n",
       "      <td>1.0</td>\n",
       "      <td>-1.0</td>\n",
       "      <td>-1.836970e-16</td>\n",
       "      <td>0.000000e+00</td>\n",
       "      <td>1.0</td>\n",
       "      <td>-0.707107</td>\n",
       "      <td>7.071068e-01</td>\n",
       "    </tr>\n",
       "  </tbody>\n",
       "</table>\n",
       "<p>32710 rows × 24 columns</p>\n",
       "</div>"
      ],
      "text/plain": [
       "       Unnamed: 0  System_load  Year1  Year2  Year3  Year4  Year5  Year6  \\\n",
       "0               0     0.318572    1.0    0.0    0.0    0.0    0.0    0.0   \n",
       "1               1     0.309504    1.0    0.0    0.0    0.0    0.0    0.0   \n",
       "2               2     0.304467    1.0    0.0    0.0    0.0    0.0    0.0   \n",
       "3               3     0.303075    1.0    0.0    0.0    0.0    0.0    0.0   \n",
       "4               4     0.310512    1.0    0.0    0.0    0.0    0.0    0.0   \n",
       "...           ...          ...    ...    ...    ...    ...    ...    ...   \n",
       "32705       32705     0.664684    0.0    0.0    0.0    1.0    0.0    0.0   \n",
       "32706       32706     0.727199    0.0    0.0    0.0    1.0    0.0    0.0   \n",
       "32707       32707     0.722593    0.0    0.0    0.0    1.0    0.0    0.0   \n",
       "32708       32708     0.706136    0.0    0.0    0.0    1.0    0.0    0.0   \n",
       "32709       32709     0.696493    0.0    0.0    0.0    1.0    0.0    0.0   \n",
       "\n",
       "       Month_of_year1  Month_of_year2  ...  holiday1  holiday2  winter_peak1  \\\n",
       "0                 1.0             0.0  ...       1.0       0.0           1.0   \n",
       "1                 1.0             0.0  ...       1.0       0.0           1.0   \n",
       "2                 1.0             0.0  ...       1.0       0.0           1.0   \n",
       "3                 1.0             0.0  ...       1.0       0.0           1.0   \n",
       "4                 1.0             0.0  ...       1.0       0.0           1.0   \n",
       "...               ...             ...  ...       ...       ...           ...   \n",
       "32705             1.0             0.0  ...       1.0       0.0           1.0   \n",
       "32706             1.0             0.0  ...       1.0       0.0           0.0   \n",
       "32707             1.0             0.0  ...       1.0       0.0           0.0   \n",
       "32708             1.0             0.0  ...       1.0       0.0           0.0   \n",
       "32709             1.0             0.0  ...       1.0       0.0           0.0   \n",
       "\n",
       "       winter_peak2  Spring_Peak1   Spring_Peak  Summer_Peak1  Summer_Peak2  \\\n",
       "0               0.0           0.5  8.660254e-01  1.224647e-16          -1.0   \n",
       "1               0.0           0.5  8.660254e-01  1.224647e-16          -1.0   \n",
       "2               0.0           0.5  8.660254e-01  1.224647e-16          -1.0   \n",
       "3               0.0           0.5  8.660254e-01  1.224647e-16          -1.0   \n",
       "4               0.0           0.5  8.660254e-01  1.224647e-16          -1.0   \n",
       "...             ...           ...           ...           ...           ...   \n",
       "32705           0.0          -1.0 -1.836970e-16  0.000000e+00           1.0   \n",
       "32706           1.0          -1.0 -1.836970e-16  0.000000e+00           1.0   \n",
       "32707           1.0          -1.0 -1.836970e-16  0.000000e+00           1.0   \n",
       "32708           1.0          -1.0 -1.836970e-16  0.000000e+00           1.0   \n",
       "32709           1.0          -1.0 -1.836970e-16  0.000000e+00           1.0   \n",
       "\n",
       "       Autumn_peak1   Autumn_peak  \n",
       "0          0.000000  1.000000e+00  \n",
       "1          0.258819  9.659258e-01  \n",
       "2          0.500000  8.660254e-01  \n",
       "3          0.707107  7.071068e-01  \n",
       "4          0.866025  5.000000e-01  \n",
       "...             ...           ...  \n",
       "32705     -0.965926 -2.588190e-01  \n",
       "32706     -1.000000 -1.836970e-16  \n",
       "32707     -0.965926  2.588190e-01  \n",
       "32708     -0.866025  5.000000e-01  \n",
       "32709     -0.707107  7.071068e-01  \n",
       "\n",
       "[32710 rows x 24 columns]"
      ]
     },
     "execution_count": 13,
     "metadata": {},
     "output_type": "execute_result"
    }
   ],
   "source": [
    "df"
   ]
  },
  {
   "cell_type": "code",
   "execution_count": null,
   "id": "531e2bfd",
   "metadata": {},
   "outputs": [],
   "source": []
  },
  {
   "cell_type": "code",
   "execution_count": null,
   "id": "e56cfc1e",
   "metadata": {},
   "outputs": [],
   "source": []
  },
  {
   "cell_type": "code",
   "execution_count": null,
   "id": "2276542d",
   "metadata": {},
   "outputs": [],
   "source": []
  },
  {
   "cell_type": "code",
   "execution_count": null,
   "id": "7a446a7f",
   "metadata": {},
   "outputs": [],
   "source": []
  },
  {
   "cell_type": "code",
   "execution_count": null,
   "id": "990c8640",
   "metadata": {},
   "outputs": [],
   "source": []
  },
  {
   "cell_type": "code",
   "execution_count": null,
   "id": "2f7ab241",
   "metadata": {},
   "outputs": [],
   "source": []
  },
  {
   "cell_type": "code",
   "execution_count": null,
   "id": "9638eeb0",
   "metadata": {},
   "outputs": [],
   "source": []
  },
  {
   "cell_type": "code",
   "execution_count": null,
   "id": "36e9715f",
   "metadata": {},
   "outputs": [],
   "source": []
  }
 ],
 "metadata": {
  "kernelspec": {
   "display_name": "Python 3 (ipykernel)",
   "language": "python",
   "name": "python3"
  },
  "language_info": {
   "codemirror_mode": {
    "name": "ipython",
    "version": 3
   },
   "file_extension": ".py",
   "mimetype": "text/x-python",
   "name": "python",
   "nbconvert_exporter": "python",
   "pygments_lexer": "ipython3",
   "version": "3.9.18"
  }
 },
 "nbformat": 4,
 "nbformat_minor": 5
}
