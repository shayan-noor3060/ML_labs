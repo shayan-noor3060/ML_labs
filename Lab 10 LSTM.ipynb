{
 "cells": [
  {
   "cell_type": "code",
   "execution_count": 1,
   "metadata": {},
   "outputs": [],
   "source": [
    "import os\n",
    "os.chdir('C:\\\\Users\\\\Administrator\\\\Downloads\\\\ML Lab')"
   ]
  },
  {
   "cell_type": "code",
   "execution_count": 2,
   "metadata": {},
   "outputs": [],
   "source": [
    "from sklearn.metrics import mean_squared_error, mean_absolute_error, explained_variance_score, r2_score\n",
    "from timeseires.utils.to_split import to_split\n",
    "from timeseires.utils.multivariate_multi_step import multivariate_multi_step\n",
    "from timeseires.utils.multivariate_single_step import multivariate_single_step\n",
    "from timeseires.utils.univariate_multi_step import univariate_multi_step\n",
    "from timeseires.utils.univariate_single_step import univariate_single_step\n",
    "from timeseires.utils.CosineAnnealingLRS import CosineAnnealingLRS\n",
    "from timeseires.callbacks.EpochCheckpoint import EpochCheckpoint\n",
    "from tensorflow.keras.callbacks import ModelCheckpoint\n",
    "from timeseires.callbacks.TrainingMonitor import TrainingMonitor\n",
    "from tensorflow.keras.optimizers import Adam\n",
    "from tensorflow.keras.optimizers import SGD\n",
    "from tensorflow.keras.models import load_model\n",
    "from tensorflow.keras.layers import LSTM, Bidirectional, Add\n",
    "from tensorflow.keras.layers import BatchNormalization\n",
    "from tensorflow.keras.layers import Conv1D,TimeDistributed\n",
    "from tensorflow.keras.layers import Dense, Dropout, Activation, Flatten,MaxPooling1D,Concatenate,AveragePooling1D, GlobalMaxPooling1D, Input\n",
    "from tensorflow.keras.models import Sequential,Model\n",
    "import pandas as pd\n",
    "import time, pickle\n",
    "import numpy as np\n",
    "import tensorflow.keras.backend as K\n",
    "import tensorflow\n",
    "from tensorflow.keras.layers import Input, Reshape, Lambda\n",
    "from tensorflow.keras.layers import Layer, Flatten, LeakyReLU, concatenate, Dense\n",
    "from tensorflow.keras.regularizers import l2\n",
    "import glob\n",
    "import h5py\n",
    "import matplotlib.pyplot as plt\n",
    "from keras.callbacks import Callback"
   ]
  },
  {
   "cell_type": "code",
   "execution_count": 3,
   "metadata": {},
   "outputs": [],
   "source": [
    "#lookback = 24\n",
    "model = None\n",
    "start_epoch = 0\n",
    "time_steps=24\n",
    "num_features=21"
   ]
  },
  {
   "cell_type": "code",
   "execution_count": 4,
   "metadata": {},
   "outputs": [],
   "source": [
    "def create_lstm():\n",
    "    input_data = Input(shape=(time_steps, num_features))\n",
    "    lstm_layer1 = LSTM(8, return_sequences=True)(input_data)\n",
    "    lstm_layer2 = LSTM(20)(lstm_layer1)\n",
    "    x = Flatten()(lstm_layer2)\n",
    "    output_data = Dense(1)(x)\n",
    "    model = Model(input_data, output_data)\n",
    "    return model"
   ]
  },
  {
   "cell_type": "code",
   "execution_count": 5,
   "metadata": {},
   "outputs": [
    {
     "name": "stdout",
     "output_type": "stream",
     "text": [
      "Model: \"model\"\n",
      "_________________________________________________________________\n",
      " Layer (type)                Output Shape              Param #   \n",
      "=================================================================\n",
      " input_1 (InputLayer)        [(None, 24, 21)]          0         \n",
      "                                                                 \n",
      " lstm (LSTM)                 (None, 24, 8)             960       \n",
      "                                                                 \n",
      " lstm_1 (LSTM)               (None, 20)                2320      \n",
      "                                                                 \n",
      " flatten (Flatten)           (None, 20)                0         \n",
      "                                                                 \n",
      " dense (Dense)               (None, 1)                 21        \n",
      "                                                                 \n",
      "=================================================================\n",
      "Total params: 3,301\n",
      "Trainable params: 3,301\n",
      "Non-trainable params: 0\n",
      "_________________________________________________________________\n"
     ]
    }
   ],
   "source": [
    "model1 = create_lstm()\n",
    "model1.summary()"
   ]
  },
  {
   "cell_type": "code",
   "execution_count": 6,
   "metadata": {},
   "outputs": [
    {
     "data": {
      "image/png": "[encoded data removed]",
      "text/plain": [
       "<IPython.core.display.Image object>"
      ]
     },
     "execution_count": 6,
     "metadata": {},
     "output_type": "execute_result"
    }
   ],
   "source": [
    "tensorflow.keras.utils.plot_model(model1 )"
   ]
  },
  {
   "cell_type": "code",
   "execution_count": 7,
   "metadata": {},
   "outputs": [],
   "source": [
    "checkpoints = r'C:\\Users\\Administrator\\Downloads\\ML Lab\\checkpoint\\ML Lab\\lab10\\\\E1-cp-{epoch:04d}-loss{val_loss:.2f}.h5'\n",
    "OUTPUT_PATH = r'C:\\Users\\Administrator\\Downloads\\ML Lab\\checkpoint\\ML Lab\\lab10'\n",
    "FIG_PATH = os.path.sep.join([OUTPUT_PATH,\"\\history.png\"])\n",
    "JSON_PATH = os.path.sep.join([OUTPUT_PATH,\"\\history.json\"])"
   ]
  },
  {
   "cell_type": "code",
   "execution_count": 8,
   "metadata": {},
   "outputs": [],
   "source": [
    "# construct the callback to save only the *best* model to disk\n",
    "# based on the validation loss\n",
    "EpochCheckpoint1 = ModelCheckpoint(checkpoints,\n",
    "                             monitor=\"val_loss\",\n",
    "                             save_best_only=True, \n",
    "                             verbose=1)\n",
    "TrainingMonitor1=TrainingMonitor(FIG_PATH, jsonPath=JSON_PATH, startAt=start_epoch)\n",
    "\n",
    "# construct the set of callbacks\n",
    "callbacks = [EpochCheckpoint1,TrainingMonitor1]"
   ]
  },
  {
   "cell_type": "code",
   "execution_count": 9,
   "metadata": {},
   "outputs": [
    {
     "name": "stdout",
     "output_type": "stream",
     "text": [
      "[INFO] compiling model...\n"
     ]
    }
   ],
   "source": [
    "# if there is no specific model checkpoint supplied, then initialize\n",
    "# the network and compile the model\n",
    "if model is None:\n",
    "    print(\"[INFO] compiling model...\")\n",
    "    model =create_lstm()\n",
    "    opt = Adam(1e-3)\n",
    "    model.compile(loss= 'mae', optimizer=opt, metrics=[\"mae\", \"mape\"])\n",
    "# otherwise, load the checkpoint from disk\n",
    "else:\n",
    "    print(\"[INFO] loading {}...\".format(model))\n",
    "    model = load_model(model)\n",
    "\n",
    "    # update the learning rate\n",
    "    print(\"[INFO] old learning rate: {}\".format(K.get_value(model.optimizer.lr)))\n",
    "    K.set_value(model.optimizer.lr, 1e-4)\n",
    "    print(\"[INFO] new learning rate: {}\".format(K.get_value(model.optimizer.lr)))"
   ]
  },
  {
   "cell_type": "code",
   "execution_count": 10,
   "metadata": {},
   "outputs": [
    {
     "name": "stderr",
     "output_type": "stream",
     "text": [
      "C:\\Users\\Administrator\\anaconda3\\envs\\Time1\\lib\\site-packages\\sklearn\\base.py:347: InconsistentVersionWarning: Trying to unpickle estimator MinMaxScaler from version 1.0.2 when using version 1.3.0. This might lead to breaking code or invalid results. Use at your own risk. For more info please refer to:\n",
      "https://scikit-learn.org/stable/model_persistence.html#security-maintainability-limitations\n",
      "  warnings.warn(\n"
     ]
    },
    {
     "data": {
      "text/plain": [
       "((84907, 21), (24259, 21), (12130, 21))"
      ]
     },
     "execution_count": 10,
     "metadata": {},
     "output_type": "execute_result"
    }
   ],
   "source": [
    "import os\n",
    "path_dataset ='C:\\\\Users\\\\Administrator\\\\Downloads\\\\ML Lab\\\\AEP_hourly\\\\processed'\n",
    "path_tr = os.path.join(path_dataset, 'AEP_train.csv')\n",
    "df_tr = pd.read_csv(path_tr)\n",
    "train_set = df_tr.iloc[:].values\n",
    "path_v = os.path.join(path_dataset, 'AEP_validation.csv')\n",
    "df_v = pd.read_csv(path_v)\n",
    "validation_set = df_v.iloc[:].values \n",
    "path_te = os.path.join(path_dataset, 'AEP_test.csv')\n",
    "df_te = pd.read_csv(path_te)\n",
    "test_set = df_te.iloc[:].values \n",
    "\n",
    "path_scaler = os.path.join(path_dataset, 'AEP_Scaler.pkl')\n",
    "scaler         = pickle.load(open(path_scaler, 'rb'))\n",
    "\n",
    "train_set.shape, validation_set.shape, test_set.shape"
   ]
  },
  {
   "cell_type": "code",
   "execution_count": 11,
   "metadata": {},
   "outputs": [],
   "source": [
    "time_steps=24\n",
    "num_features=21"
   ]
  },
  {
   "cell_type": "code",
   "execution_count": 12,
   "metadata": {},
   "outputs": [
    {
     "name": "stdout",
     "output_type": "stream",
     "text": [
      "Time Consumed 0.536205530166626 sec\n"
     ]
    }
   ],
   "source": [
    "start = time.time()\n",
    "train_X , train_y = univariate_multi_step(train_set, time_steps, target_col=0,target_len=1)\n",
    "validation_X, validation_y = univariate_multi_step(validation_set, time_steps, target_col=0,target_len=1)\n",
    "test_X, test_y = univariate_multi_step(test_set, time_steps, target_col=0,target_len=1)\n",
    "print('Time Consumed', time.time()-start, \"sec\")"
   ]
  },
  {
   "cell_type": "code",
   "execution_count": 13,
   "metadata": {},
   "outputs": [
    {
     "name": "stdout",
     "output_type": "stream",
     "text": [
      "Epoch 1/60\n",
      "2652/2653 [============================>.] - ETA: 0s - loss: 0.0417 - mae: 0.0417 - mape: 529.5672\n",
      "Epoch 1: val_loss improved from inf to 0.02112, saving model to C:\\Users\\Administrator\\Downloads\\ML Lab\\checkpoint\\ML Lab\\lab10\\E1-cp-0001-loss0.02.h5\n",
      "2653/2653 [==============================] - 65s 22ms/step - loss: 0.0417 - mae: 0.0417 - mape: 529.4561 - val_loss: 0.0211 - val_mae: 0.0211 - val_mape: 9.7241\n",
      "Epoch 2/60\n",
      "2651/2653 [============================>.] - ETA: 0s - loss: 0.0166 - mae: 0.0166 - mape: 220.2914\n",
      "Epoch 2: val_loss improved from 0.02112 to 0.01255, saving model to C:\\Users\\Administrator\\Downloads\\ML Lab\\checkpoint\\ML Lab\\lab10\\E1-cp-0002-loss0.01.h5\n",
      "2653/2653 [==============================] - 58s 22ms/step - loss: 0.0166 - mae: 0.0166 - mape: 220.1644 - val_loss: 0.0126 - val_mae: 0.0126 - val_mape: 5.5249\n",
      "Epoch 3/60\n",
      "2652/2653 [============================>.] - ETA: 0s - loss: 0.0122 - mae: 0.0122 - mape: 193.7269\n",
      "Epoch 3: val_loss improved from 0.01255 to 0.01074, saving model to C:\\Users\\Administrator\\Downloads\\ML Lab\\checkpoint\\ML Lab\\lab10\\E1-cp-0003-loss0.01.h5\n",
      "2653/2653 [==============================] - 61s 23ms/step - loss: 0.0122 - mae: 0.0122 - mape: 193.6867 - val_loss: 0.0107 - val_mae: 0.0107 - val_mape: 4.4322\n",
      "Epoch 4/60\n",
      "2653/2653 [==============================] - ETA: 0s - loss: 0.0114 - mae: 0.0114 - mape: 138.3283\n",
      "Epoch 4: val_loss improved from 0.01074 to 0.00982, saving model to C:\\Users\\Administrator\\Downloads\\ML Lab\\checkpoint\\ML Lab\\lab10\\E1-cp-0004-loss0.01.h5\n",
      "2653/2653 [==============================] - 60s 23ms/step - loss: 0.0114 - mae: 0.0114 - mape: 138.3283 - val_loss: 0.0098 - val_mae: 0.0098 - val_mape: 4.3538\n",
      "Epoch 5/60\n",
      "2653/2653 [==============================] - ETA: 0s - loss: 0.0108 - mae: 0.0108 - mape: 314.5145\n",
      "Epoch 5: val_loss improved from 0.00982 to 0.00945, saving model to C:\\Users\\Administrator\\Downloads\\ML Lab\\checkpoint\\ML Lab\\lab10\\E1-cp-0005-loss0.01.h5\n",
      "2653/2653 [==============================] - 62s 23ms/step - loss: 0.0108 - mae: 0.0108 - mape: 314.5145 - val_loss: 0.0094 - val_mae: 0.0094 - val_mape: 4.4791\n",
      "Epoch 6/60\n",
      "2653/2653 [==============================] - ETA: 0s - loss: 0.0093 - mae: 0.0093 - mape: 204.5280\n",
      "Epoch 6: val_loss improved from 0.00945 to 0.00935, saving model to C:\\Users\\Administrator\\Downloads\\ML Lab\\checkpoint\\ML Lab\\lab10\\E1-cp-0006-loss0.01.h5\n",
      "2653/2653 [==============================] - 62s 23ms/step - loss: 0.0093 - mae: 0.0093 - mape: 204.5280 - val_loss: 0.0094 - val_mae: 0.0094 - val_mape: 3.9970\n",
      "Epoch 7/60\n",
      "2651/2653 [============================>.] - ETA: 0s - loss: 0.0083 - mae: 0.0083 - mape: 256.4094\n",
      "Epoch 7: val_loss improved from 0.00935 to 0.00895, saving model to C:\\Users\\Administrator\\Downloads\\ML Lab\\checkpoint\\ML Lab\\lab10\\E1-cp-0007-loss0.01.h5\n",
      "2653/2653 [==============================] - 59s 22ms/step - loss: 0.0083 - mae: 0.0083 - mape: 256.2597 - val_loss: 0.0090 - val_mae: 0.0090 - val_mape: 3.9902\n",
      "Epoch 8/60\n",
      "2651/2653 [============================>.] - ETA: 0s - loss: 0.0076 - mae: 0.0076 - mape: 98.6196\n",
      "Epoch 10: val_loss did not improve from 0.00765\n",
      "2653/2653 [==============================] - 68s 26ms/step - loss: 0.0076 - mae: 0.0076 - mape: 98.5630 - val_loss: 0.0082 - val_mae: 0.0082 - val_mape: 3.6304\n",
      "Epoch 11/60\n",
      "1583/2653 [================>.............] - ETA: 25s - loss: 0.0075 - mae: 0.0075 - mape: 2.4099\n",
      "Epoch 12: val_loss did not improve from 0.00741\n",
      "2653/2653 [==============================] - 67s 25ms/step - loss: 0.0074 - mae: 0.0074 - mape: 115.7608 - val_loss: 0.0084 - val_mae: 0.0084 - val_mape: 4.4960\n",
      "Epoch 13/60\n",
      "2652/2653 [============================>.] - ETA: 0s - loss: 0.0073 - mae: 0.0073 - mape: 3.5132\n",
      "Epoch 13: val_loss did not improve from 0.00741\n",
      "2653/2653 [==============================] - 71s 27ms/step - loss: 0.0073 - mae: 0.0073 - mape: 3.5128 - val_loss: 0.0077 - val_mae: 0.0077 - val_mape: 3.7154\n",
      "Epoch 14/60\n",
      "2651/2653 [============================>.] - ETA: 0s - loss: 0.0072 - mae: 0.0072 - mape: 21.4538\n",
      "Epoch 14: val_loss improved from 0.00741 to 0.00668, saving model to C:\\Users\\Administrator\\Downloads\\ML Lab\\checkpoint\\ML Lab\\lab10\\E1-cp-0014-loss0.01.h5\n",
      "2653/2653 [==============================] - 69s 26ms/step - loss: 0.0072 - mae: 0.0072 - mape: 21.4423 - val_loss: 0.0067 - val_mae: 0.0067 - val_mape: 2.8706\n",
      "Epoch 15/60\n",
      "2652/2653 [============================>.] - ETA: 0s - loss: 0.0072 - mae: 0.0072 - mape: 29.8322\n",
      "Epoch 16: val_loss did not improve from 0.00668\n",
      "2653/2653 [==============================] - 63s 24ms/step - loss: 0.0072 - mae: 0.0072 - mape: 29.8264 - val_loss: 0.0078 - val_mae: 0.0078 - val_mape: 3.3370\n",
      "Epoch 17/60\n",
      "2651/2653 [============================>.] - ETA: 0s - loss: 0.0071 - mae: 0.0071 - mape: 59.8672\n",
      "Epoch 17: val_loss did not improve from 0.00668\n",
      "2653/2653 [==============================] - 61s 23ms/step - loss: 0.0071 - mae: 0.0071 - mape: 59.8331 - val_loss: 0.0068 - val_mae: 0.0068 - val_mape: 2.9469\n",
      "Epoch 18/60\n",
      "2651/2653 [============================>.] - ETA: 0s - loss: 0.0070 - mae: 0.0070 - mape: 114.7794\n",
      "Epoch 18: val_loss did not improve from 0.00668\n",
      "2653/2653 [==============================] - 59s 22ms/step - loss: 0.0070 - mae: 0.0070 - mape: 114.7130 - val_loss: 0.0069 - val_mae: 0.0069 - val_mape: 3.0348\n",
      "Epoch 19/60\n",
      "2652/2653 [============================>.] - ETA: 0s - loss: 0.0069 - mae: 0.0069 - mape: 79.4050\n",
      "Epoch 20: val_loss improved from 0.00668 to 0.00662, saving model to C:\\Users\\Administrator\\Downloads\\ML Lab\\checkpoint\\ML Lab\\lab10\\E1-cp-0020-loss0.01.h5\n",
      "2653/2653 [==============================] - 58s 22ms/step - loss: 0.0069 - mae: 0.0069 - mape: 79.3885 - val_loss: 0.0066 - val_mae: 0.0066 - val_mape: 2.7691\n",
      "Epoch 21/60\n",
      "2651/2653 [============================>.] - ETA: 0s - loss: 0.0069 - mae: 0.0069 - mape: 41.0742\n",
      "Epoch 21: val_loss did not improve from 0.00662\n",
      "2653/2653 [==============================] - 59s 22ms/step - loss: 0.0069 - mae: 0.0069 - mape: 41.0517 - val_loss: 0.0076 - val_mae: 0.0076 - val_mape: 3.1198\n",
      "Epoch 22/60\n",
      "2653/2653 [==============================] - ETA: 0s - loss: 0.0068 - mae: 0.0068 - mape: 48.3668\n",
      "Epoch 24: val_loss did not improve from 0.00662\n",
      "2653/2653 [==============================] - 58s 22ms/step - loss: 0.0068 - mae: 0.0068 - mape: 48.3668 - val_loss: 0.0069 - val_mae: 0.0069 - val_mape: 2.9628\n",
      "Epoch 25/60\n",
      "2651/2653 [============================>.] - ETA: 0s - loss: 0.0067 - mae: 0.0067 - mape: 8.9026\n",
      "Epoch 26: val_loss did not improve from 0.00662\n",
      "2653/2653 [==============================] - 68s 26ms/step - loss: 0.0067 - mae: 0.0067 - mape: 8.8988 - val_loss: 0.0072 - val_mae: 0.0072 - val_mape: 3.3919\n",
      "Epoch 27/60\n",
      "2652/2653 [============================>.] - ETA: 0s - loss: 0.0066 - mae: 0.0066 - mape: 44.5400\n",
      "Epoch 27: val_loss did not improve from 0.00662\n",
      "2653/2653 [==============================] - 66s 25ms/step - loss: 0.0066 - mae: 0.0066 - mape: 44.5310 - val_loss: 0.0075 - val_mae: 0.0075 - val_mape: 3.2993\n",
      "Epoch 28/60\n",
      "2652/2653 [============================>.] - ETA: 0s - loss: 0.0065 - mae: 0.0065 - mape: 33.7525\n",
      "Epoch 33: val_loss improved from 0.00599 to 0.00593, saving model to C:\\Users\\Administrator\\Downloads\\ML Lab\\checkpoint\\ML Lab\\lab10\\E1-cp-0033-loss0.01.h5\n",
      "2653/2653 [==============================] - 59s 22ms/step - loss: 0.0065 - mae: 0.0065 - mape: 33.7458 - val_loss: 0.0059 - val_mae: 0.0059 - val_mape: 2.4785\n",
      "Epoch 34/60\n",
      "2652/2653 [============================>.] - ETA: 0s - loss: 0.0065 - mae: 0.0065 - mape: 92.8466\n",
      "Epoch 34: val_loss did not improve from 0.00593\n",
      "2653/2653 [==============================] - 58s 22ms/step - loss: 0.0065 - mae: 0.0065 - mape: 92.8274 - val_loss: 0.0067 - val_mae: 0.0067 - val_mape: 2.7966\n",
      "Epoch 35/60\n",
      "2652/2653 [============================>.] - ETA: 0s - loss: 0.0064 - mae: 0.0064 - mape: 3.6131\n",
      "Epoch 35: val_loss did not improve from 0.00593\n",
      "2653/2653 [==============================] - 58s 22ms/step - loss: 0.0064 - mae: 0.0064 - mape: 3.6127 - val_loss: 0.0065 - val_mae: 0.0065 - val_mape: 2.7183\n",
      "Epoch 36/60\n",
      "2651/2653 [============================>.] - ETA: 0s - loss: 0.0064 - mae: 0.0064 - mape: 18.5652\n",
      "Epoch 37: val_loss improved from 0.00593 to 0.00591, saving model to C:\\Users\\Administrator\\Downloads\\ML Lab\\checkpoint\\ML Lab\\lab10\\E1-cp-0037-loss0.01.h5\n",
      "2653/2653 [==============================] - 59s 22ms/step - loss: 0.0064 - mae: 0.0064 - mape: 18.5552 - val_loss: 0.0059 - val_mae: 0.0059 - val_mape: 2.4533\n",
      "Epoch 38/60\n",
      "2653/2653 [==============================] - ETA: 0s - loss: 0.0062 - mae: 0.0062 - mape: 122.5824\n",
      "Epoch 46: val_loss did not improve from 0.00591\n",
      "2653/2653 [==============================] - 59s 22ms/step - loss: 0.0062 - mae: 0.0062 - mape: 122.5824 - val_loss: 0.0062 - val_mae: 0.0062 - val_mape: 2.6334\n",
      "Epoch 47/60\n",
      "2653/2653 [==============================] - ETA: 0s - loss: 0.0062 - mae: 0.0062 - mape: 87.0960\n",
      "Epoch 47: val_loss did not improve from 0.00591\n",
      "2653/2653 [==============================] - 59s 22ms/step - loss: 0.0062 - mae: 0.0062 - mape: 87.0960 - val_loss: 0.0065 - val_mae: 0.0065 - val_mape: 2.7323\n",
      "Epoch 48/60\n",
      "2652/2653 [============================>.] - ETA: 0s - loss: 0.0062 - mae: 0.0062 - mape: 105.2221\n",
      "Epoch 50: val_loss did not improve from 0.00591\n",
      "2653/2653 [==============================] - 59s 22ms/step - loss: 0.0062 - mae: 0.0062 - mape: 105.2001 - val_loss: 0.0066 - val_mae: 0.0066 - val_mape: 2.8716\n",
      "Epoch 51/60\n",
      "2653/2653 [==============================] - ETA: 0s - loss: 0.0062 - mae: 0.0062 - mape: 32.1716\n",
      "Epoch 51: val_loss improved from 0.00591 to 0.00584, saving model to C:\\Users\\Administrator\\Downloads\\ML Lab\\checkpoint\\ML Lab\\lab10\\E1-cp-0051-loss0.01.h5\n",
      "2653/2653 [==============================] - 59s 22ms/step - loss: 0.0062 - mae: 0.0062 - mape: 32.1716 - val_loss: 0.0058 - val_mae: 0.0058 - val_mape: 2.4640\n",
      "Epoch 52/60\n",
      "2653/2653 [==============================] - ETA: 0s - loss: 0.0062 - mae: 0.0062 - mape: 60.3243\n",
      "Epoch 52: val_loss did not improve from 0.00584\n",
      "2653/2653 [==============================] - 59s 22ms/step - loss: 0.0062 - mae: 0.0062 - mape: 60.3243 - val_loss: 0.0060 - val_mae: 0.0060 - val_mape: 2.5019\n",
      "Epoch 53/60\n",
      "2653/2653 [==============================] - ETA: 0s - loss: 0.0062 - mae: 0.0062 - mape: 84.6682\n",
      "Epoch 53: val_loss did not improve from 0.00584\n",
      "2653/2653 [==============================] - 59s 22ms/step - loss: 0.0062 - mae: 0.0062 - mape: 84.6682 - val_loss: 0.0060 - val_mae: 0.0060 - val_mape: 2.4463\n",
      "Epoch 54/60\n",
      "2653/2653 [==============================] - ETA: 0s - loss: 0.0062 - mae: 0.0062 - mape: 48.5822\n",
      "Epoch 55: val_loss did not improve from 0.00584\n",
      "2653/2653 [==============================] - 59s 22ms/step - loss: 0.0062 - mae: 0.0062 - mape: 48.5822 - val_loss: 0.0063 - val_mae: 0.0063 - val_mape: 2.6638\n",
      "Epoch 56/60\n",
      "2652/2653 [============================>.] - ETA: 0s - loss: 0.0062 - mae: 0.0062 - mape: 102.1381\n",
      "Epoch 56: val_loss did not improve from 0.00584\n",
      "2653/2653 [==============================] - 64s 24ms/step - loss: 0.0061 - mae: 0.0061 - mape: 102.1168 - val_loss: 0.0061 - val_mae: 0.0061 - val_mape: 2.6720\n",
      "Epoch 57/60\n",
      "2652/2653 [============================>.] - ETA: 0s - loss: 0.0061 - mae: 0.0061 - mape: 101.0707\n",
      "Epoch 57: val_loss did not improve from 0.00584\n",
      "2653/2653 [==============================] - 61s 23ms/step - loss: 0.0061 - mae: 0.0061 - mape: 101.0498 - val_loss: 0.0062 - val_mae: 0.0062 - val_mape: 2.6744\n",
      "Epoch 58/60\n",
      "2651/2653 [============================>.] - ETA: 0s - loss: 0.0061 - mae: 0.0061 - mape: 187.1298\n",
      "Epoch 58: val_loss did not improve from 0.00584\n",
      "2653/2653 [==============================] - 61s 23ms/step - loss: 0.0061 - mae: 0.0061 - mape: 187.0208 - val_loss: 0.0064 - val_mae: 0.0064 - val_mape: 2.9321\n",
      "Epoch 59/60\n",
      "2651/2653 [============================>.] - ETA: 0s - loss: 0.0061 - mae: 0.0061 - mape: 117.9370\n",
      "Epoch 59: val_loss did not improve from 0.00584\n",
      "2653/2653 [==============================] - 60s 23ms/step - loss: 0.0061 - mae: 0.0061 - mape: 117.8688 - val_loss: 0.0066 - val_mae: 0.0066 - val_mape: 2.7707\n",
      "Epoch 60/60\n",
      "2651/2653 [============================>.] - ETA: 0s - loss: 0.0061 - mae: 0.0061 - mape: 184.8632\n",
      "Epoch 60: val_loss did not improve from 0.00584\n",
      "2653/2653 [==============================] - 60s 23ms/step - loss: 0.0061 - mae: 0.0061 - mape: 184.7552 - val_loss: 0.0063 - val_mae: 0.0063 - val_mape: 2.5700\n"
     ]
    }
   ],
   "source": [
    "epochs = 60\n",
    "verbose = 1 #0\n",
    "batch_size = 32\n",
    "History = model.fit(train_X,\n",
    "                        train_y,\n",
    "                        batch_size=batch_size,   \n",
    "                        epochs = epochs, \n",
    "                        validation_data = (validation_X,validation_y),\n",
    "                        callbacks=callbacks,verbose = verbose)"
   ]
  },
  {
   "cell_type": "code",
   "execution_count": 17,
   "metadata": {},
   "outputs": [
    {
     "name": "stdout",
     "output_type": "stream",
     "text": [
      "379/379 [==============================] - 3s 5ms/step\n",
      "Mean Absolute Error (MAE): 96.74\n",
      "Median Absolute Error (MedAE): 75.86\n",
      "Mean Squared Error (MSE): 16711.97\n",
      "Root Mean Squared Error (RMSE): 129.27\n",
      "Mean Absolute Percentage Error (MAPE): 0.66 %\n",
      "Median Absolute Percentage Error (MDAPE): 0.53 %\n",
      "\n",
      "\n",
      "y_test_unscaled.shape=  (12105, 1)\n",
      "y_pred.shape=  (12105, 1)\n"
     ]
    }
   ],
   "source": [
    "\n",
    "model = load_model(r'C:\\Users\\Administrator\\Downloads\\ML Lab\\checkpoint\\ML Lab\\lab10\\E1-cp-0033-loss0.01.h5')\n",
    "\n",
    "y_pred_scaled   = model.predict(test_X)\n",
    "y_pred          = scaler.inverse_transform(y_pred_scaled)\n",
    "y_test_unscaled = scaler.inverse_transform(test_y)\n",
    "# Mean Absolute Error (MAE)\n",
    "MAE = np.mean(abs(y_pred - y_test_unscaled)) \n",
    "print('Mean Absolute Error (MAE): ' + str(np.round(MAE, 2)))\n",
    "\n",
    "# Median Absolute Error (MedAE)\n",
    "MEDAE = np.median(abs(y_pred - y_test_unscaled))\n",
    "print('Median Absolute Error (MedAE): ' + str(np.round(MEDAE, 2)))\n",
    "\n",
    "# Mean Squared Error (MSE)\n",
    "MSE = np.square(np.subtract(y_pred, y_test_unscaled)).mean()\n",
    "print('Mean Squared Error (MSE): ' + str(np.round(MSE, 2)))\n",
    "\n",
    "# Root Mean Squarred Error (RMSE) \n",
    "RMSE = np.sqrt(np.mean(np.square(y_pred - y_test_unscaled)))\n",
    "print('Root Mean Squared Error (RMSE): ' + str(np.round(RMSE, 2)))\n",
    "\n",
    "# Mean Absolute Percentage Error (MAPE)\n",
    "MAPE = np.mean((np.abs(np.subtract(y_test_unscaled, y_pred)/ y_test_unscaled))) * 100\n",
    "print('Mean Absolute Percentage Error (MAPE): ' + str(np.round(MAPE, 2)) + ' %')\n",
    "\n",
    "# Median Absolute Percentage Error (MDAPE)\n",
    "MDAPE = np.median((np.abs(np.subtract(y_test_unscaled, y_pred)/ y_test_unscaled))) * 100\n",
    "print('Median Absolute Percentage Error (MDAPE): ' + str(np.round(MDAPE, 2)) + ' %')\n",
    "\n",
    "print('\\n\\ny_test_unscaled.shape= ',y_test_unscaled.shape)\n",
    "print('y_pred.shape= ',y_pred.shape)"
   ]
  },
  {
   "cell_type": "code",
   "execution_count": 18,
   "metadata": {},
   "outputs": [],
   "source": [
    "checkpoints = r'C:\\Users\\Administrator\\Downloads\\ML Lab\\checkpoint\\ML Lab\\lab10\\E2-cp-{epoch:04d}-loss{val_loss:.2f}.h5'\n",
    "model=r'C:\\Users\\Administrator\\Downloads\\ML Lab\\checkpoint\\ML Lab\\lab10\\E1-cp-0033-loss0.01.h5'\n",
    "start_epoch= 34"
   ]
  },
  {
   "cell_type": "code",
   "execution_count": 19,
   "metadata": {},
   "outputs": [
    {
     "name": "stdout",
     "output_type": "stream",
     "text": [
      "[INFO] loading C:\\Users\\Administrator\\Downloads\\ML Lab\\checkpoint\\ML Lab\\lab10\\E1-cp-0033-loss0.01.h5...\n",
      "[INFO] old learning rate: 0.0010000000474974513\n",
      "[INFO] new learning rate: 9.999999747378752e-05\n"
     ]
    }
   ],
   "source": [
    "# construct the callback to save only the *best* model to disk\n",
    "# based on the validation loss\n",
    "EpochCheckpoint1 = ModelCheckpoint(checkpoints,\n",
    "                             monitor=\"val_loss\",\n",
    "                             save_best_only=True, \n",
    "                             verbose=1)\n",
    "TrainingMonitor1=TrainingMonitor(FIG_PATH, jsonPath=JSON_PATH, startAt=start_epoch)\n",
    "\n",
    "# construct the set of callbacks\n",
    "callbacks = [EpochCheckpoint1,TrainingMonitor1]\n",
    "# if there is no specific model checkpoint supplied, then initialize\n",
    "# the network and compile the model\n",
    "if model is None:\n",
    "    print(\"[INFO] compiling model...\")\n",
    "    model = PC.build(time_steps=24, num_features=21, reg=0.0005)\n",
    "    opt = Adam(1e-3)\n",
    "    model.compile(loss= 'mae', optimizer=opt, metrics=[\"mae\", \"mape\"])\n",
    "# otherwise, load the checkpoint from disk\n",
    "else:\n",
    "    print(\"[INFO] loading {}...\".format(model))\n",
    "    model = load_model(model)\n",
    "\n",
    "    # update the learning rate\n",
    "    print(\"[INFO] old learning rate: {}\".format(K.get_value(model.optimizer.lr)))\n",
    "    K.set_value(model.optimizer.lr, 1e-4)\n",
    "    print(\"[INFO] new learning rate: {}\".format(K.get_value(model.optimizer.lr)))"
   ]
  },
  {
   "cell_type": "code",
   "execution_count": 20,
   "metadata": {},
   "outputs": [
    {
     "name": "stdout",
     "output_type": "stream",
     "text": [
      "Epoch 1/10\n",
      "2653/2653 [==============================] - ETA: 0s - loss: 0.0058 - mae: 0.0058 - mape: 14.8268\n",
      "Epoch 1: val_loss improved from inf to 0.00590, saving model to C:\\Users\\Administrator\\Downloads\\ML Lab\\checkpoint\\ML Lab\\lab10\\E2-cp-0001-loss0.01.h5\n",
      "2653/2653 [==============================] - 58s 21ms/step - loss: 0.0058 - mae: 0.0058 - mape: 14.8268 - val_loss: 0.0059 - val_mae: 0.0059 - val_mape: 2.4532\n",
      "Epoch 2/10\n",
      "2653/2653 [==============================] - ETA: 0s - loss: 0.0058 - mae: 0.0058 - mape: 30.0224\n",
      "Epoch 2: val_loss did not improve from 0.00590\n",
      "2653/2653 [==============================] - 60s 23ms/step - loss: 0.0058 - mae: 0.0058 - mape: 30.0224 - val_loss: 0.0060 - val_mae: 0.0060 - val_mape: 2.4553\n",
      "Epoch 3/10\n",
      "2652/2653 [============================>.] - ETA: 0s - loss: 0.0058 - mae: 0.0058 - mape: 14.1057\n",
      "Epoch 3: val_loss did not improve from 0.00590\n",
      "2653/2653 [==============================] - 58s 22ms/step - loss: 0.0058 - mae: 0.0058 - mape: 14.1030 - val_loss: 0.0060 - val_mae: 0.0060 - val_mape: 2.5044\n",
      "Epoch 4/10\n",
      "2653/2653 [==============================] - ETA: 0s - loss: 0.0057 - mae: 0.0057 - mape: 8.3475\n",
      "Epoch 4: val_loss did not improve from 0.00590\n",
      "2653/2653 [==============================] - 57s 22ms/step - loss: 0.0057 - mae: 0.0057 - mape: 8.3475 - val_loss: 0.0060 - val_mae: 0.0060 - val_mape: 2.4573\n",
      "Epoch 5/10\n",
      "2653/2653 [==============================] - ETA: 0s - loss: 0.0057 - mae: 0.0057 - mape: 8.5071\n",
      "Epoch 5: val_loss did not improve from 0.00590\n",
      "2653/2653 [==============================] - 57s 21ms/step - loss: 0.0057 - mae: 0.0057 - mape: 8.5071 - val_loss: 0.0060 - val_mae: 0.0060 - val_mape: 2.4812\n",
      "Epoch 6/10\n",
      "2653/2653 [==============================] - ETA: 0s - loss: 0.0057 - mae: 0.0057 - mape: 36.9960\n",
      "Epoch 6: val_loss did not improve from 0.00590\n",
      "2653/2653 [==============================] - 58s 22ms/step - loss: 0.0057 - mae: 0.0057 - mape: 36.9960 - val_loss: 0.0060 - val_mae: 0.0060 - val_mape: 2.4587\n",
      "Epoch 7/10\n",
      "2653/2653 [==============================] - ETA: 0s - loss: 0.0057 - mae: 0.0057 - mape: 17.4405\n",
      "Epoch 7: val_loss did not improve from 0.00590\n",
      "2653/2653 [==============================] - 59s 22ms/step - loss: 0.0057 - mae: 0.0057 - mape: 17.4405 - val_loss: 0.0061 - val_mae: 0.0061 - val_mape: 2.5434\n",
      "Epoch 8/10\n",
      "2651/2653 [============================>.] - ETA: 0s - loss: 0.0057 - mae: 0.0057 - mape: 28.4302\n",
      "Epoch 8: val_loss did not improve from 0.00590\n",
      "2653/2653 [==============================] - 60s 22ms/step - loss: 0.0057 - mae: 0.0057 - mape: 28.4143 - val_loss: 0.0060 - val_mae: 0.0060 - val_mape: 2.4735\n",
      "Epoch 9/10\n",
      "2651/2653 [============================>.] - ETA: 0s - loss: 0.0057 - mae: 0.0057 - mape: 7.0884\n",
      "Epoch 9: val_loss improved from 0.00590 to 0.00590, saving model to C:\\Users\\Administrator\\Downloads\\ML Lab\\checkpoint\\ML Lab\\lab10\\E2-cp-0009-loss0.01.h5\n",
      "2653/2653 [==============================] - 60s 23ms/step - loss: 0.0057 - mae: 0.0057 - mape: 7.0859 - val_loss: 0.0059 - val_mae: 0.0059 - val_mape: 2.4322\n",
      "Epoch 10/10\n",
      "2653/2653 [==============================] - ETA: 0s - loss: 0.0057 - mae: 0.0057 - mape: 8.8564\n",
      "Epoch 10: val_loss did not improve from 0.00590\n",
      "2653/2653 [==============================] - 59s 22ms/step - loss: 0.0057 - mae: 0.0057 - mape: 8.8564 - val_loss: 0.0059 - val_mae: 0.0059 - val_mape: 2.4287\n"
     ]
    }
   ],
   "source": [
    "epochs = 10\n",
    "verbose = 1 #0\n",
    "batch_size = 32\n",
    "History = model.fit(train_X,\n",
    "                        train_y,\n",
    "                        batch_size=batch_size,   \n",
    "                        epochs = epochs, \n",
    "                        validation_data = (validation_X,validation_y),\n",
    "                        callbacks=callbacks,\n",
    "                        verbose = verbose)"
   ]
  },
  {
   "cell_type": "code",
   "execution_count": 19,
   "metadata": {},
   "outputs": [
    {
     "name": "stdout",
     "output_type": "stream",
     "text": [
      "379/379 [==============================] - 1s 2ms/step\n",
      "Mean Absolute Error (MAE): 103.3\n",
      "Median Absolute Error (MedAE): 82.18\n",
      "Mean Squared Error (MSE): 18772.44\n",
      "Root Mean Squared Error (RMSE): 137.01\n",
      "Mean Absolute Percentage Error (MAPE): 0.71 %\n",
      "Median Absolute Percentage Error (MDAPE): 0.57 %\n",
      "\n",
      "\n",
      "y_test_unscaled.shape=  (12105, 1)\n",
      "y_pred.shape=  (12105, 1)\n"
     ]
    }
   ],
   "source": [
    "\n",
    "model = load_model(r'C:\\Users\\Administrator\\Downloads\\ML Lab\\checkpoint\\ML Lab\\lab8\\E2-cp-0008-loss0.01.h5')\n",
    "\n",
    "y_pred_scaled   = model.predict(test_X)\n",
    "y_pred          = scaler.inverse_transform(y_pred_scaled)\n",
    "y_test_unscaled = scaler.inverse_transform(test_y)\n",
    "# Mean Absolute Error (MAE)\n",
    "MAE = np.mean(abs(y_pred - y_test_unscaled)) \n",
    "print('Mean Absolute Error (MAE): ' + str(np.round(MAE, 2)))\n",
    "\n",
    "# Median Absolute Error (MedAE)\n",
    "MEDAE = np.median(abs(y_pred - y_test_unscaled))\n",
    "print('Median Absolute Error (MedAE): ' + str(np.round(MEDAE, 2)))\n",
    "\n",
    "# Mean Squared Error (MSE)\n",
    "MSE = np.square(np.subtract(y_pred, y_test_unscaled)).mean()\n",
    "print('Mean Squared Error (MSE): ' + str(np.round(MSE, 2)))\n",
    "\n",
    "# Root Mean Squarred Error (RMSE) \n",
    "RMSE = np.sqrt(np.mean(np.square(y_pred - y_test_unscaled)))\n",
    "print('Root Mean Squared Error (RMSE): ' + str(np.round(RMSE, 2)))\n",
    "\n",
    "# Mean Absolute Percentage Error (MAPE)\n",
    "MAPE = np.mean((np.abs(np.subtract(y_test_unscaled, y_pred)/ y_test_unscaled))) * 100\n",
    "print('Mean Absolute Percentage Error (MAPE): ' + str(np.round(MAPE, 2)) + ' %')\n",
    "\n",
    "# Median Absolute Percentage Error (MDAPE)\n",
    "MDAPE = np.median((np.abs(np.subtract(y_test_unscaled, y_pred)/ y_test_unscaled))) * 100\n",
    "print('Median Absolute Percentage Error (MDAPE): ' + str(np.round(MDAPE, 2)) + ' %')\n",
    "\n",
    "print('\\n\\ny_test_unscaled.shape= ',y_test_unscaled.shape)\n",
    "print('y_pred.shape= ',y_pred.shape)"
   ]
  },
  {
   "cell_type": "code",
   "execution_count": null,
   "metadata": {},
   "outputs": [],
   "source": []
  }
 ],
 "metadata": {
  "kernelspec": {
   "display_name": "Python 3 (ipykernel)",
   "language": "python",
   "name": "python3"
  },
  "language_info": {
   "codemirror_mode": {
    "name": "ipython",
    "version": 3
   },
   "file_extension": ".py",
   "mimetype": "text/x-python",
   "name": "python",
   "nbconvert_exporter": "python",
   "pygments_lexer": "ipython3",
   "version": "3.9.18"
  }
 },
 "nbformat": 4,
 "nbformat_minor": 4
}
