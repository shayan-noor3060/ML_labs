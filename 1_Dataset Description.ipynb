{
 "cells": [
  {
   "cell_type": "code",
   "execution_count": 1,
   "metadata": {},
   "outputs": [],
   "source": [
    "import pandas as pd\n",
    "import numpy as np\n",
    "import matplotlib.pyplot as plt\n",
    "import seaborn as sns\n",
    "%matplotlib inline"
   ]
  },
  {
   "cell_type": "code",
   "execution_count": 2,
   "metadata": {},
   "outputs": [],
   "source": [
    "df = pd.read_csv('C:\\\\Users\\\\arif\\\\OneDrive\\\\Journal Paper\\\\Code\\\\Irshad\\\\Dataset\\\\2_Dataset_cyclic_holi.csv', parse_dates=['Date'], index_col='Date')"
   ]
  },
  {
   "cell_type": "markdown",
   "metadata": {},
   "source": [
    "# Days Counts (manually) in 5 years 4 monts of datasets"
   ]
  },
  {
   "cell_type": "code",
   "execution_count": 3,
   "metadata": {},
   "outputs": [
    {
     "name": "stdout",
     "output_type": "stream",
     "text": [
      "non leaf year : 365\n",
      "leaf year     : 366\n",
      "first 4 months: 121\n",
      "total         : 1947\n"
     ]
    }
   ],
   "source": [
    "print('non leaf year :', 31*7 + 30*4 + 28*1)\n",
    "print('leaf year     :', 31*7 + 30*4 + 29*1)\n",
    "print('first 4 months:', 31*2 + 30*1 + 29*1)\n",
    "print('total         :', 4*(31*7+30*4+28*1)  +  (31*7+30*4+29*1)  +  (31*2+30*1+29*1))"
   ]
  },
  {
   "cell_type": "markdown",
   "metadata": {},
   "source": [
    "# Days Counts (in dataset after loading) in 5 years 4 monts of datasets "
   ]
  },
  {
   "cell_type": "code",
   "execution_count": 5,
   "metadata": {},
   "outputs": [
    {
     "data": {
      "text/html": [
       "<div>\n",
       "<style scoped>\n",
       "    .dataframe tbody tr th:only-of-type {\n",
       "        vertical-align: middle;\n",
       "    }\n",
       "\n",
       "    .dataframe tbody tr th {\n",
       "        vertical-align: top;\n",
       "    }\n",
       "\n",
       "    .dataframe thead th {\n",
       "        text-align: right;\n",
       "    }\n",
       "</style>\n",
       "<table border=\"1\" class=\"dataframe\">\n",
       "  <thead>\n",
       "    <tr style=\"text-align: right;\">\n",
       "      <th></th>\n",
       "      <th>HOUR</th>\n",
       "    </tr>\n",
       "    <tr>\n",
       "      <th>Date</th>\n",
       "      <th></th>\n",
       "    </tr>\n",
       "  </thead>\n",
       "  <tbody>\n",
       "    <tr>\n",
       "      <th>2015-01-01</th>\n",
       "      <td>300</td>\n",
       "    </tr>\n",
       "    <tr>\n",
       "      <th>2015-01-02</th>\n",
       "      <td>300</td>\n",
       "    </tr>\n",
       "    <tr>\n",
       "      <th>2015-01-03</th>\n",
       "      <td>300</td>\n",
       "    </tr>\n",
       "    <tr>\n",
       "      <th>2015-01-04</th>\n",
       "      <td>300</td>\n",
       "    </tr>\n",
       "    <tr>\n",
       "      <th>2015-01-05</th>\n",
       "      <td>300</td>\n",
       "    </tr>\n",
       "    <tr>\n",
       "      <th>...</th>\n",
       "      <td>...</td>\n",
       "    </tr>\n",
       "    <tr>\n",
       "      <th>2020-11-04</th>\n",
       "      <td>300</td>\n",
       "    </tr>\n",
       "    <tr>\n",
       "      <th>2020-12-01</th>\n",
       "      <td>301</td>\n",
       "    </tr>\n",
       "    <tr>\n",
       "      <th>2020-12-02</th>\n",
       "      <td>300</td>\n",
       "    </tr>\n",
       "    <tr>\n",
       "      <th>2020-12-03</th>\n",
       "      <td>300</td>\n",
       "    </tr>\n",
       "    <tr>\n",
       "      <th>2020-12-04</th>\n",
       "      <td>300</td>\n",
       "    </tr>\n",
       "  </tbody>\n",
       "</table>\n",
       "<p>1946 rows × 1 columns</p>\n",
       "</div>"
      ],
      "text/plain": [
       "            HOUR\n",
       "Date            \n",
       "2015-01-01   300\n",
       "2015-01-02   300\n",
       "2015-01-03   300\n",
       "2015-01-04   300\n",
       "2015-01-05   300\n",
       "...          ...\n",
       "2020-11-04   300\n",
       "2020-12-01   301\n",
       "2020-12-02   300\n",
       "2020-12-03   300\n",
       "2020-12-04   300\n",
       "\n",
       "[1946 rows x 1 columns]"
      ]
     },
     "execution_count": 5,
     "metadata": {},
     "output_type": "execute_result"
    }
   ],
   "source": [
    "df.groupby('Date').sum()"
   ]
  },
  {
   "cell_type": "markdown",
   "metadata": {},
   "source": [
    "# Load points"
   ]
  },
  {
   "cell_type": "code",
   "execution_count": 4,
   "metadata": {},
   "outputs": [
    {
     "name": "stdout",
     "output_type": "stream",
     "text": [
      "non leaf year : 8760\n",
      "leaf year     : 8784\n",
      "first 4 months: 2904\n",
      "total         : 46728\n",
      "difference    : 120\n"
     ]
    }
   ],
   "source": [
    "print('non leaf year :', 24*31*7 + 24*30*4 + 24*28*1)\n",
    "print('leaf year     :', 24*31*7 + 24*30*4 + 24*29*1)\n",
    "print('first 4 months:', 24*31*2 + 24*30*1 + 24*29*1)\n",
    "print('total         :', 4*(24*31*7+24*30*4+24*28*1)  +  (24*31*7+24*30*4+24*29*1)  +  (24*31*2+24*30*1+24*29*1))\n",
    "print('difference    :', 46728-46608)"
   ]
  },
  {
   "cell_type": "code",
   "execution_count": 2,
   "metadata": {},
   "outputs": [
    {
     "data": {
      "text/plain": [
       "171"
      ]
     },
     "execution_count": 2,
     "metadata": {},
     "output_type": "execute_result"
    }
   ],
   "source": [
    "46728-46557"
   ]
  },
  {
   "cell_type": "code",
   "execution_count": 5,
   "metadata": {},
   "outputs": [
    {
     "name": "stdout",
     "output_type": "stream",
     "text": [
      "2015 :  8736\n",
      "2016 :  8736\n",
      "2017 :  8736\n",
      "2018 :  8736\n",
      "2019 :  8760\n",
      "2020 :  2904\n",
      "Total:  46608\n"
     ]
    }
   ],
   "source": [
    "sum = 0 \n",
    "for i in [2015, 2016, 2017, 2018, 2019, 2020]:\n",
    "    print(i, ': ', len(df[df['Year'] == i]))\n",
    "    sum += len(df[df['Year'] == i])\n",
    "print('Total: ', sum)"
   ]
  },
  {
   "cell_type": "code",
   "execution_count": 6,
   "metadata": {},
   "outputs": [
    {
     "name": "stdout",
     "output_type": "stream",
     "text": [
      "missing valves in 2015:  24\n",
      "missing valves in 2016:  48\n",
      "missing valves in 2017:  24\n",
      "missing valves in 2018:  24\n"
     ]
    }
   ],
   "source": [
    "print('missing valves in 2015: ', 8760-8736)\n",
    "print('missing valves in 2016: ', 8784-8736)\n",
    "print('missing valves in 2017: ', 8760-8736)\n",
    "print('missing valves in 2018: ', 8760-8736)"
   ]
  },
  {
   "cell_type": "code",
   "execution_count": null,
   "metadata": {},
   "outputs": [],
   "source": []
  }
 ],
 "metadata": {
  "kernelspec": {
   "display_name": "Python 3 (ipykernel)",
   "language": "python",
   "name": "python3"
  },
  "language_info": {
   "codemirror_mode": {
    "name": "ipython",
    "version": 3
   },
   "file_extension": ".py",
   "mimetype": "text/x-python",
   "name": "python",
   "nbconvert_exporter": "python",
   "pygments_lexer": "ipython3",
   "version": "3.9.18"
  }
 },
 "nbformat": 4,
 "nbformat_minor": 4
}
