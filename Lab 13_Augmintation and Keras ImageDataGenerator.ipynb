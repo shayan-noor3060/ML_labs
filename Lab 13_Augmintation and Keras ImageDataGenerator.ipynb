{
 "cells": [
  {
   "cell_type": "code",
   "execution_count": 8,
   "id": "e8e93ab7-474b-4d09-a947-e4151e0509de",
   "metadata": {},
   "outputs": [],
   "source": [
    "from tensorflow.keras import layers\n",
    "from tensorflow.keras import models\n",
    "from tensorflow.keras import optimizers\n",
    "from tensorflow.keras.preprocessing.image import ImageDataGenerator\n",
    "from tensorflow.keras.callbacks import ModelCheckpoint\n",
    "import matplotlib.pyplot as plt\n",
    "import numpy as np\n",
    "from tensorflow.keras.models import load_model\n",
    "from sklearn.metrics import confusion_matrix, ConfusionMatrixDisplay, classification_report\n",
    "import seaborn as sns"
   ]
  },
  {
   "cell_type": "code",
   "execution_count": 24,
   "id": "5e3a41db-612f-47e8-b3ed-a0bdea9f5f9b",
   "metadata": {},
   "outputs": [],
   "source": [
    "checkpoints = '/Users/shayannoor/Desktop/ml_code/ML Lab Spring 25/Computer vision\\lab_task.keras'"
   ]
  },
  {
   "cell_type": "code",
   "execution_count": 10,
   "id": "2d1135f8-3051-452b-9b86-60a617f21203",
   "metadata": {},
   "outputs": [],
   "source": [
    "train_dir = r'/Users/shayannoor/Desktop/ml_code/ML Lab Spring 25/Computer vision\\lab_task/train'\n",
    "validation_dir = r'/Users/shayannoor/Desktop/ml_code/ML Lab Spring 25/Computer vision\\lab_task/validation'\n",
    "test_dir = r'/Users/shayannoor/Desktop/ml_code/ML Lab Spring 25/Computer vision\\lab_task/test'"
   ]
  },
  {
   "cell_type": "code",
   "execution_count": 11,
   "id": "1475f109-0ecc-45b8-b65b-32d0001c0aa5",
   "metadata": {},
   "outputs": [],
   "source": [
    "model = models.Sequential()\n",
    "model.add(layers.Conv2D(32, (3, 3), activation='relu',\n",
    "input_shape=(256, 256, 3)))\n",
    "model.add(layers.MaxPooling2D((2, 2)))\n",
    "model.add(layers.Conv2D(64, (3, 3), activation='relu'))\n",
    "model.add(layers.MaxPooling2D((2, 2)))\n",
    "model.add(layers.Conv2D(128, (3, 3), activation='relu'))\n",
    "model.add(layers.MaxPooling2D((2, 2)))\n",
    "model.add(layers.Conv2D(128, (3, 3), activation='relu'))\n",
    "model.add(layers.MaxPooling2D((2, 2)))\n",
    "model.add(layers.Flatten())\n",
    "model.add(layers.Dropout(0.5))\n",
    "model.add(layers.Dense(512, activation='relu'))\n",
    "model.add(layers.Dense(4, activation='sigmoid'))"
   ]
  },
  {
   "cell_type": "code",
   "execution_count": 12,
   "id": "637a321e-d117-4af5-87cd-c8b02571e042",
   "metadata": {
    "scrolled": true
   },
   "outputs": [
    {
     "data": {
      "text/html": [
       "<pre style=\"white-space:pre;overflow-x:auto;line-height:normal;font-family:Menlo,'DejaVu Sans Mono',consolas,'Courier New',monospace\"><span style=\"font-weight: bold\">Model: \"sequential_1\"</span>\n",
       "</pre>\n"
      ],
      "text/plain": [
       "\u001b[1mModel: \"sequential_1\"\u001b[0m\n"
      ]
     },
     "metadata": {},
     "output_type": "display_data"
    },
    {
     "data": {
      "text/html": [
       "<pre style=\"white-space:pre;overflow-x:auto;line-height:normal;font-family:Menlo,'DejaVu Sans Mono',consolas,'Courier New',monospace\">┏━━━━━━━━━━━━━━━━━━━━━━━━━━━━━━━━━┳━━━━━━━━━━━━━━━━━━━━━━━━┳━━━━━━━━━━━━━━━┓\n",
       "┃<span style=\"font-weight: bold\"> Layer (type)                    </span>┃<span style=\"font-weight: bold\"> Output Shape           </span>┃<span style=\"font-weight: bold\">       Param # </span>┃\n",
       "┡━━━━━━━━━━━━━━━━━━━━━━━━━━━━━━━━━╇━━━━━━━━━━━━━━━━━━━━━━━━╇━━━━━━━━━━━━━━━┩\n",
       "│ conv2d_4 (<span style=\"color: #0087ff; text-decoration-color: #0087ff\">Conv2D</span>)               │ (<span style=\"color: #00d7ff; text-decoration-color: #00d7ff\">None</span>, <span style=\"color: #00af00; text-decoration-color: #00af00\">254</span>, <span style=\"color: #00af00; text-decoration-color: #00af00\">254</span>, <span style=\"color: #00af00; text-decoration-color: #00af00\">32</span>)   │           <span style=\"color: #00af00; text-decoration-color: #00af00\">896</span> │\n",
       "├─────────────────────────────────┼────────────────────────┼───────────────┤\n",
       "│ max_pooling2d_4 (<span style=\"color: #0087ff; text-decoration-color: #0087ff\">MaxPooling2D</span>)  │ (<span style=\"color: #00d7ff; text-decoration-color: #00d7ff\">None</span>, <span style=\"color: #00af00; text-decoration-color: #00af00\">127</span>, <span style=\"color: #00af00; text-decoration-color: #00af00\">127</span>, <span style=\"color: #00af00; text-decoration-color: #00af00\">32</span>)   │             <span style=\"color: #00af00; text-decoration-color: #00af00\">0</span> │\n",
       "├─────────────────────────────────┼────────────────────────┼───────────────┤\n",
       "│ conv2d_5 (<span style=\"color: #0087ff; text-decoration-color: #0087ff\">Conv2D</span>)               │ (<span style=\"color: #00d7ff; text-decoration-color: #00d7ff\">None</span>, <span style=\"color: #00af00; text-decoration-color: #00af00\">125</span>, <span style=\"color: #00af00; text-decoration-color: #00af00\">125</span>, <span style=\"color: #00af00; text-decoration-color: #00af00\">64</span>)   │        <span style=\"color: #00af00; text-decoration-color: #00af00\">18,496</span> │\n",
       "├─────────────────────────────────┼────────────────────────┼───────────────┤\n",
       "│ max_pooling2d_5 (<span style=\"color: #0087ff; text-decoration-color: #0087ff\">MaxPooling2D</span>)  │ (<span style=\"color: #00d7ff; text-decoration-color: #00d7ff\">None</span>, <span style=\"color: #00af00; text-decoration-color: #00af00\">62</span>, <span style=\"color: #00af00; text-decoration-color: #00af00\">62</span>, <span style=\"color: #00af00; text-decoration-color: #00af00\">64</span>)     │             <span style=\"color: #00af00; text-decoration-color: #00af00\">0</span> │\n",
       "├─────────────────────────────────┼────────────────────────┼───────────────┤\n",
       "│ conv2d_6 (<span style=\"color: #0087ff; text-decoration-color: #0087ff\">Conv2D</span>)               │ (<span style=\"color: #00d7ff; text-decoration-color: #00d7ff\">None</span>, <span style=\"color: #00af00; text-decoration-color: #00af00\">60</span>, <span style=\"color: #00af00; text-decoration-color: #00af00\">60</span>, <span style=\"color: #00af00; text-decoration-color: #00af00\">128</span>)    │        <span style=\"color: #00af00; text-decoration-color: #00af00\">73,856</span> │\n",
       "├─────────────────────────────────┼────────────────────────┼───────────────┤\n",
       "│ max_pooling2d_6 (<span style=\"color: #0087ff; text-decoration-color: #0087ff\">MaxPooling2D</span>)  │ (<span style=\"color: #00d7ff; text-decoration-color: #00d7ff\">None</span>, <span style=\"color: #00af00; text-decoration-color: #00af00\">30</span>, <span style=\"color: #00af00; text-decoration-color: #00af00\">30</span>, <span style=\"color: #00af00; text-decoration-color: #00af00\">128</span>)    │             <span style=\"color: #00af00; text-decoration-color: #00af00\">0</span> │\n",
       "├─────────────────────────────────┼────────────────────────┼───────────────┤\n",
       "│ conv2d_7 (<span style=\"color: #0087ff; text-decoration-color: #0087ff\">Conv2D</span>)               │ (<span style=\"color: #00d7ff; text-decoration-color: #00d7ff\">None</span>, <span style=\"color: #00af00; text-decoration-color: #00af00\">28</span>, <span style=\"color: #00af00; text-decoration-color: #00af00\">28</span>, <span style=\"color: #00af00; text-decoration-color: #00af00\">128</span>)    │       <span style=\"color: #00af00; text-decoration-color: #00af00\">147,584</span> │\n",
       "├─────────────────────────────────┼────────────────────────┼───────────────┤\n",
       "│ max_pooling2d_7 (<span style=\"color: #0087ff; text-decoration-color: #0087ff\">MaxPooling2D</span>)  │ (<span style=\"color: #00d7ff; text-decoration-color: #00d7ff\">None</span>, <span style=\"color: #00af00; text-decoration-color: #00af00\">14</span>, <span style=\"color: #00af00; text-decoration-color: #00af00\">14</span>, <span style=\"color: #00af00; text-decoration-color: #00af00\">128</span>)    │             <span style=\"color: #00af00; text-decoration-color: #00af00\">0</span> │\n",
       "├─────────────────────────────────┼────────────────────────┼───────────────┤\n",
       "│ flatten_1 (<span style=\"color: #0087ff; text-decoration-color: #0087ff\">Flatten</span>)             │ (<span style=\"color: #00d7ff; text-decoration-color: #00d7ff\">None</span>, <span style=\"color: #00af00; text-decoration-color: #00af00\">25088</span>)          │             <span style=\"color: #00af00; text-decoration-color: #00af00\">0</span> │\n",
       "├─────────────────────────────────┼────────────────────────┼───────────────┤\n",
       "│ dropout_1 (<span style=\"color: #0087ff; text-decoration-color: #0087ff\">Dropout</span>)             │ (<span style=\"color: #00d7ff; text-decoration-color: #00d7ff\">None</span>, <span style=\"color: #00af00; text-decoration-color: #00af00\">25088</span>)          │             <span style=\"color: #00af00; text-decoration-color: #00af00\">0</span> │\n",
       "├─────────────────────────────────┼────────────────────────┼───────────────┤\n",
       "│ dense_2 (<span style=\"color: #0087ff; text-decoration-color: #0087ff\">Dense</span>)                 │ (<span style=\"color: #00d7ff; text-decoration-color: #00d7ff\">None</span>, <span style=\"color: #00af00; text-decoration-color: #00af00\">512</span>)            │    <span style=\"color: #00af00; text-decoration-color: #00af00\">12,845,568</span> │\n",
       "├─────────────────────────────────┼────────────────────────┼───────────────┤\n",
       "│ dense_3 (<span style=\"color: #0087ff; text-decoration-color: #0087ff\">Dense</span>)                 │ (<span style=\"color: #00d7ff; text-decoration-color: #00d7ff\">None</span>, <span style=\"color: #00af00; text-decoration-color: #00af00\">4</span>)              │         <span style=\"color: #00af00; text-decoration-color: #00af00\">2,052</span> │\n",
       "└─────────────────────────────────┴────────────────────────┴───────────────┘\n",
       "</pre>\n"
      ],
      "text/plain": [
       "┏━━━━━━━━━━━━━━━━━━━━━━━━━━━━━━━━━┳━━━━━━━━━━━━━━━━━━━━━━━━┳━━━━━━━━━━━━━━━┓\n",
       "┃\u001b[1m \u001b[0m\u001b[1mLayer (type)                   \u001b[0m\u001b[1m \u001b[0m┃\u001b[1m \u001b[0m\u001b[1mOutput Shape          \u001b[0m\u001b[1m \u001b[0m┃\u001b[1m \u001b[0m\u001b[1m      Param #\u001b[0m\u001b[1m \u001b[0m┃\n",
       "┡━━━━━━━━━━━━━━━━━━━━━━━━━━━━━━━━━╇━━━━━━━━━━━━━━━━━━━━━━━━╇━━━━━━━━━━━━━━━┩\n",
       "│ conv2d_4 (\u001b[38;5;33mConv2D\u001b[0m)               │ (\u001b[38;5;45mNone\u001b[0m, \u001b[38;5;34m254\u001b[0m, \u001b[38;5;34m254\u001b[0m, \u001b[38;5;34m32\u001b[0m)   │           \u001b[38;5;34m896\u001b[0m │\n",
       "├─────────────────────────────────┼────────────────────────┼───────────────┤\n",
       "│ max_pooling2d_4 (\u001b[38;5;33mMaxPooling2D\u001b[0m)  │ (\u001b[38;5;45mNone\u001b[0m, \u001b[38;5;34m127\u001b[0m, \u001b[38;5;34m127\u001b[0m, \u001b[38;5;34m32\u001b[0m)   │             \u001b[38;5;34m0\u001b[0m │\n",
       "├─────────────────────────────────┼────────────────────────┼───────────────┤\n",
       "│ conv2d_5 (\u001b[38;5;33mConv2D\u001b[0m)               │ (\u001b[38;5;45mNone\u001b[0m, \u001b[38;5;34m125\u001b[0m, \u001b[38;5;34m125\u001b[0m, \u001b[38;5;34m64\u001b[0m)   │        \u001b[38;5;34m18,496\u001b[0m │\n",
       "├─────────────────────────────────┼────────────────────────┼───────────────┤\n",
       "│ max_pooling2d_5 (\u001b[38;5;33mMaxPooling2D\u001b[0m)  │ (\u001b[38;5;45mNone\u001b[0m, \u001b[38;5;34m62\u001b[0m, \u001b[38;5;34m62\u001b[0m, \u001b[38;5;34m64\u001b[0m)     │             \u001b[38;5;34m0\u001b[0m │\n",
       "├─────────────────────────────────┼────────────────────────┼───────────────┤\n",
       "│ conv2d_6 (\u001b[38;5;33mConv2D\u001b[0m)               │ (\u001b[38;5;45mNone\u001b[0m, \u001b[38;5;34m60\u001b[0m, \u001b[38;5;34m60\u001b[0m, \u001b[38;5;34m128\u001b[0m)    │        \u001b[38;5;34m73,856\u001b[0m │\n",
       "├─────────────────────────────────┼────────────────────────┼───────────────┤\n",
       "│ max_pooling2d_6 (\u001b[38;5;33mMaxPooling2D\u001b[0m)  │ (\u001b[38;5;45mNone\u001b[0m, \u001b[38;5;34m30\u001b[0m, \u001b[38;5;34m30\u001b[0m, \u001b[38;5;34m128\u001b[0m)    │             \u001b[38;5;34m0\u001b[0m │\n",
       "├─────────────────────────────────┼────────────────────────┼───────────────┤\n",
       "│ conv2d_7 (\u001b[38;5;33mConv2D\u001b[0m)               │ (\u001b[38;5;45mNone\u001b[0m, \u001b[38;5;34m28\u001b[0m, \u001b[38;5;34m28\u001b[0m, \u001b[38;5;34m128\u001b[0m)    │       \u001b[38;5;34m147,584\u001b[0m │\n",
       "├─────────────────────────────────┼────────────────────────┼───────────────┤\n",
       "│ max_pooling2d_7 (\u001b[38;5;33mMaxPooling2D\u001b[0m)  │ (\u001b[38;5;45mNone\u001b[0m, \u001b[38;5;34m14\u001b[0m, \u001b[38;5;34m14\u001b[0m, \u001b[38;5;34m128\u001b[0m)    │             \u001b[38;5;34m0\u001b[0m │\n",
       "├─────────────────────────────────┼────────────────────────┼───────────────┤\n",
       "│ flatten_1 (\u001b[38;5;33mFlatten\u001b[0m)             │ (\u001b[38;5;45mNone\u001b[0m, \u001b[38;5;34m25088\u001b[0m)          │             \u001b[38;5;34m0\u001b[0m │\n",
       "├─────────────────────────────────┼────────────────────────┼───────────────┤\n",
       "│ dropout_1 (\u001b[38;5;33mDropout\u001b[0m)             │ (\u001b[38;5;45mNone\u001b[0m, \u001b[38;5;34m25088\u001b[0m)          │             \u001b[38;5;34m0\u001b[0m │\n",
       "├─────────────────────────────────┼────────────────────────┼───────────────┤\n",
       "│ dense_2 (\u001b[38;5;33mDense\u001b[0m)                 │ (\u001b[38;5;45mNone\u001b[0m, \u001b[38;5;34m512\u001b[0m)            │    \u001b[38;5;34m12,845,568\u001b[0m │\n",
       "├─────────────────────────────────┼────────────────────────┼───────────────┤\n",
       "│ dense_3 (\u001b[38;5;33mDense\u001b[0m)                 │ (\u001b[38;5;45mNone\u001b[0m, \u001b[38;5;34m4\u001b[0m)              │         \u001b[38;5;34m2,052\u001b[0m │\n",
       "└─────────────────────────────────┴────────────────────────┴───────────────┘\n"
      ]
     },
     "metadata": {},
     "output_type": "display_data"
    },
    {
     "data": {
      "text/html": [
       "<pre style=\"white-space:pre;overflow-x:auto;line-height:normal;font-family:Menlo,'DejaVu Sans Mono',consolas,'Courier New',monospace\"><span style=\"font-weight: bold\"> Total params: </span><span style=\"color: #00af00; text-decoration-color: #00af00\">13,088,452</span> (49.93 MB)\n",
       "</pre>\n"
      ],
      "text/plain": [
       "\u001b[1m Total params: \u001b[0m\u001b[38;5;34m13,088,452\u001b[0m (49.93 MB)\n"
      ]
     },
     "metadata": {},
     "output_type": "display_data"
    },
    {
     "data": {
      "text/html": [
       "<pre style=\"white-space:pre;overflow-x:auto;line-height:normal;font-family:Menlo,'DejaVu Sans Mono',consolas,'Courier New',monospace\"><span style=\"font-weight: bold\"> Trainable params: </span><span style=\"color: #00af00; text-decoration-color: #00af00\">13,088,452</span> (49.93 MB)\n",
       "</pre>\n"
      ],
      "text/plain": [
       "\u001b[1m Trainable params: \u001b[0m\u001b[38;5;34m13,088,452\u001b[0m (49.93 MB)\n"
      ]
     },
     "metadata": {},
     "output_type": "display_data"
    },
    {
     "data": {
      "text/html": [
       "<pre style=\"white-space:pre;overflow-x:auto;line-height:normal;font-family:Menlo,'DejaVu Sans Mono',consolas,'Courier New',monospace\"><span style=\"font-weight: bold\"> Non-trainable params: </span><span style=\"color: #00af00; text-decoration-color: #00af00\">0</span> (0.00 B)\n",
       "</pre>\n"
      ],
      "text/plain": [
       "\u001b[1m Non-trainable params: \u001b[0m\u001b[38;5;34m0\u001b[0m (0.00 B)\n"
      ]
     },
     "metadata": {},
     "output_type": "display_data"
    }
   ],
   "source": [
    "model.summary()"
   ]
  },
  {
   "cell_type": "code",
   "execution_count": 22,
   "id": "7410b299-32c4-4691-91e9-658273d059b0",
   "metadata": {},
   "outputs": [],
   "source": [
    "model.compile(loss='categorical_crossentropy', optimizer=optimizers.RMSprop(learning_rate=1e-4), metrics=['acc'])\n",
    "\n"
   ]
  },
  {
   "cell_type": "code",
   "execution_count": 14,
   "id": "c4870907-311d-45f8-b70e-6717b1d0e232",
   "metadata": {},
   "outputs": [
    {
     "name": "stdout",
     "output_type": "stream",
     "text": [
      "Found 1040 images belonging to 4 classes.\n",
      "Found 186 images belonging to 4 classes.\n"
     ]
    }
   ],
   "source": [
    "train_datagen = ImageDataGenerator(\n",
    "                                    rescale=1./255,\n",
    "                                    rotation_range=40,\n",
    "                                    width_shift_range=0.2,\n",
    "                                    height_shift_range=0.2,\n",
    "                                    shear_range=0.2,\n",
    "                                    zoom_range=0.2,\n",
    "                                    horizontal_flip=True)\n",
    "\n",
    "test_datagen = ImageDataGenerator(rescale=1./255)\n",
    "\n",
    "train_generator = train_datagen.flow_from_directory(\n",
    "                                                    train_dir,\n",
    "                                                    target_size=(256, 256),\n",
    "                                                    batch_size=32,\n",
    "                                                    class_mode='categorical')\n",
    "\n",
    "validation_generator = test_datagen.flow_from_directory(\n",
    "                                                        validation_dir,\n",
    "                                                        target_size=(256, 256),\n",
    "                                                        batch_size=32,\n",
    "                                                        class_mode='categorical')"
   ]
  },
  {
   "cell_type": "code",
   "execution_count": 25,
   "id": "2f6c8a4e-4935-4af3-8f7f-73bfe65a750b",
   "metadata": {},
   "outputs": [],
   "source": [
    "EpochCheckpoint = ModelCheckpoint(checkpoints,\n",
    "                             monitor=\"val_loss\",\n",
    "                             save_best_only=True, \n",
    "                             verbose=1)\n",
    "callbacks = [EpochCheckpoint]"
   ]
  },
  {
   "cell_type": "code",
   "execution_count": 26,
   "id": "9948fcda-c7b5-4f87-b1b1-f5dbcbe82cef",
   "metadata": {},
   "outputs": [
    {
     "name": "stdout",
     "output_type": "stream",
     "text": [
      "Epoch 1/40\n"
     ]
    },
    {
     "name": "stderr",
     "output_type": "stream",
     "text": [
      "/Users/shayannoor/anaconda3/lib/python3.11/site-packages/keras/src/trainers/data_adapters/py_dataset_adapter.py:121: UserWarning: Your `PyDataset` class should call `super().__init__(**kwargs)` in its constructor. `**kwargs` can include `workers`, `use_multiprocessing`, `max_queue_size`. Do not pass these arguments to `fit()`, as they will be ignored.\n",
      "  self._warn_if_super_not_called()\n"
     ]
    },
    {
     "name": "stdout",
     "output_type": "stream",
     "text": [
      "\u001b[1m32/32\u001b[0m \u001b[32m━━━━━━━━━━━━━━━━━━━━\u001b[0m\u001b[37m\u001b[0m \u001b[1m0s\u001b[0m 694ms/step - acc: 0.4567 - loss: 1.1916 \n",
      "Epoch 1: val_loss improved from inf to 0.89176, saving model to /Users/shayannoor/Desktop/ml_code/ML Lab Spring 25/Computer vision\\lab_task.keras\n",
      "\u001b[1m32/32\u001b[0m \u001b[32m━━━━━━━━━━━━━━━━━━━━\u001b[0m\u001b[37m\u001b[0m \u001b[1m24s\u001b[0m 734ms/step - acc: 0.4599 - loss: 1.1882 - val_acc: 0.6313 - val_loss: 0.8918\n",
      "Epoch 2/40\n",
      "\u001b[1m 1/32\u001b[0m \u001b[37m━━━━━━━━━━━━━━━━━━━━\u001b[0m \u001b[1m21s\u001b[0m 706ms/step - acc: 0.5625 - loss: 1.0180"
     ]
    },
    {
     "name": "stderr",
     "output_type": "stream",
     "text": [
      "/Users/shayannoor/anaconda3/lib/python3.11/site-packages/keras/src/trainers/epoch_iterator.py:107: UserWarning: Your input ran out of data; interrupting training. Make sure that your dataset or generator can generate at least `steps_per_epoch * epochs` batches. You may need to use the `.repeat()` function when building your dataset.\n",
      "  self._interrupted_warning()\n"
     ]
    },
    {
     "name": "stdout",
     "output_type": "stream",
     "text": [
      "\n",
      "Epoch 2: val_loss did not improve from 0.89176\n",
      "\u001b[1m32/32\u001b[0m \u001b[32m━━━━━━━━━━━━━━━━━━━━\u001b[0m\u001b[37m\u001b[0m \u001b[1m2s\u001b[0m 32ms/step - acc: 0.5625 - loss: 1.0180 - val_acc: 0.4750 - val_loss: 1.2099\n",
      "Epoch 3/40\n",
      "\u001b[1m32/32\u001b[0m \u001b[32m━━━━━━━━━━━━━━━━━━━━\u001b[0m\u001b[37m\u001b[0m \u001b[1m0s\u001b[0m 730ms/step - acc: 0.7374 - loss: 0.6822 \n",
      "Epoch 3: val_loss improved from 0.89176 to 0.56050, saving model to /Users/shayannoor/Desktop/ml_code/ML Lab Spring 25/Computer vision\\lab_task.keras\n",
      "\u001b[1m32/32\u001b[0m \u001b[32m━━━━━━━━━━━━━━━━━━━━\u001b[0m\u001b[37m\u001b[0m \u001b[1m25s\u001b[0m 769ms/step - acc: 0.7382 - loss: 0.6799 - val_acc: 0.7688 - val_loss: 0.5605\n",
      "Epoch 4/40\n",
      "\u001b[1m 1/32\u001b[0m \u001b[37m━━━━━━━━━━━━━━━━━━━━\u001b[0m \u001b[1m24s\u001b[0m 780ms/step - acc: 0.8125 - loss: 0.4169\n",
      "Epoch 4: val_loss improved from 0.56050 to 0.55348, saving model to /Users/shayannoor/Desktop/ml_code/ML Lab Spring 25/Computer vision\\lab_task.keras\n",
      "\u001b[1m32/32\u001b[0m \u001b[32m━━━━━━━━━━━━━━━━━━━━\u001b[0m\u001b[37m\u001b[0m \u001b[1m2s\u001b[0m 43ms/step - acc: 0.8125 - loss: 0.4169 - val_acc: 0.7750 - val_loss: 0.5535\n",
      "Epoch 5/40\n",
      "\u001b[1m32/32\u001b[0m \u001b[32m━━━━━━━━━━━━━━━━━━━━\u001b[0m\u001b[37m\u001b[0m \u001b[1m0s\u001b[0m 748ms/step - acc: 0.8171 - loss: 0.4378 \n",
      "Epoch 5: val_loss did not improve from 0.55348\n",
      "\u001b[1m32/32\u001b[0m \u001b[32m━━━━━━━━━━━━━━━━━━━━\u001b[0m\u001b[37m\u001b[0m \u001b[1m25s\u001b[0m 786ms/step - acc: 0.8175 - loss: 0.4373 - val_acc: 0.7250 - val_loss: 0.6815\n",
      "Epoch 6/40\n",
      "\u001b[1m 1/32\u001b[0m \u001b[37m━━━━━━━━━━━━━━━━━━━━\u001b[0m \u001b[1m24s\u001b[0m 806ms/step - acc: 0.7812 - loss: 0.4973\n",
      "Epoch 6: val_loss improved from 0.55348 to 0.51889, saving model to /Users/shayannoor/Desktop/ml_code/ML Lab Spring 25/Computer vision\\lab_task.keras\n",
      "\u001b[1m32/32\u001b[0m \u001b[32m━━━━━━━━━━━━━━━━━━━━\u001b[0m\u001b[37m\u001b[0m \u001b[1m2s\u001b[0m 40ms/step - acc: 0.7812 - loss: 0.4973 - val_acc: 0.7875 - val_loss: 0.5189\n",
      "Epoch 7/40\n",
      "\u001b[1m32/32\u001b[0m \u001b[32m━━━━━━━━━━━━━━━━━━━━\u001b[0m\u001b[37m\u001b[0m \u001b[1m0s\u001b[0m 883ms/step - acc: 0.8618 - loss: 0.3507 \n",
      "Epoch 7: val_loss improved from 0.51889 to 0.38974, saving model to /Users/shayannoor/Desktop/ml_code/ML Lab Spring 25/Computer vision\\lab_task.keras\n",
      "\u001b[1m32/32\u001b[0m \u001b[32m━━━━━━━━━━━━━━━━━━━━\u001b[0m\u001b[37m\u001b[0m \u001b[1m30s\u001b[0m 930ms/step - acc: 0.8617 - loss: 0.3512 - val_acc: 0.8375 - val_loss: 0.3897\n",
      "Epoch 8/40\n",
      "\u001b[1m 1/32\u001b[0m \u001b[37m━━━━━━━━━━━━━━━━━━━━\u001b[0m \u001b[1m29s\u001b[0m 962ms/step - acc: 0.8438 - loss: 0.3571\n",
      "Epoch 8: val_loss improved from 0.38974 to 0.38405, saving model to /Users/shayannoor/Desktop/ml_code/ML Lab Spring 25/Computer vision\\lab_task.keras\n",
      "\u001b[1m32/32\u001b[0m \u001b[32m━━━━━━━━━━━━━━━━━━━━\u001b[0m\u001b[37m\u001b[0m \u001b[1m2s\u001b[0m 44ms/step - acc: 0.8438 - loss: 0.3571 - val_acc: 0.8125 - val_loss: 0.3841\n",
      "Epoch 9/40\n",
      "\u001b[1m32/32\u001b[0m \u001b[32m━━━━━━━━━━━━━━━━━━━━\u001b[0m\u001b[37m\u001b[0m \u001b[1m0s\u001b[0m 846ms/step - acc: 0.8765 - loss: 0.2831 \n",
      "Epoch 9: val_loss improved from 0.38405 to 0.32792, saving model to /Users/shayannoor/Desktop/ml_code/ML Lab Spring 25/Computer vision\\lab_task.keras\n",
      "\u001b[1m32/32\u001b[0m \u001b[32m━━━━━━━━━━━━━━━━━━━━\u001b[0m\u001b[37m\u001b[0m \u001b[1m29s\u001b[0m 891ms/step - acc: 0.8766 - loss: 0.2829 - val_acc: 0.8250 - val_loss: 0.3279\n",
      "Epoch 10/40\n",
      "\u001b[1m 1/32\u001b[0m \u001b[37m━━━━━━━━━━━━━━━━━━━━\u001b[0m \u001b[1m30s\u001b[0m 986ms/step - acc: 0.9375 - loss: 0.2681\n",
      "Epoch 10: val_loss did not improve from 0.32792\n",
      "\u001b[1m32/32\u001b[0m \u001b[32m━━━━━━━━━━━━━━━━━━━━\u001b[0m\u001b[37m\u001b[0m \u001b[1m2s\u001b[0m 44ms/step - acc: 0.9375 - loss: 0.2681 - val_acc: 0.8000 - val_loss: 0.4277\n",
      "Epoch 11/40\n",
      "\u001b[1m32/32\u001b[0m \u001b[32m━━━━━━━━━━━━━━━━━━━━\u001b[0m\u001b[37m\u001b[0m \u001b[1m0s\u001b[0m 901ms/step - acc: 0.8991 - loss: 0.2491 \n",
      "Epoch 11: val_loss did not improve from 0.32792\n",
      "\u001b[1m32/32\u001b[0m \u001b[32m━━━━━━━━━━━━━━━━━━━━\u001b[0m\u001b[37m\u001b[0m \u001b[1m30s\u001b[0m 941ms/step - acc: 0.8989 - loss: 0.2497 - val_acc: 0.8125 - val_loss: 0.3735\n",
      "Epoch 12/40\n",
      "\u001b[1m 1/32\u001b[0m \u001b[37m━━━━━━━━━━━━━━━━━━━━\u001b[0m \u001b[1m26s\u001b[0m 847ms/step - acc: 0.9375 - loss: 0.2609\n",
      "Epoch 12: val_loss did not improve from 0.32792\n",
      "\u001b[1m32/32\u001b[0m \u001b[32m━━━━━━━━━━━━━━━━━━━━\u001b[0m\u001b[37m\u001b[0m \u001b[1m2s\u001b[0m 39ms/step - acc: 0.9375 - loss: 0.2609 - val_acc: 0.8188 - val_loss: 0.3561\n",
      "Epoch 13/40\n",
      "\u001b[1m32/32\u001b[0m \u001b[32m━━━━━━━━━━━━━━━━━━━━\u001b[0m\u001b[37m\u001b[0m \u001b[1m0s\u001b[0m 889ms/step - acc: 0.9143 - loss: 0.2240 \n",
      "Epoch 13: val_loss improved from 0.32792 to 0.31391, saving model to /Users/shayannoor/Desktop/ml_code/ML Lab Spring 25/Computer vision\\lab_task.keras\n",
      "\u001b[1m32/32\u001b[0m \u001b[32m━━━━━━━━━━━━━━━━━━━━\u001b[0m\u001b[37m\u001b[0m \u001b[1m30s\u001b[0m 933ms/step - acc: 0.9141 - loss: 0.2240 - val_acc: 0.8188 - val_loss: 0.3139\n",
      "Epoch 14/40\n",
      "\u001b[1m 1/32\u001b[0m \u001b[37m━━━━━━━━━━━━━━━━━━━━\u001b[0m \u001b[1m29s\u001b[0m 964ms/step - acc: 0.8750 - loss: 0.2005\n",
      "Epoch 14: val_loss improved from 0.31391 to 0.31110, saving model to /Users/shayannoor/Desktop/ml_code/ML Lab Spring 25/Computer vision\\lab_task.keras\n",
      "\u001b[1m32/32\u001b[0m \u001b[32m━━━━━━━━━━━━━━━━━━━━\u001b[0m\u001b[37m\u001b[0m \u001b[1m2s\u001b[0m 43ms/step - acc: 0.8750 - loss: 0.2005 - val_acc: 0.8625 - val_loss: 0.3111\n",
      "Epoch 15/40\n",
      "\u001b[1m32/32\u001b[0m \u001b[32m━━━━━━━━━━━━━━━━━━━━\u001b[0m\u001b[37m\u001b[0m \u001b[1m0s\u001b[0m 858ms/step - acc: 0.9248 - loss: 0.1977 \n",
      "Epoch 15: val_loss improved from 0.31110 to 0.29166, saving model to /Users/shayannoor/Desktop/ml_code/ML Lab Spring 25/Computer vision\\lab_task.keras\n",
      "\u001b[1m32/32\u001b[0m \u001b[32m━━━━━━━━━━━━━━━━━━━━\u001b[0m\u001b[37m\u001b[0m \u001b[1m28s\u001b[0m 902ms/step - acc: 0.9246 - loss: 0.1975 - val_acc: 0.8500 - val_loss: 0.2917\n",
      "Epoch 16/40\n",
      "\u001b[1m 1/32\u001b[0m \u001b[37m━━━━━━━━━━━━━━━━━━━━\u001b[0m \u001b[1m25s\u001b[0m 832ms/step - acc: 0.8750 - loss: 0.3382\n",
      "Epoch 16: val_loss did not improve from 0.29166\n",
      "\u001b[1m32/32\u001b[0m \u001b[32m━━━━━━━━━━━━━━━━━━━━\u001b[0m\u001b[37m\u001b[0m \u001b[1m2s\u001b[0m 40ms/step - acc: 0.8750 - loss: 0.3382 - val_acc: 0.8062 - val_loss: 0.3869\n",
      "Epoch 17/40\n",
      "\u001b[1m32/32\u001b[0m \u001b[32m━━━━━━━━━━━━━━━━━━━━\u001b[0m\u001b[37m\u001b[0m \u001b[1m0s\u001b[0m 842ms/step - acc: 0.9136 - loss: 0.1972 \n",
      "Epoch 17: val_loss did not improve from 0.29166\n",
      "\u001b[1m32/32\u001b[0m \u001b[32m━━━━━━━━━━━━━━━━━━━━\u001b[0m\u001b[37m\u001b[0m \u001b[1m28s\u001b[0m 882ms/step - acc: 0.9135 - loss: 0.1973 - val_acc: 0.8313 - val_loss: 0.3473\n",
      "Epoch 18/40\n",
      "\u001b[1m 1/32\u001b[0m \u001b[37m━━━━━━━━━━━━━━━━━━━━\u001b[0m \u001b[1m26s\u001b[0m 849ms/step - acc: 0.8438 - loss: 0.2729\n",
      "Epoch 18: val_loss improved from 0.29166 to 0.28488, saving model to /Users/shayannoor/Desktop/ml_code/ML Lab Spring 25/Computer vision\\lab_task.keras\n",
      "\u001b[1m32/32\u001b[0m \u001b[32m━━━━━━━━━━━━━━━━━━━━\u001b[0m\u001b[37m\u001b[0m \u001b[1m2s\u001b[0m 43ms/step - acc: 0.8438 - loss: 0.2729 - val_acc: 0.8625 - val_loss: 0.2849\n",
      "Epoch 19/40\n",
      "\u001b[1m32/32\u001b[0m \u001b[32m━━━━━━━━━━━━━━━━━━━━\u001b[0m\u001b[37m\u001b[0m \u001b[1m0s\u001b[0m 852ms/step - acc: 0.9439 - loss: 0.1551 \n",
      "Epoch 19: val_loss did not improve from 0.28488\n",
      "\u001b[1m32/32\u001b[0m \u001b[32m━━━━━━━━━━━━━━━━━━━━\u001b[0m\u001b[37m\u001b[0m \u001b[1m29s\u001b[0m 895ms/step - acc: 0.9437 - loss: 0.1551 - val_acc: 0.8562 - val_loss: 0.3227\n",
      "Epoch 20/40\n",
      "\u001b[1m 1/32\u001b[0m \u001b[37m━━━━━━━━━━━━━━━━━━━━\u001b[0m \u001b[1m29s\u001b[0m 952ms/step - acc: 0.9688 - loss: 0.0769\n",
      "Epoch 20: val_loss did not improve from 0.28488\n",
      "\u001b[1m32/32\u001b[0m \u001b[32m━━━━━━━━━━━━━━━━━━━━\u001b[0m\u001b[37m\u001b[0m \u001b[1m2s\u001b[0m 43ms/step - acc: 0.9688 - loss: 0.0769 - val_acc: 0.7875 - val_loss: 0.6078\n",
      "Epoch 21/40\n",
      "\u001b[1m32/32\u001b[0m \u001b[32m━━━━━━━━━━━━━━━━━━━━\u001b[0m\u001b[37m\u001b[0m \u001b[1m0s\u001b[0m 919ms/step - acc: 0.9331 - loss: 0.1933 \n",
      "Epoch 21: val_loss did not improve from 0.28488\n",
      "\u001b[1m32/32\u001b[0m \u001b[32m━━━━━━━━━━━━━━━━━━━━\u001b[0m\u001b[37m\u001b[0m \u001b[1m31s\u001b[0m 962ms/step - acc: 0.9331 - loss: 0.1926 - val_acc: 0.8625 - val_loss: 0.3849\n",
      "Epoch 22/40\n",
      "\u001b[1m 1/32\u001b[0m \u001b[37m━━━━━━━━━━━━━━━━━━━━\u001b[0m \u001b[1m27s\u001b[0m 891ms/step - acc: 0.9062 - loss: 0.1769\n",
      "Epoch 22: val_loss did not improve from 0.28488\n",
      "\u001b[1m32/32\u001b[0m \u001b[32m━━━━━━━━━━━━━━━━━━━━\u001b[0m\u001b[37m\u001b[0m \u001b[1m2s\u001b[0m 44ms/step - acc: 0.9062 - loss: 0.1769 - val_acc: 0.8375 - val_loss: 0.2963\n",
      "Epoch 23/40\n",
      "\u001b[1m32/32\u001b[0m \u001b[32m━━━━━━━━━━━━━━━━━━━━\u001b[0m\u001b[37m\u001b[0m \u001b[1m0s\u001b[0m 885ms/step - acc: 0.9011 - loss: 0.2293 \n",
      "Epoch 23: val_loss improved from 0.28488 to 0.26346, saving model to /Users/shayannoor/Desktop/ml_code/ML Lab Spring 25/Computer vision\\lab_task.keras\n",
      "\u001b[1m32/32\u001b[0m \u001b[32m━━━━━━━━━━━━━━━━━━━━\u001b[0m\u001b[37m\u001b[0m \u001b[1m30s\u001b[0m 931ms/step - acc: 0.9022 - loss: 0.2270 - val_acc: 0.8625 - val_loss: 0.2635\n",
      "Epoch 24/40\n",
      "\u001b[1m 1/32\u001b[0m \u001b[37m━━━━━━━━━━━━━━━━━━━━\u001b[0m \u001b[1m27s\u001b[0m 878ms/step - acc: 0.9062 - loss: 0.1685\n",
      "Epoch 24: val_loss did not improve from 0.26346\n",
      "\u001b[1m32/32\u001b[0m \u001b[32m━━━━━━━━━━━━━━━━━━━━\u001b[0m\u001b[37m\u001b[0m \u001b[1m2s\u001b[0m 41ms/step - acc: 0.9062 - loss: 0.1685 - val_acc: 0.8562 - val_loss: 0.2796\n",
      "Epoch 25/40\n",
      "\u001b[1m32/32\u001b[0m \u001b[32m━━━━━━━━━━━━━━━━━━━━\u001b[0m\u001b[37m\u001b[0m \u001b[1m0s\u001b[0m 876ms/step - acc: 0.9371 - loss: 0.1654 \n",
      "Epoch 25: val_loss did not improve from 0.26346\n",
      "\u001b[1m32/32\u001b[0m \u001b[32m━━━━━━━━━━━━━━━━━━━━\u001b[0m\u001b[37m\u001b[0m \u001b[1m29s\u001b[0m 919ms/step - acc: 0.9373 - loss: 0.1652 - val_acc: 0.8562 - val_loss: 0.2710\n",
      "Epoch 26/40\n",
      "\u001b[1m 1/32\u001b[0m \u001b[37m━━━━━━━━━━━━━━━━━━━━\u001b[0m \u001b[1m27s\u001b[0m 902ms/step - acc: 0.9375 - loss: 0.1296\n",
      "Epoch 26: val_loss improved from 0.26346 to 0.25411, saving model to /Users/shayannoor/Desktop/ml_code/ML Lab Spring 25/Computer vision\\lab_task.keras\n",
      "\u001b[1m32/32\u001b[0m \u001b[32m━━━━━━━━━━━━━━━━━━━━\u001b[0m\u001b[37m\u001b[0m \u001b[1m2s\u001b[0m 44ms/step - acc: 0.9375 - loss: 0.1296 - val_acc: 0.8750 - val_loss: 0.2541\n",
      "Epoch 27/40\n",
      "\u001b[1m32/32\u001b[0m \u001b[32m━━━━━━━━━━━━━━━━━━━━\u001b[0m\u001b[37m\u001b[0m \u001b[1m0s\u001b[0m 897ms/step - acc: 0.9685 - loss: 0.1075 \n",
      "Epoch 27: val_loss did not improve from 0.25411\n",
      "\u001b[1m32/32\u001b[0m \u001b[32m━━━━━━━━━━━━━━━━━━━━\u001b[0m\u001b[37m\u001b[0m \u001b[1m30s\u001b[0m 950ms/step - acc: 0.9682 - loss: 0.1079 - val_acc: 0.8438 - val_loss: 0.2966\n",
      "Epoch 28/40\n",
      "\u001b[1m 1/32\u001b[0m \u001b[37m━━━━━━━━━━━━━━━━━━━━\u001b[0m \u001b[1m41s\u001b[0m 1s/step - acc: 0.9375 - loss: 0.0989\n",
      "Epoch 28: val_loss did not improve from 0.25411\n",
      "\u001b[1m32/32\u001b[0m \u001b[32m━━━━━━━━━━━━━━━━━━━━\u001b[0m\u001b[37m\u001b[0m \u001b[1m3s\u001b[0m 46ms/step - acc: 0.9375 - loss: 0.0989 - val_acc: 0.8375 - val_loss: 0.3545\n",
      "Epoch 29/40\n",
      "\u001b[1m32/32\u001b[0m \u001b[32m━━━━━━━━━━━━━━━━━━━━\u001b[0m\u001b[37m\u001b[0m \u001b[1m0s\u001b[0m 952ms/step - acc: 0.9450 - loss: 0.1411 \n",
      "Epoch 29: val_loss did not improve from 0.25411\n",
      "\u001b[1m32/32\u001b[0m \u001b[32m━━━━━━━━━━━━━━━━━━━━\u001b[0m\u001b[37m\u001b[0m \u001b[1m32s\u001b[0m 1s/step - acc: 0.9454 - loss: 0.1406 - val_acc: 0.8250 - val_loss: 0.3702\n",
      "Epoch 30/40\n",
      "\u001b[1m 1/32\u001b[0m \u001b[37m━━━━━━━━━━━━━━━━━━━━\u001b[0m \u001b[1m41s\u001b[0m 1s/step - acc: 0.9375 - loss: 0.1090\n",
      "Epoch 30: val_loss did not improve from 0.25411\n",
      "\u001b[1m32/32\u001b[0m \u001b[32m━━━━━━━━━━━━━━━━━━━━\u001b[0m\u001b[37m\u001b[0m \u001b[1m3s\u001b[0m 49ms/step - acc: 0.9375 - loss: 0.1090 - val_acc: 0.8438 - val_loss: 0.3115\n",
      "Epoch 31/40\n",
      "\u001b[1m32/32\u001b[0m \u001b[32m━━━━━━━━━━━━━━━━━━━━\u001b[0m\u001b[37m\u001b[0m \u001b[1m0s\u001b[0m 962ms/step - acc: 0.9554 - loss: 0.1183 \n",
      "Epoch 31: val_loss did not improve from 0.25411\n",
      "\u001b[1m32/32\u001b[0m \u001b[32m━━━━━━━━━━━━━━━━━━━━\u001b[0m\u001b[37m\u001b[0m \u001b[1m32s\u001b[0m 1s/step - acc: 0.9554 - loss: 0.1178 - val_acc: 0.8500 - val_loss: 0.3436\n",
      "Epoch 32/40\n",
      "\u001b[1m 1/32\u001b[0m \u001b[37m━━━━━━━━━━━━━━━━━━━━\u001b[0m \u001b[1m14s\u001b[0m 473ms/step - acc: 0.8750 - loss: 0.1506\n",
      "Epoch 32: val_loss did not improve from 0.25411\n",
      "\u001b[1m32/32\u001b[0m \u001b[32m━━━━━━━━━━━━━━━━━━━━\u001b[0m\u001b[37m\u001b[0m \u001b[1m2s\u001b[0m 42ms/step - acc: 0.8750 - loss: 0.1506 - val_acc: 0.8062 - val_loss: 0.4087\n",
      "Epoch 33/40\n",
      "\u001b[1m32/32\u001b[0m \u001b[32m━━━━━━━━━━━━━━━━━━━━\u001b[0m\u001b[37m\u001b[0m \u001b[1m0s\u001b[0m 894ms/step - acc: 0.9568 - loss: 0.1296 \n",
      "Epoch 33: val_loss did not improve from 0.25411\n",
      "\u001b[1m32/32\u001b[0m \u001b[32m━━━━━━━━━━━━━━━━━━━━\u001b[0m\u001b[37m\u001b[0m \u001b[1m30s\u001b[0m 939ms/step - acc: 0.9567 - loss: 0.1299 - val_acc: 0.8500 - val_loss: 0.2858\n",
      "Epoch 34/40\n",
      "\u001b[1m 1/32\u001b[0m \u001b[37m━━━━━━━━━━━━━━━━━━━━\u001b[0m \u001b[1m30s\u001b[0m 969ms/step - acc: 0.9688 - loss: 0.0706\n",
      "Epoch 34: val_loss did not improve from 0.25411\n",
      "\u001b[1m32/32\u001b[0m \u001b[32m━━━━━━━━━━━━━━━━━━━━\u001b[0m\u001b[37m\u001b[0m \u001b[1m2s\u001b[0m 42ms/step - acc: 0.9688 - loss: 0.0706 - val_acc: 0.8500 - val_loss: 0.2757\n",
      "Epoch 35/40\n",
      "\u001b[1m32/32\u001b[0m \u001b[32m━━━━━━━━━━━━━━━━━━━━\u001b[0m\u001b[37m\u001b[0m \u001b[1m0s\u001b[0m 896ms/step - acc: 0.9754 - loss: 0.0752 \n",
      "Epoch 35: val_loss did not improve from 0.25411\n",
      "\u001b[1m32/32\u001b[0m \u001b[32m━━━━━━━━━━━━━━━━━━━━\u001b[0m\u001b[37m\u001b[0m \u001b[1m30s\u001b[0m 939ms/step - acc: 0.9751 - loss: 0.0757 - val_acc: 0.8687 - val_loss: 0.2754\n",
      "Epoch 36/40\n",
      "\u001b[1m 1/32\u001b[0m \u001b[37m━━━━━━━━━━━━━━━━━━━━\u001b[0m \u001b[1m29s\u001b[0m 956ms/step - acc: 1.0000 - loss: 0.0400\n",
      "Epoch 36: val_loss did not improve from 0.25411\n",
      "\u001b[1m32/32\u001b[0m \u001b[32m━━━━━━━━━━━━━━━━━━━━\u001b[0m\u001b[37m\u001b[0m \u001b[1m2s\u001b[0m 42ms/step - acc: 1.0000 - loss: 0.0400 - val_acc: 0.8687 - val_loss: 0.2830\n",
      "Epoch 37/40\n",
      "\u001b[1m32/32\u001b[0m \u001b[32m━━━━━━━━━━━━━━━━━━━━\u001b[0m\u001b[37m\u001b[0m \u001b[1m0s\u001b[0m 900ms/step - acc: 0.9524 - loss: 0.1885 \n",
      "Epoch 37: val_loss did not improve from 0.25411\n",
      "\u001b[1m32/32\u001b[0m \u001b[32m━━━━━━━━━━━━━━━━━━━━\u001b[0m\u001b[37m\u001b[0m \u001b[1m30s\u001b[0m 942ms/step - acc: 0.9528 - loss: 0.1862 - val_acc: 0.8562 - val_loss: 0.3900\n",
      "Epoch 38/40\n",
      "\u001b[1m 1/32\u001b[0m \u001b[37m━━━━━━━━━━━━━━━━━━━━\u001b[0m \u001b[1m28s\u001b[0m 917ms/step - acc: 0.8750 - loss: 0.2671\n",
      "Epoch 38: val_loss did not improve from 0.25411\n",
      "\u001b[1m32/32\u001b[0m \u001b[32m━━━━━━━━━━━━━━━━━━━━\u001b[0m\u001b[37m\u001b[0m \u001b[1m2s\u001b[0m 42ms/step - acc: 0.8750 - loss: 0.2671 - val_acc: 0.8500 - val_loss: 0.3546\n",
      "Epoch 39/40\n",
      "\u001b[1m32/32\u001b[0m \u001b[32m━━━━━━━━━━━━━━━━━━━━\u001b[0m\u001b[37m\u001b[0m \u001b[1m0s\u001b[0m 906ms/step - acc: 0.9659 - loss: 0.1180 \n",
      "Epoch 39: val_loss did not improve from 0.25411\n",
      "\u001b[1m32/32\u001b[0m \u001b[32m━━━━━━━━━━━━━━━━━━━━\u001b[0m\u001b[37m\u001b[0m \u001b[1m30s\u001b[0m 951ms/step - acc: 0.9658 - loss: 0.1181 - val_acc: 0.8250 - val_loss: 0.3363\n",
      "Epoch 40/40\n",
      "\u001b[1m 1/32\u001b[0m \u001b[37m━━━━━━━━━━━━━━━━━━━━\u001b[0m \u001b[1m29s\u001b[0m 954ms/step - acc: 0.9688 - loss: 0.1318\n",
      "Epoch 40: val_loss did not improve from 0.25411\n",
      "\u001b[1m32/32\u001b[0m \u001b[32m━━━━━━━━━━━━━━━━━━━━\u001b[0m\u001b[37m\u001b[0m \u001b[1m2s\u001b[0m 42ms/step - acc: 0.9688 - loss: 0.1318 - val_acc: 0.8438 - val_loss: 0.3278\n"
     ]
    }
   ],
   "source": [
    "model_history = model.fit(train_generator,\n",
    "                         validation_data =validation_generator,\n",
    "                         steps_per_epoch=train_generator.n//train_generator.batch_size,\n",
    "                         validation_steps = validation_generator.n//validation_generator.batch_size,\n",
    "                         epochs = 40,\n",
    "                         callbacks = callbacks)"
   ]
  },
  {
   "cell_type": "code",
   "execution_count": 27,
   "id": "0713be23-bab6-4d1a-9fd3-11c74fc31474",
   "metadata": {},
   "outputs": [
    {
     "data": {
      "text/plain": [
       "{'acc': [0.5634920597076416,\n",
       "  0.5625,\n",
       "  0.7638888955116272,\n",
       "  0.8125,\n",
       "  0.8313491940498352,\n",
       "  0.78125,\n",
       "  0.8601190447807312,\n",
       "  0.84375,\n",
       "  0.879960298538208,\n",
       "  0.9375,\n",
       "  0.891865074634552,\n",
       "  0.9375,\n",
       "  0.9077380895614624,\n",
       "  0.875,\n",
       "  0.9196428656578064,\n",
       "  0.875,\n",
       "  0.9126983880996704,\n",
       "  0.84375,\n",
       "  0.9384920597076416,\n",
       "  0.96875,\n",
       "  0.932539701461792,\n",
       "  0.90625,\n",
       "  0.9384920597076416,\n",
       "  0.90625,\n",
       "  0.9414682388305664,\n",
       "  0.9375,\n",
       "  0.95932537317276,\n",
       "  0.9375,\n",
       "  0.9583333134651184,\n",
       "  0.9375,\n",
       "  0.9580078125,\n",
       "  0.875,\n",
       "  0.9533730149269104,\n",
       "  0.96875,\n",
       "  0.9672619104385376,\n",
       "  1.0,\n",
       "  0.9642857313156128,\n",
       "  0.875,\n",
       "  0.9623016119003296,\n",
       "  0.96875],\n",
       " 'loss': [1.0783443450927734,\n",
       "  1.0179768800735474,\n",
       "  0.6089288592338562,\n",
       "  0.4168592393398285,\n",
       "  0.4212134778499603,\n",
       "  0.497334361076355,\n",
       "  0.36865848302841187,\n",
       "  0.3571350872516632,\n",
       "  0.2770080864429474,\n",
       "  0.26811477541923523,\n",
       "  0.2697313725948334,\n",
       "  0.2608978748321533,\n",
       "  0.22260241210460663,\n",
       "  0.20050375163555145,\n",
       "  0.19278687238693237,\n",
       "  0.33818310499191284,\n",
       "  0.19995395839214325,\n",
       "  0.2729187607765198,\n",
       "  0.1566818207502365,\n",
       "  0.07691570371389389,\n",
       "  0.1717173010110855,\n",
       "  0.17690517008304596,\n",
       "  0.15554483234882355,\n",
       "  0.16850502789020538,\n",
       "  0.15817666053771973,\n",
       "  0.12958243489265442,\n",
       "  0.12181998789310455,\n",
       "  0.09894115477800369,\n",
       "  0.12461952865123749,\n",
       "  0.10903128236532211,\n",
       "  0.10045690089464188,\n",
       "  0.1506161391735077,\n",
       "  0.1383877396583557,\n",
       "  0.07057943195104599,\n",
       "  0.08959442377090454,\n",
       "  0.03999091312289238,\n",
       "  0.11106988042593002,\n",
       "  0.2670910060405731,\n",
       "  0.12357819080352783,\n",
       "  0.13176527619361877],\n",
       " 'val_acc': [0.6312500238418579,\n",
       "  0.4749999940395355,\n",
       "  0.768750011920929,\n",
       "  0.7749999761581421,\n",
       "  0.7250000238418579,\n",
       "  0.7875000238418579,\n",
       "  0.8374999761581421,\n",
       "  0.8125,\n",
       "  0.824999988079071,\n",
       "  0.800000011920929,\n",
       "  0.8125,\n",
       "  0.8187500238418579,\n",
       "  0.8187500238418579,\n",
       "  0.862500011920929,\n",
       "  0.8500000238418579,\n",
       "  0.8062499761581421,\n",
       "  0.831250011920929,\n",
       "  0.862500011920929,\n",
       "  0.856249988079071,\n",
       "  0.7875000238418579,\n",
       "  0.862500011920929,\n",
       "  0.8374999761581421,\n",
       "  0.862500011920929,\n",
       "  0.856249988079071,\n",
       "  0.856249988079071,\n",
       "  0.875,\n",
       "  0.84375,\n",
       "  0.8374999761581421,\n",
       "  0.824999988079071,\n",
       "  0.84375,\n",
       "  0.8500000238418579,\n",
       "  0.8062499761581421,\n",
       "  0.8500000238418579,\n",
       "  0.8500000238418579,\n",
       "  0.8687499761581421,\n",
       "  0.8687499761581421,\n",
       "  0.856249988079071,\n",
       "  0.8500000238418579,\n",
       "  0.824999988079071,\n",
       "  0.84375],\n",
       " 'val_loss': [0.8917587995529175,\n",
       "  1.2099064588546753,\n",
       "  0.5604979395866394,\n",
       "  0.5534822940826416,\n",
       "  0.6815052628517151,\n",
       "  0.5188855528831482,\n",
       "  0.38974204659461975,\n",
       "  0.3840523660182953,\n",
       "  0.3279195725917816,\n",
       "  0.42765188217163086,\n",
       "  0.3734883666038513,\n",
       "  0.35607776045799255,\n",
       "  0.3139108419418335,\n",
       "  0.31110069155693054,\n",
       "  0.29165858030319214,\n",
       "  0.3869365155696869,\n",
       "  0.34734034538269043,\n",
       "  0.2848798632621765,\n",
       "  0.32267990708351135,\n",
       "  0.6078312993049622,\n",
       "  0.38490211963653564,\n",
       "  0.2962946891784668,\n",
       "  0.2634616494178772,\n",
       "  0.279604434967041,\n",
       "  0.27095797657966614,\n",
       "  0.2541128098964691,\n",
       "  0.2965976893901825,\n",
       "  0.3545096516609192,\n",
       "  0.3702395558357239,\n",
       "  0.3114651143550873,\n",
       "  0.3436189293861389,\n",
       "  0.4087374210357666,\n",
       "  0.2858235239982605,\n",
       "  0.27567997574806213,\n",
       "  0.27544569969177246,\n",
       "  0.2829647958278656,\n",
       "  0.3900294601917267,\n",
       "  0.3545553684234619,\n",
       "  0.3363279402256012,\n",
       "  0.32779163122177124]}"
      ]
     },
     "execution_count": 27,
     "metadata": {},
     "output_type": "execute_result"
    }
   ],
   "source": [
    "model_history.history"
   ]
  },
  {
   "cell_type": "code",
   "execution_count": 28,
   "id": "8927ffc9-7ac7-43d9-acff-cfd4f306195a",
   "metadata": {},
   "outputs": [
    {
     "data": {
      "image/png": "[encoded data removed]",
      "text/plain": [
       "<Figure size 640x480 with 1 Axes>"
      ]
     },
     "metadata": {},
     "output_type": "display_data"
    },
    {
     "data": {
      "image/png": "[encoded data removed]",
      "text/plain": [
       "<Figure size 640x480 with 1 Axes>"
      ]
     },
     "metadata": {},
     "output_type": "display_data"
    },
    {
     "data": {
      "text/plain": [
       "<Figure size 640x480 with 0 Axes>"
      ]
     },
     "metadata": {},
     "output_type": "display_data"
    }
   ],
   "source": [
    "acc = model_history.history['acc']\n",
    "val_acc = model_history.history['val_acc']\n",
    "loss = model_history.history['loss']\n",
    "val_loss = model_history.history['val_loss']\n",
    "epochs = range(1, len(acc) + 1)\n",
    "plt.plot(epochs, acc, 'bo', label='Training acc')\n",
    "plt.plot(epochs, val_acc, 'b', label='Validation acc')\n",
    "plt.title('Training and validation accuracy')\n",
    "plt.legend()\n",
    "plt.figure()\n",
    "plt.plot(epochs, loss, 'bo', label='Training loss')\n",
    "plt.plot(epochs, val_loss, 'b', label='Validation loss')\n",
    "plt.title('Training and validation loss')\n",
    "plt.legend()\n",
    "plt.show()\n",
    "plt.savefig(r'C:\\Users\\Administrator\\Downloads\\ML Lab\\Computer vision\\lab11\\model_Accuracy.png')"
   ]
  },
  {
   "cell_type": "code",
   "execution_count": 35,
   "id": "a41be203-be21-46b7-a78e-fdab1d343a3e",
   "metadata": {},
   "outputs": [
    {
     "name": "stdout",
     "output_type": "stream",
     "text": [
      "Found 120 images belonging to 4 classes.\n",
      "\u001b[1m4/4\u001b[0m \u001b[32m━━━━━━━━━━━━━━━━━━━━\u001b[0m\u001b[37m\u001b[0m \u001b[1m1s\u001b[0m 222ms/step\n"
     ]
    },
    {
     "data": {
      "image/png": "[encoded data removed]",
      "text/plain": [
       "<Figure size 640x480 with 2 Axes>"
      ]
     },
     "metadata": {},
     "output_type": "display_data"
    }
   ],
   "source": [
    "model = load_model(r'/Users/shayannoor/Desktop/ml_code/ML Lab Spring 25/Computer vision\\lab_task.keras')\n",
    "test_datagen = ImageDataGenerator(rescale=1./255)\n",
    "test_generator = test_datagen.flow_from_directory(test_dir, target_size=(256, 256), batch_size=32, shuffle=False, class_mode='categorical')\n",
    "label=test_generator.labels\n",
    "preds=model.predict(test_generator)\n",
    "pred = np.argmax(preds, axis = 1)\n",
    "cm = confusion_matrix(label, pred)\n",
    "disp = ConfusionMatrixDisplay(confusion_matrix=cm,  display_labels=['Cercospora', 'common_rust','healthy', 'leaf_blight'])\n",
    "disp.plot()\n",
    "plt.show()\n",
    "#plt.savefig(r'C:\\Users\\Administrator\\Downloads\\ML Lab\\Computer vision\\lab11\\confusion_matrics.jpg')"
   ]
  },
  {
   "cell_type": "code",
   "execution_count": 36,
   "id": "97a5a818-29ad-41e7-9ced-34ea44990aae",
   "metadata": {},
   "outputs": [
    {
     "name": "stdout",
     "output_type": "stream",
     "text": [
      "              precision    recall  f1-score   support\n",
      "\n",
      "  Cercospora       0.56      1.00      0.71        10\n",
      " common_rust       0.98      0.98      0.98        50\n",
      "     healthy       1.00      1.00      1.00        50\n",
      " leaf_blight       1.00      0.20      0.33        10\n",
      "\n",
      "    accuracy                           0.93       120\n",
      "   macro avg       0.88      0.80      0.76       120\n",
      "weighted avg       0.95      0.93      0.91       120\n",
      "\n"
     ]
    }
   ],
   "source": [
    "print(classification_report(label, pred, target_names=['Cercospora', 'common_rust','healthy', 'leaf_blight']))"
   ]
  },
  {
   "cell_type": "code",
   "execution_count": null,
   "id": "dfdaccf2-d4c2-455a-9831-deb8a1f1b164",
   "metadata": {},
   "outputs": [],
   "source": []
  },
  {
   "cell_type": "code",
   "execution_count": null,
   "id": "4fd4a63c-0560-4338-984a-482555411ca3",
   "metadata": {},
   "outputs": [],
   "source": []
  }
 ],
 "metadata": {
  "kernelspec": {
   "display_name": "Python 3 (ipykernel)",
   "language": "python",
   "name": "python3"
  },
  "language_info": {
   "codemirror_mode": {
    "name": "ipython",
    "version": 3
   },
   "file_extension": ".py",
   "mimetype": "text/x-python",
   "name": "python",
   "nbconvert_exporter": "python",
   "pygments_lexer": "ipython3",
   "version": "3.11.3"
  }
 },
 "nbformat": 4,
 "nbformat_minor": 5
}
