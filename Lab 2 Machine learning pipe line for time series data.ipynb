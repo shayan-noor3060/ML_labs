{
 "cells": [
  {
   "cell_type": "markdown",
   "id": "6b7a6052",
   "metadata": {},
   "source": [
    "## Step 1 Libraries imports"
   ]
  },
  {
   "cell_type": "code",
   "execution_count": 1,
   "id": "dd947ccd",
   "metadata": {},
   "outputs": [],
   "source": [
    "from tensorflow.keras.callbacks import ModelCheckpoint\n",
    "from tensorflow.keras.optimizers import Adam\n",
    "from tensorflow.keras.optimizers import SGD\n",
    "import pandas as pd\n",
    "import numpy as np"
   ]
  },
  {
   "cell_type": "markdown",
   "id": "a14cc950",
   "metadata": {},
   "source": [
    "# Step 2 Data preprocessing "
   ]
  },
  {
   "cell_type": "markdown",
   "id": "76fe4625",
   "metadata": {},
   "source": [
    "### Step 2 (a) Data reading, data splitting, data description, outlier identification, missing values identification, and handling \n",
    "### Step 2 (b) Feature engineering (calendric and peak hours inclusion) \n",
    "### Step 2 (c) Normalization, one-hot encoding, and cyclic features encoding "
   ]
  },
  {
   "cell_type": "markdown",
   "id": "d5417eb1",
   "metadata": {},
   "source": [
    "# Step 3 Model "
   ]
  },
  {
   "cell_type": "markdown",
   "id": "d198b055",
   "metadata": {},
   "source": [
    "### Checkpoints and callback\n",
    "### Data preparation for the model \n",
    "### Define model, compile model and fitting model "
   ]
  },
  {
   "cell_type": "markdown",
   "id": "3244153c",
   "metadata": {},
   "source": [
    "# Step 4: Result analysis \n",
    "#### Model tuning (learning rate decay and increase batch size) \n"
   ]
  },
  {
   "cell_type": "code",
   "execution_count": null,
   "id": "0f3cc9f7",
   "metadata": {},
   "outputs": [],
   "source": []
  },
  {
   "cell_type": "code",
   "execution_count": null,
   "id": "cf308242",
   "metadata": {},
   "outputs": [],
   "source": []
  },
  {
   "cell_type": "code",
   "execution_count": null,
   "id": "5543d7fc",
   "metadata": {},
   "outputs": [],
   "source": []
  }
 ],
 "metadata": {
  "kernelspec": {
   "display_name": "Python 3 (ipykernel)",
   "language": "python",
   "name": "python3"
  },
  "language_info": {
   "codemirror_mode": {
    "name": "ipython",
    "version": 3
   },
   "file_extension": ".py",
   "mimetype": "text/x-python",
   "name": "python",
   "nbconvert_exporter": "python",
   "pygments_lexer": "ipython3",
   "version": "3.9.18"
  }
 },
 "nbformat": 4,
 "nbformat_minor": 5
}
